{
 "cells": [
  {
   "cell_type": "code",
   "execution_count": 17,
   "metadata": {},
   "outputs": [],
   "source": [
    "#!pip install fuzzywuzzy chardet\n",
    "#!pip install python-Levenshtein\n"
   ]
  },
  {
   "cell_type": "code",
   "execution_count": 23,
   "metadata": {},
   "outputs": [],
   "source": [
    "import pandas as pd\n",
    "import seaborn as sns\n",
    "import matplotlib.pyplot as plt\n",
    "import numpy as np \n",
    "import fuzzywuzzy\n",
    "from fuzzywuzzy import process\n",
    "import chardet\n",
    "np.random.seed(0)\n",
    "import warnings\n",
    "warnings.filterwarnings('ignore')\n",
    "import plotly.express as px"
   ]
  },
  {
   "cell_type": "markdown",
   "metadata": {},
   "source": [
    "- `fuzzywuzzy` is a library for string matching. It uses Levenshtein Distance to calculate the differences between sequences.\n",
    "- `chardet` is a character encoding detection library. It helps in detecting the encoding of text data."
   ]
  },
  {
   "cell_type": "code",
   "execution_count": null,
   "metadata": {},
   "outputs": [
    {
     "data": {
      "text/plain": [
       "{'encoding': 'Windows-1252', 'confidence': 0.73, 'language': ''}"
      ]
     },
     "execution_count": 2,
     "metadata": {},
     "output_type": "execute_result"
    }
   ],
   "source": [
    "#find out the encoding type of data\n",
    "with open(\"PakistanSuicideAttacks Ver 6 (10-October-2017).csv\", 'rb') as rawdata:\n",
    "    result = chardet.detect(rawdata.read(10000))\n",
    "result"
   ]
  },
  {
   "cell_type": "code",
   "execution_count": 3,
   "metadata": {},
   "outputs": [],
   "source": [
    "df = pd.read_csv('PakistanSuicideAttacks Ver 11 (30-November-2017).csv', encoding='Windows-1252')\n",
    "\n",
    "#display max columns\n",
    "pd.set_option('display.max_columns', None)\n",
    "\n",
    "df.head()"
   ]
  },
  {
   "cell_type": "code",
   "execution_count": 6,
   "metadata": {},
   "outputs": [
    {
     "name": "stdout",
     "output_type": "stream",
     "text": [
      "(496, 26)\n",
      "Index(['S#', 'Date', 'Islamic Date', 'Blast Day Type', 'Holiday Type', 'Time',\n",
      "       'City', 'Latitude', 'Longitude', 'Province', 'Location',\n",
      "       'Location Category', 'Location Sensitivity', 'Open/Closed Space',\n",
      "       'Influencing Event/Event', 'Target Type', 'Targeted Sect if any',\n",
      "       'Killed Min', 'Killed Max', 'Injured Min', 'Injured Max',\n",
      "       'No. of Suicide Blasts', 'Explosive Weight (max)', 'Hospital Names',\n",
      "       'Temperature(C)', 'Temperature(F)'],\n",
      "      dtype='object')\n"
     ]
    }
   ],
   "source": [
    "#check the shape of the data\n",
    "print(df.shape)\n",
    "\n",
    "#check df columns\n",
    "print(df.columns)"
   ]
  },
  {
   "cell_type": "markdown",
   "metadata": {},
   "source": [
    "let's drop the `S#` column from data as it is not useful"
   ]
  },
  {
   "cell_type": "code",
   "execution_count": 7,
   "metadata": {},
   "outputs": [],
   "source": [
    "#drop S# column\n",
    "df.drop(['S#'], axis=1, inplace=True)"
   ]
  },
  {
   "cell_type": "markdown",
   "metadata": {},
   "source": [
    "# Data Preprocessing"
   ]
  },
  {
   "cell_type": "code",
   "execution_count": 8,
   "metadata": {},
   "outputs": [
    {
     "name": "stdout",
     "output_type": "stream",
     "text": [
      "93\n",
      "----------\n",
      "['Islamabad' 'Karachi' 'Karachi ' 'Quetta' 'Rawalpindi' 'North waziristan'\n",
      " 'Kohat' 'Attock ' 'Sialkot' 'Lahore ' 'Swat' 'Hangu' 'Bannu'\n",
      " 'North Waziristan' 'Lasbela' 'Malakand ' 'Peshawar' 'Peshawar '\n",
      " 'D.I Khan ' 'Lakki Marwat' 'Tank' 'Islamabad ' 'Quetta ' 'Gujrat'\n",
      " 'Charsadda' 'Tank ' 'Swat ' 'D.I Khan' 'Kohat ' 'Kuram Agency '\n",
      " 'Shangla ' 'Bajaur Agency' 'South Waziristan' 'Haripur' 'bannu'\n",
      " 'karachi ' 'Sargodha' 'Nowshehra' 'Charsadda ' 'Mohmand agency'\n",
      " 'Dara Adam Khel' 'Khyber Agency' 'Mardan' 'Bhakkar ' 'Orakzai Agency'\n",
      " 'Mohmand Agency' 'Buner' 'D.G Khan ' 'Pishin' 'Chakwal ' 'Lahore'\n",
      " 'Upper Dir' 'Muzaffarabad' 'swat' 'Totalai' 'Multan' 'D.G Khan'\n",
      " 'Lower Dir' 'Lakki marwat' 'Sudhanoti' 'Khyber Agency ' 'peshawar'\n",
      " 'Poonch' 'Mansehra' 'Karak' 'Mohmand Agency ' 'South waziristan'\n",
      " 'lakki marwat' 'Swabi ' 'Dara Adam khel' 'karachi' 'Shikarpur' 'Sukkur'\n",
      " 'Chaman' 'D. I Khan' 'Khanewal' 'Fateh Jang' 'Taftan' 'Tirah Valley'\n",
      " 'Wagah' 'Zhob' 'KURRAM AGENCY' 'ATTOCK' 'MULTAN' 'Taunsa' 'Jacobabad'\n",
      " 'Shabqadar-Charsadda' 'Khuzdar' 'Ghallanai, Mohmand Agency ' 'Hayatabad'\n",
      " 'Mosal Kor, Mohmand Agency' 'Sehwan town' 'Tangi, Charsadda District']\n"
     ]
    }
   ],
   "source": [
    "#get the unique values in cities column\n",
    "print(df['City'].nunique())\n",
    "print('-'*10)\n",
    "print(df['City'].unique())"
   ]
  },
  {
   "cell_type": "markdown",
   "metadata": {},
   "source": [
    "By looking at this I can see that their are inconsistencies in the data.\n",
    "- first, I'm gonna turn the values in lowercase.\n",
    "- second, I'm gonna remove any whitespaces present."
   ]
  },
  {
   "cell_type": "code",
   "execution_count": 9,
   "metadata": {},
   "outputs": [
    {
     "name": "stdout",
     "output_type": "stream",
     "text": [
      "67\n",
      "------------------------------\n",
      "['islamabad' 'karachi' 'quetta' 'rawalpindi' 'north waziristan' 'kohat'\n",
      " 'attock' 'sialkot' 'lahore' 'swat' 'hangu' 'bannu' 'lasbela' 'malakand'\n",
      " 'peshawar' 'd.i khan' 'lakki marwat' 'tank' 'gujrat' 'charsadda'\n",
      " 'kuram agency' 'shangla' 'bajaur agency' 'south waziristan' 'haripur'\n",
      " 'sargodha' 'nowshehra' 'mohmand agency' 'dara adam khel' 'khyber agency'\n",
      " 'mardan' 'bhakkar' 'orakzai agency' 'buner' 'd.g khan' 'pishin' 'chakwal'\n",
      " 'upper dir' 'muzaffarabad' 'totalai' 'multan' 'lower dir' 'sudhanoti'\n",
      " 'poonch' 'mansehra' 'karak' 'swabi' 'shikarpur' 'sukkur' 'chaman'\n",
      " 'd. i khan' 'khanewal' 'fateh jang' 'taftan' 'tirah valley' 'wagah'\n",
      " 'zhob' 'kurram agency' 'taunsa' 'jacobabad' 'shabqadar-charsadda'\n",
      " 'khuzdar' 'ghallanai, mohmand agency' 'hayatabad'\n",
      " 'mosal kor, mohmand agency' 'sehwan town' 'tangi, charsadda district']\n"
     ]
    }
   ],
   "source": [
    "#convert the cities to lower case\n",
    "df['City'] = df['City'].str.lower()\n",
    "#remove whitespaces\n",
    "df['City'] = df['City'].str.strip()\n",
    "\n",
    "#let's see again the unique values in cities column\n",
    "print(df['City'].nunique())\n",
    "print('-'*30)\n",
    "print(df['City'].unique())"
   ]
  },
  {
   "cell_type": "markdown",
   "metadata": {},
   "source": [
    "As a Pakistani we know that 'd.i khan' & 'd. i khan' is the same but those who don't know. I'm going to use the fuzzywuzzy package to help identify which string are closest to each other. \n",
    "\n",
    "- `Fuzzy matching`: The process of automatically finding text strings that are very similar to the target string. \n",
    "- Fuzzywuzzy returns a ratio given two strings. The closer the ratio is to 100, the smaller the edit distance between the two strings. Here, we're going to get the ten strings from our list of cities that have the closest distance to \"d.i khan\"."
   ]
  },
  {
   "cell_type": "code",
   "execution_count": 10,
   "metadata": {},
   "outputs": [
    {
     "data": {
      "text/plain": [
       "[('d.i khan', 100),\n",
       " ('d. i khan', 100),\n",
       " ('d.g khan', 88),\n",
       " ('khanewal', 50),\n",
       " ('sudhanoti', 47),\n",
       " ('kohat', 46),\n",
       " ('hangu', 46),\n",
       " ('dara adam khel', 45),\n",
       " ('mardan', 43),\n",
       " ('pishin', 43)]"
      ]
     },
     "execution_count": 10,
     "metadata": {},
     "output_type": "execute_result"
    }
   ],
   "source": [
    "#get the top-10 closest matches to 'd.i khan'\n",
    "matches = fuzzywuzzy.process.extract('d.i khan', df['City'].unique(), limit=10, scorer=fuzzywuzzy.fuzz.token_sort_ratio)\n",
    "matches"
   ]
  },
  {
   "cell_type": "markdown",
   "metadata": {},
   "source": [
    "we can see it has the match 100. so, we are gonna use `d.i khan`\n",
    "- Now to remove this we can either make a function or use replace method. I've done both of them to practice."
   ]
  },
  {
   "cell_type": "code",
   "execution_count": 11,
   "metadata": {},
   "outputs": [
    {
     "name": "stdout",
     "output_type": "stream",
     "text": [
      "66\n",
      "------------------------------\n",
      "['islamabad' 'karachi' 'quetta' 'rawalpindi' 'north waziristan' 'kohat'\n",
      " 'attock' 'sialkot' 'lahore' 'swat' 'hangu' 'bannu' 'lasbela' 'malakand'\n",
      " 'peshawar' 'd.i khan' 'lakki marwat' 'tank' 'gujrat' 'charsadda'\n",
      " 'kuram agency' 'shangla' 'bajaur agency' 'south waziristan' 'haripur'\n",
      " 'sargodha' 'nowshehra' 'mohmand agency' 'dara adam khel' 'khyber agency'\n",
      " 'mardan' 'bhakkar' 'orakzai agency' 'buner' 'd.g khan' 'pishin' 'chakwal'\n",
      " 'upper dir' 'muzaffarabad' 'totalai' 'multan' 'lower dir' 'sudhanoti'\n",
      " 'poonch' 'mansehra' 'karak' 'swabi' 'shikarpur' 'sukkur' 'chaman'\n",
      " 'khanewal' 'fateh jang' 'taftan' 'tirah valley' 'wagah' 'zhob'\n",
      " 'kurram agency' 'taunsa' 'jacobabad' 'shabqadar-charsadda' 'khuzdar'\n",
      " 'ghallanai, mohmand agency' 'hayatabad' 'mosal kor, mohmand agency'\n",
      " 'sehwan town' 'tangi, charsadda district']\n"
     ]
    }
   ],
   "source": [
    "# from each row replace the 'd. i khan' to 'd.i khan'\n",
    "df['City'] = df['City'].replace('d. i khan', 'd.i khan')\n",
    "\n",
    "#let's see again the unique values in city column\n",
    "print(df['City'].nunique())\n",
    "print('-'*30)\n",
    "print(df['City'].unique())"
   ]
  },
  {
   "cell_type": "code",
   "execution_count": null,
   "metadata": {},
   "outputs": [],
   "source": [
    "#make afunction to replace 'd. i khan' with d.i khan\n",
    "def replace_name(df, column, string_to_match, min_ratio=100):\n",
    "    strings = df[column].unique()\n",
    "\n",
    "    match_words = fuzzywuzzy.process.extract(string_to_match, strings, limit=10, scorer=fuzzywuzzy.fuzz.token_sort_ratio)\n",
    "    close_matches = [match[0] for match in match_words if match[1] >= min_ratio]\n",
    "    \n",
    "    matching_row = df[column].isin(close_matches)\n",
    "    df.loc[matching_row, column] = string_to_match\n",
    "\n",
    "#apply the function\n",
    "replace_name(df=df, column='City', string_to_match='d.i khan' )\n",
    "\n",
    "#let's see again the unique values in city column\n",
    "print(df['City'].nunique())\n",
    "print('-'*30)\n",
    "print(df['City'].unique())"
   ]
  },
  {
   "cell_type": "markdown",
   "metadata": {},
   "source": [
    "I have analysed each column and some columns needs to be preprocessed. You can check that from the data."
   ]
  },
  {
   "cell_type": "code",
   "execution_count": 12,
   "metadata": {},
   "outputs": [],
   "source": [
    "#replace baluchistan with balochistan and convert into lower case.\n",
    "df['Province'] = df['Province'].replace('Baluchistan', 'Balochistan')\n",
    "df['Province'] = df['Province'].str.lower()\n",
    "\n",
    "# lower case the values of location category\n",
    "df['Location Category'] = df['Location Category'].str.lower()\n",
    "\n",
    "# turn the values into lower case\n",
    "df['Target Type'] = df['Target Type'].str.lower()\n",
    "#remove whitespaces\n",
    "df['Target Type'] = df['Target Type'].str.strip()\n",
    "\n",
    "# turn the values into lower case\n",
    "df['Targeted Sect if any'] = df['Targeted Sect if any'].str.lower()\n",
    "\n",
    "#replace the values with correct spellings\n",
    "df['Holiday Type'] = df['Holiday Type'].replace('Christmas/ birthday of Quaid-e-Azam', 'Christmas/birthday of Quaid-e-Azam')\n",
    "df['Holiday Type'] = df['Holiday Type'].replace('Ashura', 'Ashura Holiday')\n",
    "df['Holiday Type'] = df['Holiday Type'].replace('Eid ul Azha Holiday', 'Eid-ul-azha')\n",
    "\n",
    "#turn into lower case\n",
    "df['Open/Closed Space'] = df['Open/Closed Space'].str.lower()\n",
    "#remove whitespaces\n",
    "df['Open/Closed Space'] = df['Open/Closed Space'].str.strip()"
   ]
  },
  {
   "cell_type": "code",
   "execution_count": 20,
   "metadata": {},
   "outputs": [],
   "source": [
    "#convert the date column to datetime\n",
    "df['Date/Time'] = pd.to_datetime(df['Date'], errors='coerce', infer_datetime_format=True)\n",
    "\n",
    "#make a new column name year\n",
    "df['Year'] = df['Date/Time'].dt.year\n",
    "\n",
    "#change the datatype to integer\n",
    "df['Year'] = df['Year'].astype('Int64')"
   ]
  },
  {
   "cell_type": "code",
   "execution_count": 13,
   "metadata": {},
   "outputs": [],
   "source": [
    "#remove the inconsistency present in the Injured Max Column\n",
    "df['Injured Max'] = df['Injured Max'].replace('http://www.samaa.tv/pakistan/29-Jun-2015/shootout-after-suicide-attack-in-lahore', '')"
   ]
  },
  {
   "cell_type": "code",
   "execution_count": 14,
   "metadata": {},
   "outputs": [],
   "source": [
    "# Fill null values in 'Injured Max' column with corresponding values from 'Injured Min' column\n",
    "df['Injured Max'] = df['Injured Max'].fillna(df['Injured Min'])"
   ]
  },
  {
   "cell_type": "code",
   "execution_count": 15,
   "metadata": {},
   "outputs": [
    {
     "data": {
      "text/html": [
       "<div>\n",
       "<style scoped>\n",
       "    .dataframe tbody tr th:only-of-type {\n",
       "        vertical-align: middle;\n",
       "    }\n",
       "\n",
       "    .dataframe tbody tr th {\n",
       "        vertical-align: top;\n",
       "    }\n",
       "\n",
       "    .dataframe thead th {\n",
       "        text-align: right;\n",
       "    }\n",
       "</style>\n",
       "<table border=\"1\" class=\"dataframe\">\n",
       "  <thead>\n",
       "    <tr style=\"text-align: right;\">\n",
       "      <th></th>\n",
       "      <th>index</th>\n",
       "      <th>Date</th>\n",
       "      <th>Islamic Date</th>\n",
       "      <th>Blast Day Type</th>\n",
       "      <th>Holiday Type</th>\n",
       "      <th>Time</th>\n",
       "      <th>City</th>\n",
       "      <th>Latitude</th>\n",
       "      <th>Longitude</th>\n",
       "      <th>Province</th>\n",
       "      <th>Location</th>\n",
       "      <th>Location Category</th>\n",
       "      <th>Location Sensitivity</th>\n",
       "      <th>Open/Closed Space</th>\n",
       "      <th>Influencing Event/Event</th>\n",
       "      <th>Target Type</th>\n",
       "      <th>Targeted Sect if any</th>\n",
       "      <th>Killed Min</th>\n",
       "      <th>Killed Max</th>\n",
       "      <th>Injured Min</th>\n",
       "      <th>Injured Max</th>\n",
       "      <th>No. of Suicide Blasts</th>\n",
       "      <th>Explosive Weight (max)</th>\n",
       "      <th>Hospital Names</th>\n",
       "      <th>Temperature(C)</th>\n",
       "      <th>Temperature(F)</th>\n",
       "    </tr>\n",
       "  </thead>\n",
       "  <tbody>\n",
       "    <tr>\n",
       "      <th>0</th>\n",
       "      <td>15</td>\n",
       "      <td>Thursday-April 28-2005</td>\n",
       "      <td>19 Raby` al-awal 1426 A.H</td>\n",
       "      <td>Working Day</td>\n",
       "      <td>NaN</td>\n",
       "      <td>NaN</td>\n",
       "      <td>swat</td>\n",
       "      <td>35.222700</td>\n",
       "      <td>72.4258</td>\n",
       "      <td>kpk</td>\n",
       "      <td>Baidara village of Matta-District Swat</td>\n",
       "      <td>park/ground</td>\n",
       "      <td>Low</td>\n",
       "      <td>open</td>\n",
       "      <td>NaN</td>\n",
       "      <td>civilian</td>\n",
       "      <td>NaN</td>\n",
       "      <td>NaN</td>\n",
       "      <td>2.0</td>\n",
       "      <td>NaN</td>\n",
       "      <td>NaN</td>\n",
       "      <td>1.0</td>\n",
       "      <td>NaN</td>\n",
       "      <td>NaN</td>\n",
       "      <td>19.935</td>\n",
       "      <td>67.883</td>\n",
       "    </tr>\n",
       "    <tr>\n",
       "      <th>1</th>\n",
       "      <td>31</td>\n",
       "      <td>Saturday-February 3-2007</td>\n",
       "      <td>15 MuHarram 1428 A.H.</td>\n",
       "      <td>Working Day</td>\n",
       "      <td>NaN</td>\n",
       "      <td>6:17:00 AM</td>\n",
       "      <td>lakki marwat</td>\n",
       "      <td>32.601800</td>\n",
       "      <td>70.9148</td>\n",
       "      <td>kpk</td>\n",
       "      <td>Ghazanikhel Market \\nLaik marwat</td>\n",
       "      <td>market</td>\n",
       "      <td>Low</td>\n",
       "      <td>open</td>\n",
       "      <td>NaN</td>\n",
       "      <td>civilian</td>\n",
       "      <td>NaN</td>\n",
       "      <td>NaN</td>\n",
       "      <td>1.0</td>\n",
       "      <td>NaN</td>\n",
       "      <td>NaN</td>\n",
       "      <td>1.0</td>\n",
       "      <td>NaN</td>\n",
       "      <td>NaN</td>\n",
       "      <td>17.520</td>\n",
       "      <td>63.536</td>\n",
       "    </tr>\n",
       "    <tr>\n",
       "      <th>2</th>\n",
       "      <td>61</td>\n",
       "      <td>Saturday-September 1-2007</td>\n",
       "      <td>19 SHa`baan 1428 A.H</td>\n",
       "      <td>Working Day</td>\n",
       "      <td>NaN</td>\n",
       "      <td>NaN</td>\n",
       "      <td>south waziristan</td>\n",
       "      <td>32.320200</td>\n",
       "      <td>69.8597</td>\n",
       "      <td>fata</td>\n",
       "      <td>check-post of the troops in the Jandola area o...</td>\n",
       "      <td>military</td>\n",
       "      <td>High</td>\n",
       "      <td>closed</td>\n",
       "      <td>NaN</td>\n",
       "      <td>military</td>\n",
       "      <td>NaN</td>\n",
       "      <td>NaN</td>\n",
       "      <td>0.0</td>\n",
       "      <td>NaN</td>\n",
       "      <td>NaN</td>\n",
       "      <td>1.0</td>\n",
       "      <td>NaN</td>\n",
       "      <td>NaN</td>\n",
       "      <td>29.580</td>\n",
       "      <td>85.244</td>\n",
       "    </tr>\n",
       "    <tr>\n",
       "      <th>3</th>\n",
       "      <td>62</td>\n",
       "      <td>Tuesday-September 4-2007</td>\n",
       "      <td>22 SHa`baan 1428 A.H</td>\n",
       "      <td>Working Day</td>\n",
       "      <td>NaN</td>\n",
       "      <td>7:15:00 AM</td>\n",
       "      <td>rawalpindi</td>\n",
       "      <td>33.605800</td>\n",
       "      <td>73.0437</td>\n",
       "      <td>punjab</td>\n",
       "      <td>1.Qasim Market Defence Ministry Bus</td>\n",
       "      <td>mobile</td>\n",
       "      <td>High</td>\n",
       "      <td>open</td>\n",
       "      <td>NaN</td>\n",
       "      <td>military</td>\n",
       "      <td>NaN</td>\n",
       "      <td>18.0</td>\n",
       "      <td>25.0</td>\n",
       "      <td>NaN</td>\n",
       "      <td>NaN</td>\n",
       "      <td>2.0</td>\n",
       "      <td>NaN</td>\n",
       "      <td>1.District Headquarters Rwp\\n2.Rwp General Hos...</td>\n",
       "      <td>27.150</td>\n",
       "      <td>80.870</td>\n",
       "    </tr>\n",
       "    <tr>\n",
       "      <th>4</th>\n",
       "      <td>63</td>\n",
       "      <td>Tuesday-September 4-2007</td>\n",
       "      <td>22 SHa`baan 1428 A.H</td>\n",
       "      <td>Working Day</td>\n",
       "      <td>NaN</td>\n",
       "      <td>7:15:00 AM</td>\n",
       "      <td>rawalpindi</td>\n",
       "      <td>33.605800</td>\n",
       "      <td>73.0437</td>\n",
       "      <td>punjab</td>\n",
       "      <td>Near R.A Bazar behind general Headquarters</td>\n",
       "      <td>market</td>\n",
       "      <td>Low</td>\n",
       "      <td>open</td>\n",
       "      <td>NaN</td>\n",
       "      <td>military</td>\n",
       "      <td>NaN</td>\n",
       "      <td>NaN</td>\n",
       "      <td>7.0</td>\n",
       "      <td>NaN</td>\n",
       "      <td>NaN</td>\n",
       "      <td>1.0</td>\n",
       "      <td>NaN</td>\n",
       "      <td>1.District Headquarters Rwp\\n2.Rwp General Hos...</td>\n",
       "      <td>27.150</td>\n",
       "      <td>80.870</td>\n",
       "    </tr>\n",
       "    <tr>\n",
       "      <th>5</th>\n",
       "      <td>86</td>\n",
       "      <td>Tuesday-January 15-2008</td>\n",
       "      <td>6 MuHarram 1429 A.H</td>\n",
       "      <td>Working Day</td>\n",
       "      <td>NaN</td>\n",
       "      <td>10:30:00 AM</td>\n",
       "      <td>mohmand agency</td>\n",
       "      <td>32.974600</td>\n",
       "      <td>70.1456</td>\n",
       "      <td>fata</td>\n",
       "      <td>checkpoint of security forces in Khapakh Kando...</td>\n",
       "      <td>military</td>\n",
       "      <td>High</td>\n",
       "      <td>open</td>\n",
       "      <td>Frontier Constabulary</td>\n",
       "      <td>military</td>\n",
       "      <td>NaN</td>\n",
       "      <td>1.0</td>\n",
       "      <td>1.0</td>\n",
       "      <td>NaN</td>\n",
       "      <td>NaN</td>\n",
       "      <td>1.0</td>\n",
       "      <td>NaN</td>\n",
       "      <td>Ghalani hospital</td>\n",
       "      <td>5.145</td>\n",
       "      <td>41.261</td>\n",
       "    </tr>\n",
       "    <tr>\n",
       "      <th>6</th>\n",
       "      <td>138</td>\n",
       "      <td>Thursday-November 20-2008</td>\n",
       "      <td>22 Thw al-Qi`dah 1429 A.H.</td>\n",
       "      <td>Working Day</td>\n",
       "      <td>NaN</td>\n",
       "      <td>during maghrib prayer</td>\n",
       "      <td>bajaur agency</td>\n",
       "      <td>34.871800</td>\n",
       "      <td>71.5249</td>\n",
       "      <td>fata</td>\n",
       "      <td>Mosque in Badaan area of mamund</td>\n",
       "      <td>religious</td>\n",
       "      <td>Medium</td>\n",
       "      <td>closed</td>\n",
       "      <td>maghrib prayer</td>\n",
       "      <td>religious</td>\n",
       "      <td>sunni</td>\n",
       "      <td>NaN</td>\n",
       "      <td>9.0</td>\n",
       "      <td>NaN</td>\n",
       "      <td>NaN</td>\n",
       "      <td>1.0</td>\n",
       "      <td>NaN</td>\n",
       "      <td>District hospital Bajur</td>\n",
       "      <td>14.170</td>\n",
       "      <td>57.506</td>\n",
       "    </tr>\n",
       "    <tr>\n",
       "      <th>7</th>\n",
       "      <td>149</td>\n",
       "      <td>Thursday-February 5-2009</td>\n",
       "      <td>10 safar 1430 A.H.</td>\n",
       "      <td>Working Day</td>\n",
       "      <td>NaN</td>\n",
       "      <td>NaN</td>\n",
       "      <td>swat</td>\n",
       "      <td>35.383300</td>\n",
       "      <td>72.1833</td>\n",
       "      <td>kpk</td>\n",
       "      <td>near a Police station in the Mingora town of S...</td>\n",
       "      <td>police</td>\n",
       "      <td>High</td>\n",
       "      <td>open</td>\n",
       "      <td>NaN</td>\n",
       "      <td>police</td>\n",
       "      <td>NaN</td>\n",
       "      <td>NaN</td>\n",
       "      <td>12.0</td>\n",
       "      <td>NaN</td>\n",
       "      <td>NaN</td>\n",
       "      <td>NaN</td>\n",
       "      <td>NaN</td>\n",
       "      <td>NaN</td>\n",
       "      <td>9.435</td>\n",
       "      <td>48.983</td>\n",
       "    </tr>\n",
       "    <tr>\n",
       "      <th>8</th>\n",
       "      <td>153</td>\n",
       "      <td>Saturday-February 21-2009</td>\n",
       "      <td>26 safar 1430 A.H</td>\n",
       "      <td>Working Day</td>\n",
       "      <td>NaN</td>\n",
       "      <td>NaN</td>\n",
       "      <td>bannu</td>\n",
       "      <td>32.986100</td>\n",
       "      <td>70.6042</td>\n",
       "      <td>kpk</td>\n",
       "      <td>Lakki town</td>\n",
       "      <td>police</td>\n",
       "      <td>High</td>\n",
       "      <td>open</td>\n",
       "      <td>NaN</td>\n",
       "      <td>police</td>\n",
       "      <td>NaN</td>\n",
       "      <td>NaN</td>\n",
       "      <td>2.0</td>\n",
       "      <td>NaN</td>\n",
       "      <td>NaN</td>\n",
       "      <td>NaN</td>\n",
       "      <td>NaN</td>\n",
       "      <td>NaN</td>\n",
       "      <td>14.420</td>\n",
       "      <td>57.956</td>\n",
       "    </tr>\n",
       "    <tr>\n",
       "      <th>9</th>\n",
       "      <td>182</td>\n",
       "      <td>Wednesday-July 1-2009</td>\n",
       "      <td>8 Rajab 1430 A.H.</td>\n",
       "      <td>Working Day</td>\n",
       "      <td>NaN</td>\n",
       "      <td>NaN</td>\n",
       "      <td>peshawar</td>\n",
       "      <td>34.004300</td>\n",
       "      <td>71.5448</td>\n",
       "      <td>kpk</td>\n",
       "      <td>Mashokhel Mera Area-Kohat Road</td>\n",
       "      <td>mobile</td>\n",
       "      <td>High</td>\n",
       "      <td>open</td>\n",
       "      <td>NaN</td>\n",
       "      <td>unknown</td>\n",
       "      <td>NaN</td>\n",
       "      <td>NaN</td>\n",
       "      <td>1.0</td>\n",
       "      <td>NaN</td>\n",
       "      <td>NaN</td>\n",
       "      <td>1.0</td>\n",
       "      <td>NaN</td>\n",
       "      <td>NaN</td>\n",
       "      <td>30.385</td>\n",
       "      <td>86.693</td>\n",
       "    </tr>\n",
       "    <tr>\n",
       "      <th>10</th>\n",
       "      <td>186</td>\n",
       "      <td>Thursday-August 13-2009</td>\n",
       "      <td>22 SHa`baan 1430 A.H</td>\n",
       "      <td>Working Day</td>\n",
       "      <td>NaN</td>\n",
       "      <td>NaN</td>\n",
       "      <td>south waziristan</td>\n",
       "      <td>32.320200</td>\n",
       "      <td>69.8597</td>\n",
       "      <td>fata</td>\n",
       "      <td>wana bazar</td>\n",
       "      <td>mobile</td>\n",
       "      <td>Low</td>\n",
       "      <td>open</td>\n",
       "      <td>leader of Nawaz group-a group against taliban</td>\n",
       "      <td>anti-militants</td>\n",
       "      <td>sunni</td>\n",
       "      <td>4.0</td>\n",
       "      <td>5.0</td>\n",
       "      <td>NaN</td>\n",
       "      <td>NaN</td>\n",
       "      <td>1.0</td>\n",
       "      <td>NaN</td>\n",
       "      <td>NaN</td>\n",
       "      <td>26.925</td>\n",
       "      <td>80.465</td>\n",
       "    </tr>\n",
       "    <tr>\n",
       "      <th>11</th>\n",
       "      <td>190</td>\n",
       "      <td>Friday-August 21-2009</td>\n",
       "      <td>30 SHa`baan 1430 A.H</td>\n",
       "      <td>Working Day</td>\n",
       "      <td>NaN</td>\n",
       "      <td>NaN</td>\n",
       "      <td>kohat</td>\n",
       "      <td>33.583300</td>\n",
       "      <td>71.4333</td>\n",
       "      <td>kpk</td>\n",
       "      <td>BB Pakdaman Street</td>\n",
       "      <td>civilian</td>\n",
       "      <td>NaN</td>\n",
       "      <td>open</td>\n",
       "      <td>NaN</td>\n",
       "      <td>civilian</td>\n",
       "      <td>NaN</td>\n",
       "      <td>NaN</td>\n",
       "      <td>0.0</td>\n",
       "      <td>NaN</td>\n",
       "      <td>NaN</td>\n",
       "      <td>1.0</td>\n",
       "      <td>NaN</td>\n",
       "      <td>NaN</td>\n",
       "      <td>29.035</td>\n",
       "      <td>84.263</td>\n",
       "    </tr>\n",
       "    <tr>\n",
       "      <th>12</th>\n",
       "      <td>199</td>\n",
       "      <td>Monday-September 21-2009</td>\n",
       "      <td>2 SHawwal 1430 A.H.</td>\n",
       "      <td>Working Day</td>\n",
       "      <td>NaN</td>\n",
       "      <td>After Midnight</td>\n",
       "      <td>totalai</td>\n",
       "      <td>34.200000</td>\n",
       "      <td>72.5</td>\n",
       "      <td>kpk</td>\n",
       "      <td>Tatalai District</td>\n",
       "      <td>educational</td>\n",
       "      <td>Low</td>\n",
       "      <td>closed</td>\n",
       "      <td>NaN</td>\n",
       "      <td>government official</td>\n",
       "      <td>NaN</td>\n",
       "      <td>NaN</td>\n",
       "      <td>0.0</td>\n",
       "      <td>NaN</td>\n",
       "      <td>NaN</td>\n",
       "      <td>1.0</td>\n",
       "      <td>NaN</td>\n",
       "      <td>NaN</td>\n",
       "      <td>26.855</td>\n",
       "      <td>80.339</td>\n",
       "    </tr>\n",
       "    <tr>\n",
       "      <th>13</th>\n",
       "      <td>202</td>\n",
       "      <td>Monday-September 28-2009</td>\n",
       "      <td>9 SHawwal 1430 A.H</td>\n",
       "      <td>Working Day</td>\n",
       "      <td>NaN</td>\n",
       "      <td>Monday Morning</td>\n",
       "      <td>bannu</td>\n",
       "      <td>32.935000</td>\n",
       "      <td>70.6688</td>\n",
       "      <td>kpk</td>\n",
       "      <td>Bakakhel</td>\n",
       "      <td>mobile</td>\n",
       "      <td>Low</td>\n",
       "      <td>open</td>\n",
       "      <td>molvi abdul hakeem as goin to attend jirga-ant...</td>\n",
       "      <td>anti-militants</td>\n",
       "      <td>sunni</td>\n",
       "      <td>4.0</td>\n",
       "      <td>5.0</td>\n",
       "      <td>NaN</td>\n",
       "      <td>NaN</td>\n",
       "      <td>1.0</td>\n",
       "      <td>NaN</td>\n",
       "      <td>NaN</td>\n",
       "      <td>24.330</td>\n",
       "      <td>75.794</td>\n",
       "    </tr>\n",
       "    <tr>\n",
       "      <th>14</th>\n",
       "      <td>211</td>\n",
       "      <td>Saturday-October 24-2009</td>\n",
       "      <td>5 Thw al-Qi`dah 1430 A.H</td>\n",
       "      <td>Working Day</td>\n",
       "      <td>NaN</td>\n",
       "      <td>late night</td>\n",
       "      <td>chakwal</td>\n",
       "      <td>32.930300</td>\n",
       "      <td>72.8556</td>\n",
       "      <td>punjab</td>\n",
       "      <td>checkpost between kalarkahar and lilla interch...</td>\n",
       "      <td>police</td>\n",
       "      <td>High</td>\n",
       "      <td>open</td>\n",
       "      <td>NaN</td>\n",
       "      <td>police</td>\n",
       "      <td>NaN</td>\n",
       "      <td>NaN</td>\n",
       "      <td>1.0</td>\n",
       "      <td>NaN</td>\n",
       "      <td>NaN</td>\n",
       "      <td>1.0</td>\n",
       "      <td>NaN</td>\n",
       "      <td>NaN</td>\n",
       "      <td>20.485</td>\n",
       "      <td>68.873</td>\n",
       "    </tr>\n",
       "    <tr>\n",
       "      <th>15</th>\n",
       "      <td>298</td>\n",
       "      <td>Saturday-February 12-2011</td>\n",
       "      <td>9 Raby` al-awal 1432 A.H</td>\n",
       "      <td>Working Day</td>\n",
       "      <td>NaN</td>\n",
       "      <td>Saturday Morning</td>\n",
       "      <td>malakand</td>\n",
       "      <td>34.503000</td>\n",
       "      <td>71.9046</td>\n",
       "      <td>kpk</td>\n",
       "      <td>Batakhel area</td>\n",
       "      <td>residence</td>\n",
       "      <td>Low</td>\n",
       "      <td>closed</td>\n",
       "      <td>security forces were trying to arest the bomber</td>\n",
       "      <td>military</td>\n",
       "      <td>NaN</td>\n",
       "      <td>1.0</td>\n",
       "      <td>3.0</td>\n",
       "      <td>NaN</td>\n",
       "      <td>NaN</td>\n",
       "      <td>1.0</td>\n",
       "      <td>NaN</td>\n",
       "      <td>NaN</td>\n",
       "      <td>8.305</td>\n",
       "      <td>46.949</td>\n",
       "    </tr>\n",
       "    <tr>\n",
       "      <th>16</th>\n",
       "      <td>331</td>\n",
       "      <td>Friday-October 28-2011</td>\n",
       "      <td>NaN</td>\n",
       "      <td>Working Day</td>\n",
       "      <td>NaN</td>\n",
       "      <td>NaN</td>\n",
       "      <td>nowshehra</td>\n",
       "      <td>34.032200</td>\n",
       "      <td>73.0944</td>\n",
       "      <td>kpk</td>\n",
       "      <td>Risalpur area of the Nowshera district</td>\n",
       "      <td>police</td>\n",
       "      <td>NaN</td>\n",
       "      <td>NaN</td>\n",
       "      <td>NaN</td>\n",
       "      <td>police</td>\n",
       "      <td>NaN</td>\n",
       "      <td>NaN</td>\n",
       "      <td>2.0</td>\n",
       "      <td>NaN</td>\n",
       "      <td>NaN</td>\n",
       "      <td>1.0</td>\n",
       "      <td>NaN</td>\n",
       "      <td>NaN</td>\n",
       "      <td>17.535</td>\n",
       "      <td>63.563</td>\n",
       "    </tr>\n",
       "    <tr>\n",
       "      <th>17</th>\n",
       "      <td>334</td>\n",
       "      <td>Friday-November 18-2011</td>\n",
       "      <td>NaN</td>\n",
       "      <td>Working Day</td>\n",
       "      <td>NaN</td>\n",
       "      <td>3:38AM</td>\n",
       "      <td>karachi</td>\n",
       "      <td>24.991800</td>\n",
       "      <td>66.9911</td>\n",
       "      <td>sindh</td>\n",
       "      <td>Block 13-near Pehlwan Goth roundabout-Gulistan...</td>\n",
       "      <td>residence</td>\n",
       "      <td>low</td>\n",
       "      <td>closed</td>\n",
       "      <td>NaN</td>\n",
       "      <td>military</td>\n",
       "      <td>NaN</td>\n",
       "      <td>NaN</td>\n",
       "      <td>1.0</td>\n",
       "      <td>NaN</td>\n",
       "      <td>NaN</td>\n",
       "      <td>1.0</td>\n",
       "      <td>NaN</td>\n",
       "      <td>Jinnah Postgraduate Medical Center</td>\n",
       "      <td>27.245</td>\n",
       "      <td>81.041</td>\n",
       "    </tr>\n",
       "    <tr>\n",
       "      <th>18</th>\n",
       "      <td>336</td>\n",
       "      <td>Tuesday-January 3-2012</td>\n",
       "      <td>NaN</td>\n",
       "      <td>Working Day</td>\n",
       "      <td>NaN</td>\n",
       "      <td>1:00 PM</td>\n",
       "      <td>gujrat</td>\n",
       "      <td>32.573700</td>\n",
       "      <td>74.0786</td>\n",
       "      <td>punjab</td>\n",
       "      <td>Gorali village-4 km from Gujrat</td>\n",
       "      <td>park/ground</td>\n",
       "      <td>Low</td>\n",
       "      <td>open</td>\n",
       "      <td>NaN</td>\n",
       "      <td>civilian</td>\n",
       "      <td>NaN</td>\n",
       "      <td>NaN</td>\n",
       "      <td>2.0</td>\n",
       "      <td>NaN</td>\n",
       "      <td>NaN</td>\n",
       "      <td>1.0</td>\n",
       "      <td>NaN</td>\n",
       "      <td>NaN</td>\n",
       "      <td>10.935</td>\n",
       "      <td>51.683</td>\n",
       "    </tr>\n",
       "    <tr>\n",
       "      <th>19</th>\n",
       "      <td>390</td>\n",
       "      <td>Saturday-June 15-2013</td>\n",
       "      <td>NaN</td>\n",
       "      <td>Working Day</td>\n",
       "      <td>NaN</td>\n",
       "      <td>Noon</td>\n",
       "      <td>quetta</td>\n",
       "      <td>30.209500</td>\n",
       "      <td>67.0182</td>\n",
       "      <td>balochistan</td>\n",
       "      <td>Bolan Medical Complex</td>\n",
       "      <td>hospital</td>\n",
       "      <td>Low</td>\n",
       "      <td>closed</td>\n",
       "      <td>Security officials visiting victims of suicide...</td>\n",
       "      <td>police</td>\n",
       "      <td>NaN</td>\n",
       "      <td>11.0</td>\n",
       "      <td>11.0</td>\n",
       "      <td>NaN</td>\n",
       "      <td>NaN</td>\n",
       "      <td>NaN</td>\n",
       "      <td>NaN</td>\n",
       "      <td>Bolan Medical Complex Quetta</td>\n",
       "      <td>29.550</td>\n",
       "      <td>85.190</td>\n",
       "    </tr>\n",
       "    <tr>\n",
       "      <th>20</th>\n",
       "      <td>438</td>\n",
       "      <td>Tuesday-February 17-2015</td>\n",
       "      <td>NaN</td>\n",
       "      <td>NaN</td>\n",
       "      <td>NaN</td>\n",
       "      <td>NaN</td>\n",
       "      <td>lahore</td>\n",
       "      <td>31.545100</td>\n",
       "      <td>74.3407</td>\n",
       "      <td>punjab</td>\n",
       "      <td>Near Police Line</td>\n",
       "      <td>NaN</td>\n",
       "      <td>NaN</td>\n",
       "      <td>NaN</td>\n",
       "      <td>NaN</td>\n",
       "      <td>NaN</td>\n",
       "      <td>NaN</td>\n",
       "      <td>5.0</td>\n",
       "      <td>9.0</td>\n",
       "      <td>NaN</td>\n",
       "      <td>NaN</td>\n",
       "      <td>NaN</td>\n",
       "      <td>NaN</td>\n",
       "      <td>NaN</td>\n",
       "      <td>18.680</td>\n",
       "      <td>65.624</td>\n",
       "    </tr>\n",
       "    <tr>\n",
       "      <th>21</th>\n",
       "      <td>443</td>\n",
       "      <td>Tuesday-May 26-2015</td>\n",
       "      <td>NaN</td>\n",
       "      <td>Working Day</td>\n",
       "      <td>NaN</td>\n",
       "      <td>NaN</td>\n",
       "      <td>karachi</td>\n",
       "      <td>24.991800</td>\n",
       "      <td>66.9911</td>\n",
       "      <td>sindh</td>\n",
       "      <td>Orangi Town Faqeer Colony</td>\n",
       "      <td>NaN</td>\n",
       "      <td>NaN</td>\n",
       "      <td>NaN</td>\n",
       "      <td>NaN</td>\n",
       "      <td>rangers</td>\n",
       "      <td>NaN</td>\n",
       "      <td>1.0</td>\n",
       "      <td>2.0</td>\n",
       "      <td>NaN</td>\n",
       "      <td>NaN</td>\n",
       "      <td>NaN</td>\n",
       "      <td>NaN</td>\n",
       "      <td>NaN</td>\n",
       "      <td>33.050</td>\n",
       "      <td>91.490</td>\n",
       "    </tr>\n",
       "    <tr>\n",
       "      <th>22</th>\n",
       "      <td>444</td>\n",
       "      <td>Tuesday-May 26-2015</td>\n",
       "      <td>NaN</td>\n",
       "      <td>Working Day</td>\n",
       "      <td>NaN</td>\n",
       "      <td>NaN</td>\n",
       "      <td>karachi</td>\n",
       "      <td>24.991800</td>\n",
       "      <td>66.9911</td>\n",
       "      <td>sindh</td>\n",
       "      <td>Orangi Town Faqeer Colony</td>\n",
       "      <td>NaN</td>\n",
       "      <td>NaN</td>\n",
       "      <td>NaN</td>\n",
       "      <td>NaN</td>\n",
       "      <td>NaN</td>\n",
       "      <td>NaN</td>\n",
       "      <td>NaN</td>\n",
       "      <td>5.0</td>\n",
       "      <td>NaN</td>\n",
       "      <td>NaN</td>\n",
       "      <td>NaN</td>\n",
       "      <td>NaN</td>\n",
       "      <td>NaN</td>\n",
       "      <td>33.050</td>\n",
       "      <td>91.490</td>\n",
       "    </tr>\n",
       "    <tr>\n",
       "      <th>23</th>\n",
       "      <td>447</td>\n",
       "      <td>Monday-June 08-2015</td>\n",
       "      <td>NaN</td>\n",
       "      <td>Working Day</td>\n",
       "      <td>NaN</td>\n",
       "      <td>NaN</td>\n",
       "      <td>north waziristan</td>\n",
       "      <td>32.974638</td>\n",
       "      <td>70.1455</td>\n",
       "      <td>fata</td>\n",
       "      <td>near the Afghan border in Pakistan's restive N...</td>\n",
       "      <td>NaN</td>\n",
       "      <td>NaN</td>\n",
       "      <td>NaN</td>\n",
       "      <td>The clashes were marked by an intense exchange...</td>\n",
       "      <td>NaN</td>\n",
       "      <td>NaN</td>\n",
       "      <td>7.0</td>\n",
       "      <td>19.0</td>\n",
       "      <td>NaN</td>\n",
       "      <td>NaN</td>\n",
       "      <td>NaN</td>\n",
       "      <td>NaN</td>\n",
       "      <td>NaN</td>\n",
       "      <td>26.820</td>\n",
       "      <td>80.276</td>\n",
       "    </tr>\n",
       "    <tr>\n",
       "      <th>24</th>\n",
       "      <td>450</td>\n",
       "      <td>Friday-July 17-2015</td>\n",
       "      <td>NaN</td>\n",
       "      <td>Holiday</td>\n",
       "      <td>NaN</td>\n",
       "      <td>NaN</td>\n",
       "      <td>quetta</td>\n",
       "      <td>NaN</td>\n",
       "      <td>NaN</td>\n",
       "      <td>balochistan</td>\n",
       "      <td>Entrance of a Shiite neighborhood in southwest...</td>\n",
       "      <td>NaN</td>\n",
       "      <td>NaN</td>\n",
       "      <td>NaN</td>\n",
       "      <td>a suicide attacker has detonated his explosiv...</td>\n",
       "      <td>NaN</td>\n",
       "      <td>NaN</td>\n",
       "      <td>1.0</td>\n",
       "      <td>1.0</td>\n",
       "      <td>NaN</td>\n",
       "      <td>NaN</td>\n",
       "      <td>NaN</td>\n",
       "      <td>NaN</td>\n",
       "      <td>NaN</td>\n",
       "      <td>NaN</td>\n",
       "      <td>NaN</td>\n",
       "    </tr>\n",
       "  </tbody>\n",
       "</table>\n",
       "</div>"
      ],
      "text/plain": [
       "    index                       Date                Islamic Date  \\\n",
       "0      15     Thursday-April 28-2005   19 Raby` al-awal 1426 A.H   \n",
       "1      31   Saturday-February 3-2007       15 MuHarram 1428 A.H.   \n",
       "2      61  Saturday-September 1-2007        19 SHa`baan 1428 A.H   \n",
       "3      62   Tuesday-September 4-2007        22 SHa`baan 1428 A.H   \n",
       "4      63   Tuesday-September 4-2007        22 SHa`baan 1428 A.H   \n",
       "5      86    Tuesday-January 15-2008         6 MuHarram 1429 A.H   \n",
       "6     138  Thursday-November 20-2008  22 Thw al-Qi`dah 1429 A.H.   \n",
       "7     149   Thursday-February 5-2009          10 safar 1430 A.H.   \n",
       "8     153  Saturday-February 21-2009           26 safar 1430 A.H   \n",
       "9     182      Wednesday-July 1-2009           8 Rajab 1430 A.H.   \n",
       "10    186    Thursday-August 13-2009        22 SHa`baan 1430 A.H   \n",
       "11    190      Friday-August 21-2009        30 SHa`baan 1430 A.H   \n",
       "12    199   Monday-September 21-2009        2 SHawwal 1430 A.H.    \n",
       "13    202   Monday-September 28-2009          9 SHawwal 1430 A.H   \n",
       "14    211   Saturday-October 24-2009    5 Thw al-Qi`dah 1430 A.H   \n",
       "15    298  Saturday-February 12-2011    9 Raby` al-awal 1432 A.H   \n",
       "16    331     Friday-October 28-2011                         NaN   \n",
       "17    334    Friday-November 18-2011                         NaN   \n",
       "18    336     Tuesday-January 3-2012                         NaN   \n",
       "19    390      Saturday-June 15-2013                         NaN   \n",
       "20    438   Tuesday-February 17-2015                         NaN   \n",
       "21    443        Tuesday-May 26-2015                         NaN   \n",
       "22    444        Tuesday-May 26-2015                         NaN   \n",
       "23    447        Monday-June 08-2015                         NaN   \n",
       "24    450        Friday-July 17-2015                         NaN   \n",
       "\n",
       "   Blast Day Type Holiday Type                   Time              City  \\\n",
       "0     Working Day          NaN                    NaN              swat   \n",
       "1     Working Day          NaN             6:17:00 AM      lakki marwat   \n",
       "2     Working Day          NaN                    NaN  south waziristan   \n",
       "3     Working Day          NaN             7:15:00 AM        rawalpindi   \n",
       "4     Working Day          NaN             7:15:00 AM        rawalpindi   \n",
       "5     Working Day          NaN            10:30:00 AM    mohmand agency   \n",
       "6     Working Day          NaN  during maghrib prayer     bajaur agency   \n",
       "7     Working Day          NaN                    NaN              swat   \n",
       "8     Working Day          NaN                    NaN             bannu   \n",
       "9     Working Day          NaN                    NaN          peshawar   \n",
       "10    Working Day          NaN                    NaN  south waziristan   \n",
       "11    Working Day          NaN                    NaN             kohat   \n",
       "12    Working Day          NaN         After Midnight           totalai   \n",
       "13    Working Day          NaN         Monday Morning             bannu   \n",
       "14    Working Day          NaN             late night           chakwal   \n",
       "15    Working Day          NaN       Saturday Morning          malakand   \n",
       "16    Working Day          NaN                    NaN         nowshehra   \n",
       "17    Working Day          NaN                 3:38AM           karachi   \n",
       "18    Working Day          NaN                1:00 PM            gujrat   \n",
       "19    Working Day          NaN                   Noon            quetta   \n",
       "20            NaN          NaN                    NaN            lahore   \n",
       "21    Working Day          NaN                    NaN           karachi   \n",
       "22    Working Day          NaN                    NaN           karachi   \n",
       "23    Working Day          NaN                    NaN  north waziristan   \n",
       "24        Holiday          NaN                    NaN            quetta   \n",
       "\n",
       "     Latitude Longitude     Province  \\\n",
       "0   35.222700   72.4258          kpk   \n",
       "1   32.601800   70.9148          kpk   \n",
       "2   32.320200   69.8597         fata   \n",
       "3   33.605800   73.0437       punjab   \n",
       "4   33.605800   73.0437       punjab   \n",
       "5   32.974600   70.1456         fata   \n",
       "6   34.871800   71.5249         fata   \n",
       "7   35.383300   72.1833          kpk   \n",
       "8   32.986100   70.6042          kpk   \n",
       "9   34.004300   71.5448          kpk   \n",
       "10  32.320200   69.8597         fata   \n",
       "11  33.583300   71.4333          kpk   \n",
       "12  34.200000      72.5          kpk   \n",
       "13  32.935000   70.6688          kpk   \n",
       "14  32.930300   72.8556       punjab   \n",
       "15  34.503000   71.9046          kpk   \n",
       "16  34.032200   73.0944          kpk   \n",
       "17  24.991800   66.9911        sindh   \n",
       "18  32.573700   74.0786       punjab   \n",
       "19  30.209500   67.0182  balochistan   \n",
       "20  31.545100   74.3407       punjab   \n",
       "21  24.991800   66.9911        sindh   \n",
       "22  24.991800   66.9911        sindh   \n",
       "23  32.974638   70.1455         fata   \n",
       "24        NaN       NaN  balochistan   \n",
       "\n",
       "                                             Location Location Category  \\\n",
       "0             Baidara village of Matta-District Swat        park/ground   \n",
       "1                    Ghazanikhel Market \\nLaik marwat            market   \n",
       "2   check-post of the troops in the Jandola area o...          military   \n",
       "3                 1.Qasim Market Defence Ministry Bus            mobile   \n",
       "4         Near R.A Bazar behind general Headquarters             market   \n",
       "5   checkpoint of security forces in Khapakh Kando...          military   \n",
       "6                     Mosque in Badaan area of mamund         religious   \n",
       "7   near a Police station in the Mingora town of S...            police   \n",
       "8                                          Lakki town            police   \n",
       "9                      Mashokhel Mera Area-Kohat Road            mobile   \n",
       "10                                         wana bazar            mobile   \n",
       "11                                 BB Pakdaman Street          civilian   \n",
       "12                                   Tatalai District       educational   \n",
       "13                                           Bakakhel            mobile   \n",
       "14  checkpost between kalarkahar and lilla interch...            police   \n",
       "15                                      Batakhel area         residence   \n",
       "16             Risalpur area of the Nowshera district            police   \n",
       "17  Block 13-near Pehlwan Goth roundabout-Gulistan...         residence   \n",
       "18                    Gorali village-4 km from Gujrat       park/ground   \n",
       "19                              Bolan Medical Complex          hospital   \n",
       "20                                  Near Police Line                NaN   \n",
       "21                          Orangi Town Faqeer Colony               NaN   \n",
       "22                          Orangi Town Faqeer Colony               NaN   \n",
       "23  near the Afghan border in Pakistan's restive N...               NaN   \n",
       "24  Entrance of a Shiite neighborhood in southwest...               NaN   \n",
       "\n",
       "   Location Sensitivity Open/Closed Space  \\\n",
       "0                   Low              open   \n",
       "1                   Low              open   \n",
       "2                  High            closed   \n",
       "3                  High              open   \n",
       "4                   Low              open   \n",
       "5                  High              open   \n",
       "6                Medium            closed   \n",
       "7                  High              open   \n",
       "8                  High              open   \n",
       "9                  High              open   \n",
       "10                  Low              open   \n",
       "11                  NaN              open   \n",
       "12                  Low            closed   \n",
       "13                  Low              open   \n",
       "14                 High              open   \n",
       "15                  Low            closed   \n",
       "16                  NaN               NaN   \n",
       "17                  low            closed   \n",
       "18                  Low              open   \n",
       "19                  Low            closed   \n",
       "20                  NaN               NaN   \n",
       "21                  NaN               NaN   \n",
       "22                  NaN               NaN   \n",
       "23                  NaN               NaN   \n",
       "24                  NaN               NaN   \n",
       "\n",
       "                              Influencing Event/Event          Target Type  \\\n",
       "0                                                 NaN             civilian   \n",
       "1                                                 NaN             civilian   \n",
       "2                                                 NaN             military   \n",
       "3                                                 NaN             military   \n",
       "4                                                 NaN             military   \n",
       "5                               Frontier Constabulary             military   \n",
       "6                                      maghrib prayer            religious   \n",
       "7                                                 NaN               police   \n",
       "8                                                 NaN               police   \n",
       "9                                                 NaN              unknown   \n",
       "10      leader of Nawaz group-a group against taliban       anti-militants   \n",
       "11                                                NaN             civilian   \n",
       "12                                                NaN  government official   \n",
       "13  molvi abdul hakeem as goin to attend jirga-ant...       anti-militants   \n",
       "14                                                NaN               police   \n",
       "15    security forces were trying to arest the bomber             military   \n",
       "16                                                NaN               police   \n",
       "17                                                NaN             military   \n",
       "18                                                NaN             civilian   \n",
       "19  Security officials visiting victims of suicide...               police   \n",
       "20                                                NaN                  NaN   \n",
       "21                                                NaN              rangers   \n",
       "22                                                NaN                  NaN   \n",
       "23  The clashes were marked by an intense exchange...                  NaN   \n",
       "24   a suicide attacker has detonated his explosiv...                  NaN   \n",
       "\n",
       "   Targeted Sect if any  Killed Min  Killed Max  Injured Min Injured Max  \\\n",
       "0                   NaN         NaN         2.0          NaN         NaN   \n",
       "1                   NaN         NaN         1.0          NaN         NaN   \n",
       "2                   NaN         NaN         0.0          NaN         NaN   \n",
       "3                   NaN        18.0        25.0          NaN         NaN   \n",
       "4                   NaN         NaN         7.0          NaN         NaN   \n",
       "5                   NaN         1.0         1.0          NaN         NaN   \n",
       "6                 sunni         NaN         9.0          NaN         NaN   \n",
       "7                   NaN         NaN        12.0          NaN         NaN   \n",
       "8                   NaN         NaN         2.0          NaN         NaN   \n",
       "9                   NaN         NaN         1.0          NaN         NaN   \n",
       "10                sunni         4.0         5.0          NaN         NaN   \n",
       "11                  NaN         NaN         0.0          NaN         NaN   \n",
       "12                  NaN         NaN         0.0          NaN         NaN   \n",
       "13                sunni         4.0         5.0          NaN         NaN   \n",
       "14                  NaN         NaN         1.0          NaN         NaN   \n",
       "15                  NaN         1.0         3.0          NaN         NaN   \n",
       "16                  NaN         NaN         2.0          NaN         NaN   \n",
       "17                  NaN         NaN         1.0          NaN         NaN   \n",
       "18                  NaN         NaN         2.0          NaN         NaN   \n",
       "19                  NaN        11.0        11.0          NaN         NaN   \n",
       "20                  NaN         5.0         9.0          NaN         NaN   \n",
       "21                  NaN         1.0         2.0          NaN         NaN   \n",
       "22                  NaN         NaN         5.0          NaN         NaN   \n",
       "23                  NaN         7.0        19.0          NaN         NaN   \n",
       "24                  NaN         1.0         1.0          NaN         NaN   \n",
       "\n",
       "    No. of Suicide Blasts Explosive Weight (max)  \\\n",
       "0                     1.0                    NaN   \n",
       "1                     1.0                    NaN   \n",
       "2                     1.0                    NaN   \n",
       "3                     2.0                    NaN   \n",
       "4                     1.0                    NaN   \n",
       "5                     1.0                    NaN   \n",
       "6                     1.0                    NaN   \n",
       "7                     NaN                    NaN   \n",
       "8                     NaN                    NaN   \n",
       "9                     1.0                    NaN   \n",
       "10                    1.0                    NaN   \n",
       "11                    1.0                    NaN   \n",
       "12                    1.0                    NaN   \n",
       "13                    1.0                    NaN   \n",
       "14                    1.0                    NaN   \n",
       "15                    1.0                    NaN   \n",
       "16                    1.0                    NaN   \n",
       "17                    1.0                    NaN   \n",
       "18                    1.0                    NaN   \n",
       "19                    NaN                    NaN   \n",
       "20                    NaN                    NaN   \n",
       "21                    NaN                    NaN   \n",
       "22                    NaN                    NaN   \n",
       "23                    NaN                    NaN   \n",
       "24                    NaN                    NaN   \n",
       "\n",
       "                                       Hospital Names  Temperature(C)  \\\n",
       "0                                                 NaN          19.935   \n",
       "1                                                 NaN          17.520   \n",
       "2                                                 NaN          29.580   \n",
       "3   1.District Headquarters Rwp\\n2.Rwp General Hos...          27.150   \n",
       "4   1.District Headquarters Rwp\\n2.Rwp General Hos...          27.150   \n",
       "5                                   Ghalani hospital            5.145   \n",
       "6                             District hospital Bajur          14.170   \n",
       "7                                                 NaN           9.435   \n",
       "8                                                 NaN          14.420   \n",
       "9                                                 NaN          30.385   \n",
       "10                                                NaN          26.925   \n",
       "11                                                NaN          29.035   \n",
       "12                                                NaN          26.855   \n",
       "13                                                NaN          24.330   \n",
       "14                                                NaN          20.485   \n",
       "15                                                NaN           8.305   \n",
       "16                                                NaN          17.535   \n",
       "17                 Jinnah Postgraduate Medical Center          27.245   \n",
       "18                                                NaN          10.935   \n",
       "19                       Bolan Medical Complex Quetta          29.550   \n",
       "20                                                NaN          18.680   \n",
       "21                                                NaN          33.050   \n",
       "22                                                NaN          33.050   \n",
       "23                                                NaN          26.820   \n",
       "24                                                NaN             NaN   \n",
       "\n",
       "    Temperature(F)  \n",
       "0           67.883  \n",
       "1           63.536  \n",
       "2           85.244  \n",
       "3           80.870  \n",
       "4           80.870  \n",
       "5           41.261  \n",
       "6           57.506  \n",
       "7           48.983  \n",
       "8           57.956  \n",
       "9           86.693  \n",
       "10          80.465  \n",
       "11          84.263  \n",
       "12          80.339  \n",
       "13          75.794  \n",
       "14          68.873  \n",
       "15          46.949  \n",
       "16          63.563  \n",
       "17          81.041  \n",
       "18          51.683  \n",
       "19          85.190  \n",
       "20          65.624  \n",
       "21          91.490  \n",
       "22          91.490  \n",
       "23          80.276  \n",
       "24             NaN  "
      ]
     },
     "execution_count": 15,
     "metadata": {},
     "output_type": "execute_result"
    }
   ],
   "source": [
    "#display null rows present in Injured Max column\n",
    "null = df[df['Injured Max'].isnull()].reset_index()\n",
    "null"
   ]
  },
  {
   "cell_type": "code",
   "execution_count": 16,
   "metadata": {},
   "outputs": [],
   "source": [
    "#remove '+' symbol from the injured max column\n",
    "df['Injured Max'] = df['Injured Max'].str.replace('100+', '100')\n",
    "df['Injured Max'] = df['Injured Max'].str.replace('40+', '40')\n",
    "\n",
    "# Replace empty strings with 0\n",
    "df['Injured Max'] = df['Injured Max'].replace('', 0)\n",
    "\n",
    "#fill other null values with 0\n",
    "df['Injured Max'] = df['Injured Max'].fillna(0)\n",
    "\n",
    "# Convert the column to integers\n",
    "df['Injured Max'] = df['Injured Max'].astype('int64')"
   ]
  },
  {
   "cell_type": "markdown",
   "metadata": {},
   "source": [
    "# EDA"
   ]
  },
  {
   "cell_type": "markdown",
   "metadata": {},
   "source": [
    "## How many people got killed and injured per year?"
   ]
  },
  {
   "cell_type": "code",
   "execution_count": 122,
   "metadata": {},
   "outputs": [
    {
     "data": {
      "text/html": [
       "<div>\n",
       "<style scoped>\n",
       "    .dataframe tbody tr th:only-of-type {\n",
       "        vertical-align: middle;\n",
       "    }\n",
       "\n",
       "    .dataframe tbody tr th {\n",
       "        vertical-align: top;\n",
       "    }\n",
       "\n",
       "    .dataframe thead th {\n",
       "        text-align: right;\n",
       "    }\n",
       "</style>\n",
       "<table border=\"1\" class=\"dataframe\">\n",
       "  <thead>\n",
       "    <tr style=\"text-align: right;\">\n",
       "      <th></th>\n",
       "      <th>Year</th>\n",
       "      <th>Killed Max</th>\n",
       "    </tr>\n",
       "  </thead>\n",
       "  <tbody>\n",
       "    <tr>\n",
       "      <th>10</th>\n",
       "      <td>2010</td>\n",
       "      <td>1146.0</td>\n",
       "    </tr>\n",
       "    <tr>\n",
       "      <th>9</th>\n",
       "      <td>2009</td>\n",
       "      <td>1092.0</td>\n",
       "    </tr>\n",
       "    <tr>\n",
       "      <th>8</th>\n",
       "      <td>2008</td>\n",
       "      <td>940.0</td>\n",
       "    </tr>\n",
       "    <tr>\n",
       "      <th>7</th>\n",
       "      <td>2007</td>\n",
       "      <td>842.0</td>\n",
       "    </tr>\n",
       "    <tr>\n",
       "      <th>13</th>\n",
       "      <td>2013</td>\n",
       "      <td>660.0</td>\n",
       "    </tr>\n",
       "    <tr>\n",
       "      <th>11</th>\n",
       "      <td>2011</td>\n",
       "      <td>625.0</td>\n",
       "    </tr>\n",
       "    <tr>\n",
       "      <th>14</th>\n",
       "      <td>2014</td>\n",
       "      <td>383.0</td>\n",
       "    </tr>\n",
       "    <tr>\n",
       "      <th>12</th>\n",
       "      <td>2012</td>\n",
       "      <td>243.0</td>\n",
       "    </tr>\n",
       "    <tr>\n",
       "      <th>6</th>\n",
       "      <td>2006</td>\n",
       "      <td>161.0</td>\n",
       "    </tr>\n",
       "    <tr>\n",
       "      <th>15</th>\n",
       "      <td>2015</td>\n",
       "      <td>157.0</td>\n",
       "    </tr>\n",
       "    <tr>\n",
       "      <th>5</th>\n",
       "      <td>2005</td>\n",
       "      <td>83.0</td>\n",
       "    </tr>\n",
       "    <tr>\n",
       "      <th>4</th>\n",
       "      <td>2004</td>\n",
       "      <td>82.0</td>\n",
       "    </tr>\n",
       "    <tr>\n",
       "      <th>3</th>\n",
       "      <td>2003</td>\n",
       "      <td>65.0</td>\n",
       "    </tr>\n",
       "    <tr>\n",
       "      <th>2</th>\n",
       "      <td>2002</td>\n",
       "      <td>27.0</td>\n",
       "    </tr>\n",
       "    <tr>\n",
       "      <th>0</th>\n",
       "      <td>1995</td>\n",
       "      <td>15.0</td>\n",
       "    </tr>\n",
       "    <tr>\n",
       "      <th>1</th>\n",
       "      <td>2000</td>\n",
       "      <td>3.0</td>\n",
       "    </tr>\n",
       "    <tr>\n",
       "      <th>16</th>\n",
       "      <td>2016</td>\n",
       "      <td>1.0</td>\n",
       "    </tr>\n",
       "  </tbody>\n",
       "</table>\n",
       "</div>"
      ],
      "text/plain": [
       "    Year  Killed Max\n",
       "10  2010      1146.0\n",
       "9   2009      1092.0\n",
       "8   2008       940.0\n",
       "7   2007       842.0\n",
       "13  2013       660.0\n",
       "11  2011       625.0\n",
       "14  2014       383.0\n",
       "12  2012       243.0\n",
       "6   2006       161.0\n",
       "15  2015       157.0\n",
       "5   2005        83.0\n",
       "4   2004        82.0\n",
       "3   2003        65.0\n",
       "2   2002        27.0\n",
       "0   1995        15.0\n",
       "1   2000         3.0\n",
       "16  2016         1.0"
      ]
     },
     "execution_count": 122,
     "metadata": {},
     "output_type": "execute_result"
    }
   ],
   "source": [
    "# groupby df by killed max and year\n",
    "peo_kill = df.groupby('Year')['Killed Max'].sum().reset_index().sort_values(by='Killed Max', ascending=False)\n",
    "peo_kill"
   ]
  },
  {
   "cell_type": "code",
   "execution_count": null,
   "metadata": {},
   "outputs": [
    {
     "data": {
      "text/html": [
       "<div>\n",
       "<style scoped>\n",
       "    .dataframe tbody tr th:only-of-type {\n",
       "        vertical-align: middle;\n",
       "    }\n",
       "\n",
       "    .dataframe tbody tr th {\n",
       "        vertical-align: top;\n",
       "    }\n",
       "\n",
       "    .dataframe thead th {\n",
       "        text-align: right;\n",
       "    }\n",
       "</style>\n",
       "<table border=\"1\" class=\"dataframe\">\n",
       "  <thead>\n",
       "    <tr style=\"text-align: right;\">\n",
       "      <th></th>\n",
       "      <th>Year</th>\n",
       "      <th>Injured Max</th>\n",
       "    </tr>\n",
       "  </thead>\n",
       "  <tbody>\n",
       "    <tr>\n",
       "      <th>9</th>\n",
       "      <td>2009</td>\n",
       "      <td>3462</td>\n",
       "    </tr>\n",
       "    <tr>\n",
       "      <th>10</th>\n",
       "      <td>2010</td>\n",
       "      <td>2939</td>\n",
       "    </tr>\n",
       "    <tr>\n",
       "      <th>8</th>\n",
       "      <td>2008</td>\n",
       "      <td>2426</td>\n",
       "    </tr>\n",
       "    <tr>\n",
       "      <th>7</th>\n",
       "      <td>2007</td>\n",
       "      <td>2008</td>\n",
       "    </tr>\n",
       "    <tr>\n",
       "      <th>13</th>\n",
       "      <td>2013</td>\n",
       "      <td>1607</td>\n",
       "    </tr>\n",
       "    <tr>\n",
       "      <th>11</th>\n",
       "      <td>2011</td>\n",
       "      <td>1386</td>\n",
       "    </tr>\n",
       "    <tr>\n",
       "      <th>12</th>\n",
       "      <td>2012</td>\n",
       "      <td>705</td>\n",
       "    </tr>\n",
       "    <tr>\n",
       "      <th>14</th>\n",
       "      <td>2014</td>\n",
       "      <td>652</td>\n",
       "    </tr>\n",
       "    <tr>\n",
       "      <th>4</th>\n",
       "      <td>2004</td>\n",
       "      <td>399</td>\n",
       "    </tr>\n",
       "    <tr>\n",
       "      <th>5</th>\n",
       "      <td>2005</td>\n",
       "      <td>230</td>\n",
       "    </tr>\n",
       "    <tr>\n",
       "      <th>6</th>\n",
       "      <td>2006</td>\n",
       "      <td>230</td>\n",
       "    </tr>\n",
       "    <tr>\n",
       "      <th>15</th>\n",
       "      <td>2015</td>\n",
       "      <td>199</td>\n",
       "    </tr>\n",
       "    <tr>\n",
       "      <th>3</th>\n",
       "      <td>2003</td>\n",
       "      <td>115</td>\n",
       "    </tr>\n",
       "    <tr>\n",
       "      <th>2</th>\n",
       "      <td>2002</td>\n",
       "      <td>91</td>\n",
       "    </tr>\n",
       "    <tr>\n",
       "      <th>0</th>\n",
       "      <td>1995</td>\n",
       "      <td>60</td>\n",
       "    </tr>\n",
       "    <tr>\n",
       "      <th>16</th>\n",
       "      <td>2016</td>\n",
       "      <td>15</td>\n",
       "    </tr>\n",
       "    <tr>\n",
       "      <th>1</th>\n",
       "      <td>2000</td>\n",
       "      <td>3</td>\n",
       "    </tr>\n",
       "  </tbody>\n",
       "</table>\n",
       "</div>"
      ],
      "text/plain": [
       "    Year  Injured Max\n",
       "9   2009         3462\n",
       "10  2010         2939\n",
       "8   2008         2426\n",
       "7   2007         2008\n",
       "13  2013         1607\n",
       "11  2011         1386\n",
       "12  2012          705\n",
       "14  2014          652\n",
       "4   2004          399\n",
       "5   2005          230\n",
       "6   2006          230\n",
       "15  2015          199\n",
       "3   2003          115\n",
       "2   2002           91\n",
       "0   1995           60\n",
       "16  2016           15\n",
       "1   2000            3"
      ]
     },
     "execution_count": 201,
     "metadata": {},
     "output_type": "execute_result"
    }
   ],
   "source": [
    "#groupby df by injured max and year.\n",
    "peo_injured = df.groupby('Year')['Injured Max'].sum().reset_index().sort_values(by='Injured Max', ascending=False)\n",
    "peo_injured"
   ]
  },
  {
   "cell_type": "code",
   "execution_count": 19,
   "metadata": {},
   "outputs": [
    {
     "data": {
      "text/plain": [
       "Index(['Date', 'Islamic Date', 'Blast Day Type', 'Holiday Type', 'Time',\n",
       "       'City', 'Latitude', 'Longitude', 'Province', 'Location',\n",
       "       'Location Category', 'Location Sensitivity', 'Open/Closed Space',\n",
       "       'Influencing Event/Event', 'Target Type', 'Targeted Sect if any',\n",
       "       'Killed Min', 'Killed Max', 'Injured Min', 'Injured Max',\n",
       "       'No. of Suicide Blasts', 'Explosive Weight (max)', 'Hospital Names',\n",
       "       'Temperature(C)', 'Temperature(F)'],\n",
       "      dtype='object')"
      ]
     },
     "execution_count": 19,
     "metadata": {},
     "output_type": "execute_result"
    }
   ],
   "source": [
    "df.columns"
   ]
  },
  {
   "cell_type": "code",
   "execution_count": 21,
   "metadata": {},
   "outputs": [
    {
     "data": {
      "application/vnd.plotly.v1+json": {
       "config": {
        "plotlyServerURL": "https://plot.ly"
       },
       "data": [
        {
         "alignmentgroup": "True",
         "customdata": [
          [
           "capital",
           "islamabad",
           "foreigner"
          ],
          [
           "capital",
           "islamabad",
           "civilian"
          ],
          [
           "capital",
           "islamabad",
           "foreigner"
          ],
          [
           "capital",
           "islamabad",
           "civilian"
          ],
          [
           "capital",
           "islamabad",
           "government official"
          ],
          [
           "capital",
           "islamabad",
           "police"
          ],
          [
           "capital",
           "islamabad",
           "foreigner"
          ],
          [
           "capital",
           "islamabad",
           "police"
          ],
          [
           "capital",
           "islamabad",
           "foreigner"
          ],
          [
           "capital",
           "islamabad",
           "police"
          ],
          [
           "capital",
           "islamabad",
           "police"
          ],
          [
           "capital",
           "islamabad",
           "military"
          ],
          [
           "capital",
           "islamabad",
           "police"
          ],
          [
           "capital",
           "islamabad",
           "foreigner"
          ],
          [
           "capital",
           "islamabad",
           "civilian"
          ],
          [
           "capital",
           "islamabad",
           "military"
          ],
          [
           "capital",
           "islamabad",
           "religious"
          ],
          [
           "capital",
           "islamabad",
           "religious"
          ],
          [
           "capital",
           "islamabad",
           "civilian"
          ],
          [
           "capital",
           "islamabad",
           "government official"
          ]
         ],
         "hovertemplate": "Province=%{customdata[0]}<br>Year=%{x}<br>Number of Deaths=%{y}<br>City=%{customdata[1]}<br>Target Type=%{customdata[2]}<extra></extra>",
         "legendgroup": "capital",
         "marker": {
          "color": "#636efa",
          "pattern": {
           "shape": ""
          }
         },
         "name": "capital",
         "offsetgroup": "capital",
         "orientation": "v",
         "showlegend": true,
         "textposition": "auto",
         "type": "bar",
         "x": [
          1995,
          2005,
          2007,
          2007,
          2007,
          2007,
          2008,
          2008,
          2008,
          2008,
          2009,
          2009,
          2009,
          2009,
          2009,
          2009,
          2009,
          2010,
          2011,
          2014
         ],
         "xaxis": "x",
         "y": [
          15,
          25,
          2,
          1,
          17,
          15,
          8,
          20,
          60,
          null,
          2,
          8,
          2,
          5,
          6,
          2,
          1,
          1,
          2,
          11
         ],
         "yaxis": "y"
        },
        {
         "alignmentgroup": "True",
         "customdata": [
          [
           "sindh",
           "karachi",
           "media"
          ],
          [
           "sindh",
           "karachi",
           "foreigner"
          ],
          [
           "sindh",
           "karachi",
           "foreigner"
          ],
          [
           "sindh",
           "karachi",
           "religious"
          ],
          [
           "sindh",
           "karachi",
           "religious"
          ],
          [
           "sindh",
           "karachi",
           "religious"
          ],
          [
           "sindh",
           "karachi",
           "foreigner"
          ],
          [
           "sindh",
           "karachi",
           "religious"
          ],
          [
           "sindh",
           "karachi",
           "government official"
          ],
          [
           "sindh",
           "karachi",
           "religious"
          ],
          [
           "sindh",
           "karachi",
           "military"
          ],
          [
           "sindh",
           "karachi",
           "civilian"
          ],
          [
           "sindh",
           "karachi",
           "police"
          ],
          [
           "sindh",
           "karachi",
           "police"
          ],
          [
           "sindh",
           "karachi",
           "military"
          ],
          [
           "sindh",
           "karachi",
           "police"
          ],
          [
           "sindh",
           "karachi",
           "military"
          ],
          [
           "sindh",
           "karachi",
           "religious"
          ],
          [
           "sindh",
           "shikarpur",
           "civilian"
          ],
          [
           "sindh",
           "karachi",
           "military"
          ],
          [
           "sindh",
           "sukkur",
           "military"
          ],
          [
           "sindh",
           "karachi",
           "police"
          ],
          [
           "sindh",
           "karachi",
           "police"
          ],
          [
           "sindh",
           "karachi",
           "military"
          ],
          [
           "sindh",
           "karachi",
           "police"
          ],
          [
           "sindh",
           "karachi",
           "police"
          ],
          [
           "sindh",
           "karachi",
           null
          ],
          [
           "sindh",
           "shikarpur",
           null
          ],
          [
           "sindh",
           "karachi",
           null
          ],
          [
           "sindh",
           "karachi",
           "rangers"
          ],
          [
           "sindh",
           "karachi",
           null
          ],
          [
           "sindh",
           "karachi",
           "police & rangers"
          ],
          [
           "sindh",
           "jacobabad",
           "religious"
          ],
          [
           "sindh",
           "shikarpur",
           "religious"
          ],
          [
           "sindh",
           "sehwan town",
           "shia sect"
          ]
         ],
         "hovertemplate": "Province=%{customdata[0]}<br>Year=%{x}<br>Number of Deaths=%{y}<br>City=%{customdata[1]}<br>Target Type=%{customdata[2]}<extra></extra>",
         "legendgroup": "sindh",
         "marker": {
          "color": "#EF553B",
          "pattern": {
           "shape": ""
          }
         },
         "name": "sindh",
         "offsetgroup": "sindh",
         "orientation": "v",
         "showlegend": true,
         "textposition": "auto",
         "type": "bar",
         "x": [
          2000,
          2002,
          2002,
          2004,
          2004,
          2005,
          2006,
          2006,
          2007,
          2010,
          2010,
          2011,
          2011,
          2011,
          2011,
          2012,
          2012,
          2012,
          2013,
          2013,
          2013,
          2013,
          2014,
          2014,
          2014,
          2014,
          2014,
          2015,
          2015,
          2015,
          2015,
          null,
          null,
          null,
          null
         ],
         "xaxis": "x",
         "y": [
          3,
          15,
          12,
          15,
          18,
          6,
          5,
          57,
          145,
          10,
          20,
          0,
          8,
          7,
          1,
          7,
          3,
          4,
          1,
          2,
          9,
          2,
          3,
          3,
          13,
          4,
          28,
          62,
          3,
          2,
          5,
          null,
          23,
          0,
          72
         ],
         "yaxis": "y"
        },
        {
         "alignmentgroup": "True",
         "customdata": [
          [
           "balochistan",
           "quetta",
           "religious"
          ],
          [
           "balochistan",
           "quetta",
           "religious"
          ],
          [
           "balochistan",
           "lasbela",
           "civilian"
          ],
          [
           "balochistan",
           "quetta",
           "civilian"
          ],
          [
           "balochistan",
           "lasbela",
           "foreigner"
          ],
          [
           "balochistan",
           "quetta",
           "military"
          ],
          [
           "balochistan",
           "quetta",
           "civilian"
          ],
          [
           "balochistan",
           "quetta",
           "military"
          ],
          [
           "balochistan",
           "pishin",
           "government official"
          ],
          [
           "balochistan",
           "quetta",
           "government official"
          ],
          [
           "balochistan",
           "quetta",
           "civilian"
          ],
          [
           "balochistan",
           "quetta",
           "government official"
          ],
          [
           "balochistan",
           "quetta",
           "government official"
          ],
          [
           "balochistan",
           "quetta",
           "police"
          ],
          [
           "balochistan",
           "quetta",
           "religious"
          ],
          [
           "balochistan",
           "quetta",
           "military"
          ],
          [
           "balochistan",
           "quetta",
           "religious"
          ],
          [
           "balochistan",
           "quetta",
           "civilian"
          ],
          [
           "balochistan",
           "quetta",
           "civilian"
          ],
          [
           "balochistan",
           "quetta",
           "civilian"
          ],
          [
           "balochistan",
           "quetta",
           "police"
          ],
          [
           "balochistan",
           "quetta",
           "civilian"
          ],
          [
           "balochistan",
           "quetta",
           "police"
          ],
          [
           "balochistan",
           "quetta",
           "civilian"
          ],
          [
           "balochistan",
           "quetta",
           "police"
          ],
          [
           "balochistan",
           "chaman",
           "government official"
          ],
          [
           "balochistan",
           "quetta",
           "civilian"
          ],
          [
           "balochistan",
           "taftan",
           "civilian"
          ],
          [
           "balochistan",
           "quetta",
           "civilian"
          ],
          [
           "balochistan",
           "quetta",
           "civilian"
          ],
          [
           "balochistan",
           "zhob",
           null
          ],
          [
           "balochistan",
           "quetta",
           null
          ],
          [
           "balochistan",
           "quetta",
           "religious"
          ],
          [
           "balochistan",
           "quetta",
           "civilian & police"
          ],
          [
           "balochistan",
           "zhob",
           "army"
          ],
          [
           "balochistan",
           "quetta",
           "frontier corps"
          ],
          [
           "balochistan",
           "quetta",
           "advocates (lawyers)"
          ],
          [
           "balochistan",
           "quetta",
           "police"
          ],
          [
           "balochistan",
           "khuzdar",
           "civilian"
          ],
          [
           "balochistan",
           "quetta",
           "government official"
          ],
          [
           "balochistan",
           "quetta",
           "shia sect"
          ],
          [
           "balochistan",
           "chaman",
           "police"
          ],
          [
           "balochistan",
           "quetta",
           "military"
          ],
          [
           "balochistan",
           "quetta",
           "civilian"
          ],
          [
           "balochistan",
           "quetta",
           "police"
          ],
          [
           "balochistan",
           "quetta",
           "police"
          ],
          [
           "balochistan",
           "quetta",
           "military"
          ]
         ],
         "hovertemplate": "Province=%{customdata[0]}<br>Year=%{x}<br>Number of Deaths=%{y}<br>City=%{customdata[1]}<br>Target Type=%{customdata[2]}<extra></extra>",
         "legendgroup": "balochistan",
         "marker": {
          "color": "#00cc96",
          "pattern": {
           "shape": ""
          }
         },
         "name": "balochistan",
         "offsetgroup": "balochistan",
         "orientation": "v",
         "showlegend": true,
         "textposition": "auto",
         "type": "bar",
         "x": [
          2003,
          2005,
          2006,
          2007,
          2007,
          2007,
          2008,
          2008,
          2009,
          2010,
          2010,
          2010,
          2010,
          2011,
          2011,
          2011,
          2012,
          2013,
          2013,
          2013,
          2013,
          2013,
          2013,
          2013,
          2013,
          2013,
          2014,
          2014,
          2014,
          2014,
          2014,
          2015,
          null,
          null,
          null,
          null,
          null,
          null,
          null,
          null,
          null,
          null,
          null,
          null,
          null,
          null,
          null
         ],
         "xaxis": "x",
         "y": [
          47,
          50,
          1,
          17,
          30,
          12,
          1,
          14,
          6,
          11,
          62,
          5,
          null,
          1,
          13,
          28,
          14,
          93,
          84,
          6,
          7,
          14,
          11,
          30,
          38,
          8,
          3,
          30,
          5,
          3,
          2,
          1,
          11,
          15,
          0,
          11,
          70,
          61,
          52,
          28,
          85,
          3,
          15,
          22,
          7,
          2,
          4
         ],
         "yaxis": "y"
        },
        {
         "alignmentgroup": "True",
         "customdata": [
          [
           "punjab",
           "rawalpindi",
           "military"
          ],
          [
           "punjab",
           "rawalpindi",
           "religious"
          ],
          [
           "punjab",
           "attock",
           "government official"
          ],
          [
           "punjab",
           "sialkot",
           "religious"
          ],
          [
           "punjab",
           "lahore",
           "religious"
          ],
          [
           "punjab",
           "gujrat",
           "military"
          ],
          [
           "punjab",
           "rawalpindi",
           "military"
          ],
          [
           "punjab",
           "rawalpindi",
           "military"
          ],
          [
           "punjab",
           "rawalpindi",
           "military"
          ],
          [
           "punjab",
           "sargodha",
           "military"
          ],
          [
           "punjab",
           "rawalpindi",
           "military"
          ],
          [
           "punjab",
           "rawalpindi",
           "military"
          ],
          [
           "punjab",
           "attock",
           "children/women"
          ],
          [
           "punjab",
           "rawalpindi",
           "government official"
          ],
          [
           "punjab",
           "lahore",
           "police"
          ],
          [
           "punjab",
           "rawalpindi",
           "military"
          ],
          [
           "punjab",
           "rawalpindi",
           "military"
          ],
          [
           "punjab",
           "lahore",
           "military"
          ],
          [
           "punjab",
           "lahore",
           "government official"
          ],
          [
           "punjab",
           "lahore",
           "civilian"
          ],
          [
           "punjab",
           "lahore",
           "police"
          ],
          [
           "punjab",
           "rawalpindi",
           "government official"
          ],
          [
           "punjab",
           "bhakkar",
           "government official"
          ],
          [
           "punjab",
           "d.g khan",
           "religious"
          ],
          [
           "punjab",
           "rawalpindi",
           "civilian"
          ],
          [
           "punjab",
           "chakwal",
           "religious"
          ],
          [
           "punjab",
           "lahore",
           "police"
          ],
          [
           "punjab",
           "lahore",
           "religious"
          ],
          [
           "punjab",
           "rawalpindi",
           "government official"
          ],
          [
           "punjab",
           "lahore",
           "police"
          ],
          [
           "punjab",
           "attock",
           "military"
          ],
          [
           "punjab",
           "chakwal",
           "police"
          ],
          [
           "punjab",
           "rawalpindi",
           "civilian"
          ],
          [
           "punjab",
           "lahore",
           "police"
          ],
          [
           "punjab",
           "rawalpindi",
           "military"
          ],
          [
           "punjab",
           "lahore",
           "civilian"
          ],
          [
           "punjab",
           "multan",
           "military"
          ],
          [
           "punjab",
           "lahore",
           "military"
          ],
          [
           "punjab",
           "lahore",
           "military"
          ],
          [
           "punjab",
           "lahore",
           "civilian"
          ],
          [
           "punjab",
           "lahore",
           "civilian"
          ],
          [
           "punjab",
           "sargodha",
           "religious"
          ],
          [
           "punjab",
           "lahore",
           "religious"
          ],
          [
           "punjab",
           "lahore",
           "religious"
          ],
          [
           "punjab",
           "gujrat",
           "civilian"
          ],
          [
           "punjab",
           "rawalpindi",
           "religious"
          ],
          [
           "punjab",
           "rawalpindi",
           "civilian"
          ],
          [
           "punjab",
           "rawalpindi",
           "military"
          ],
          [
           "punjab",
           "khanewal",
           "police"
          ],
          [
           "punjab",
           "fateh jang",
           "military"
          ],
          [
           "punjab",
           "wagah",
           "civilian"
          ],
          [
           "punjab",
           "lahore",
           null
          ],
          [
           "punjab",
           "rawalpindi",
           null
          ],
          [
           "punjab",
           "lahore",
           null
          ],
          [
           "punjab",
           "lahore",
           null
          ],
          [
           "punjab",
           "sargodha",
           null
          ],
          [
           "punjab",
           "lahore",
           null
          ],
          [
           "punjab",
           "attock",
           null
          ],
          [
           "punjab",
           "multan",
           null
          ],
          [
           "punjab",
           "taunsa",
           null
          ],
          [
           "punjab",
           "lahore",
           null
          ],
          [
           "punjab",
           "lahore",
           "civilian"
          ],
          [
           "punjab",
           "lahore",
           "military"
          ],
          [
           "punjab",
           "lahore",
           "police"
          ]
         ],
         "hovertemplate": "Province=%{customdata[0]}<br>Year=%{x}<br>Number of Deaths=%{y}<br>City=%{customdata[1]}<br>Target Type=%{customdata[2]}<extra></extra>",
         "legendgroup": "punjab",
         "marker": {
          "color": "#ab63fa",
          "pattern": {
           "shape": ""
          }
         },
         "name": "punjab",
         "offsetgroup": "punjab",
         "orientation": "v",
         "showlegend": true,
         "textposition": "auto",
         "type": "bar",
         "x": [
          2003,
          2004,
          2004,
          2004,
          2004,
          2007,
          2007,
          2007,
          2007,
          2007,
          2007,
          2007,
          2007,
          2007,
          2008,
          2008,
          2008,
          2008,
          2008,
          2008,
          2008,
          2008,
          2008,
          2009,
          2009,
          2009,
          2009,
          2009,
          2009,
          2009,
          2009,
          2009,
          2009,
          2009,
          2009,
          2009,
          2009,
          2010,
          2010,
          2010,
          2010,
          2010,
          2010,
          2011,
          2012,
          2012,
          2013,
          2014,
          2014,
          2014,
          2014,
          2015,
          2015,
          2015,
          2015,
          2015,
          2015,
          null,
          null,
          null,
          null,
          null,
          null,
          null
         ],
         "xaxis": "x",
         "y": [
          18,
          1,
          7,
          31,
          5,
          2,
          25,
          7,
          8,
          10,
          38,
          1,
          0,
          30,
          26,
          10,
          8,
          8,
          31,
          6,
          9,
          100,
          26,
          32,
          15,
          27,
          27,
          7,
          1,
          18,
          9,
          1,
          38,
          null,
          40,
          45,
          15,
          14,
          57,
          95,
          42,
          4,
          43,
          17,
          2,
          20,
          3,
          13,
          0,
          5,
          55,
          9,
          5,
          17,
          2,
          2,
          4,
          19,
          4,
          null,
          72,
          18,
          7,
          27
         ],
         "yaxis": "y"
        },
        {
         "alignmentgroup": "True",
         "customdata": [
          [
           "fata",
           "north waziristan",
           "military"
          ],
          [
           "fata",
           "north waziristan",
           "military"
          ],
          [
           "fata",
           "north waziristan",
           "military"
          ],
          [
           "fata",
           "north waziristan",
           "military"
          ],
          [
           "fata",
           "north waziristan",
           "government official"
          ],
          [
           "fata",
           "north waziristan",
           "military"
          ],
          [
           "fata",
           "north waziristan",
           "military"
          ],
          [
           "fata",
           "north waziristan",
           "military"
          ],
          [
           "fata",
           "kuram agency",
           "civilian"
          ],
          [
           "fata",
           "north waziristan",
           "military"
          ],
          [
           "fata",
           "north waziristan",
           "military"
          ],
          [
           "fata",
           "bajaur agency",
           "military"
          ],
          [
           "fata",
           "south waziristan",
           "military"
          ],
          [
           "fata",
           "mohmand agency",
           "military"
          ],
          [
           "fata",
           "north waziristan",
           "police"
          ],
          [
           "fata",
           "north waziristan",
           "government official"
          ],
          [
           "fata",
           "kuram agency",
           "government official"
          ],
          [
           "fata",
           "bajaur agency",
           "military"
          ],
          [
           "fata",
           "south waziristan",
           "military"
          ],
          [
           "fata",
           "khyber agency",
           "religious"
          ],
          [
           "fata",
           "khyber agency",
           "foreigner"
          ],
          [
           "fata",
           "orakzai agency",
           "anti-militants"
          ],
          [
           "fata",
           "mohmand agency",
           "military"
          ],
          [
           "fata",
           "south waziristan",
           "military"
          ],
          [
           "fata",
           "bajaur agency",
           "anti-militants"
          ],
          [
           "fata",
           "bajaur agency",
           "religious"
          ],
          [
           "fata",
           "khyber agency",
           "foreigner"
          ],
          [
           "fata",
           "khyber agency",
           "religious"
          ],
          [
           "fata",
           "north waziristan",
           "military"
          ],
          [
           "fata",
           "north waziristan",
           "military"
          ],
          [
           "fata",
           "upper dir",
           "religious"
          ],
          [
           "fata",
           "khyber agency",
           "foreigner"
          ],
          [
           "fata",
           "south waziristan",
           "anti-militants"
          ],
          [
           "fata",
           "khyber agency",
           "military"
          ],
          [
           "fata",
           "bajaur agency",
           "military"
          ],
          [
           "fata",
           "bajaur agency",
           "anti-militants"
          ],
          [
           "fata",
           "bajaur agency",
           "military"
          ],
          [
           "fata",
           "mohmand agency",
           "government official"
          ],
          [
           "fata",
           "south waziristan",
           "anti-militants"
          ],
          [
           "fata",
           "south waziristan",
           "anti-militants"
          ],
          [
           "fata",
           "mohmand agency",
           "government official"
          ],
          [
           "fata",
           "bajaur agency",
           "police"
          ],
          [
           "fata",
           "bajaur agency",
           "military"
          ],
          [
           "fata",
           "mohmand agency",
           "police"
          ],
          [
           "fata",
           "bajaur agency",
           "anti-militants"
          ],
          [
           "fata",
           "bajaur agency",
           "anti-militants"
          ],
          [
           "fata",
           "south waziristan",
           "foreigner"
          ],
          [
           "fata",
           "south waziristan",
           "military"
          ],
          [
           "fata",
           "mohmand agency",
           "military"
          ],
          [
           "fata",
           "khyber agency",
           "civilian"
          ],
          [
           "fata",
           "kuram agency",
           "civilian"
          ],
          [
           "fata",
           "upper dir",
           "civilian"
          ],
          [
           "fata",
           "bajaur agency",
           "police"
          ],
          [
           "fata",
           "kuram agency",
           "civilian"
          ],
          [
           "fata",
           "mohmand agency",
           "government official"
          ],
          [
           "fata",
           "south waziristan",
           "anti-militants"
          ],
          [
           "fata",
           "south waziristan",
           "military"
          ],
          [
           "fata",
           "north waziristan",
           "military"
          ],
          [
           "fata",
           "north waziristan",
           "military"
          ],
          [
           "fata",
           "bajaur agency",
           "civilian"
          ],
          [
           "fata",
           "north waziristan",
           "military"
          ],
          [
           "fata",
           "south waziristan",
           "military"
          ],
          [
           "fata",
           "north waziristan",
           "anti-militants"
          ],
          [
           "fata",
           "north waziristan",
           "military"
          ],
          [
           "fata",
           "north waziristan",
           "military"
          ],
          [
           "fata",
           "tirah valley",
           null
          ],
          [
           "fata",
           "kurram agency",
           null
          ],
          [
           "fata",
           "north waziristan",
           null
          ],
          [
           "fata",
           "khyber agency",
           "civilian"
          ],
          [
           "fata",
           "mohmand agency",
           "religious"
          ],
          [
           "fata",
           "mohmand agency",
           "military"
          ],
          [
           "fata",
           "ghallanai, mohmand agency",
           "army"
          ],
          [
           "fata",
           "mosal kor, mohmand agency",
           "government official"
          ]
         ],
         "hovertemplate": "Province=%{customdata[0]}<br>Year=%{x}<br>Number of Deaths=%{y}<br>City=%{customdata[1]}<br>Target Type=%{customdata[2]}<extra></extra>",
         "legendgroup": "fata",
         "marker": {
          "color": "#FFA15A",
          "pattern": {
           "shape": ""
          }
         },
         "name": "fata",
         "offsetgroup": "fata",
         "orientation": "v",
         "showlegend": true,
         "textposition": "auto",
         "type": "bar",
         "x": [
          2004,
          2006,
          2007,
          2007,
          2007,
          2007,
          2007,
          2007,
          2007,
          2007,
          2007,
          2007,
          2007,
          2008,
          2008,
          2008,
          2008,
          2008,
          2008,
          2008,
          2008,
          2008,
          2008,
          2008,
          2008,
          2008,
          2009,
          2009,
          2009,
          2009,
          2009,
          2009,
          2009,
          2009,
          2010,
          2010,
          2010,
          2010,
          2010,
          2010,
          2010,
          2010,
          2011,
          2011,
          2011,
          2011,
          2011,
          2011,
          2011,
          2012,
          2012,
          2012,
          2012,
          2012,
          2012,
          2012,
          2012,
          2013,
          2013,
          2013,
          2013,
          2013,
          2013,
          2013,
          2014,
          2014,
          2015,
          2015,
          null,
          null,
          null,
          null,
          null
         ],
         "xaxis": "x",
         "y": [
          2,
          7,
          5,
          10,
          4,
          24,
          4,
          4,
          23,
          2,
          7,
          7,
          0,
          1,
          7,
          10,
          47,
          2,
          5,
          2,
          0,
          85,
          10,
          8,
          23,
          9,
          0,
          76,
          4,
          8,
          40,
          4,
          5,
          22,
          17,
          2,
          0,
          80,
          30,
          1,
          50,
          47,
          0,
          1,
          5,
          8,
          null,
          1,
          1,
          3,
          28,
          1,
          26,
          15,
          0,
          8,
          3,
          22,
          9,
          4,
          null,
          2,
          7,
          5,
          3,
          7,
          3,
          19,
          2,
          36,
          2,
          8,
          1
         ],
         "yaxis": "y"
        },
        {
         "alignmentgroup": "True",
         "customdata": [
          [
           "kpk",
           "kohat",
           "military"
          ],
          [
           "kpk",
           "swat",
           "civilian"
          ],
          [
           "kpk",
           "hangu",
           "religious"
          ],
          [
           "kpk",
           "bannu",
           "military"
          ],
          [
           "kpk",
           "malakand",
           "military"
          ],
          [
           "kpk",
           "peshawar",
           "police"
          ],
          [
           "kpk",
           "bannu",
           "police"
          ],
          [
           "kpk",
           "peshawar",
           "civilian"
          ],
          [
           "kpk",
           "d.i khan",
           "civilian"
          ],
          [
           "kpk",
           "lakki marwat",
           "civilian"
          ],
          [
           "kpk",
           "tank",
           "military"
          ],
          [
           "kpk",
           "charsadda",
           "government official"
          ],
          [
           "kpk",
           "peshawar",
           "foreigner"
          ],
          [
           "kpk",
           "tank",
           "military"
          ],
          [
           "kpk",
           "swat",
           "military"
          ],
          [
           "kpk",
           "d.i khan",
           "police"
          ],
          [
           "kpk",
           "swat",
           "police"
          ],
          [
           "kpk",
           "hangu",
           "police"
          ],
          [
           "kpk",
           "kohat",
           "religious"
          ],
          [
           "kpk",
           "swat",
           "civilian"
          ],
          [
           "kpk",
           "tank",
           "military"
          ],
          [
           "kpk",
           "bannu",
           "police"
          ],
          [
           "kpk",
           "hangu",
           "military"
          ],
          [
           "kpk",
           "shangla",
           "police"
          ],
          [
           "kpk",
           "d.i khan",
           "civilian"
          ],
          [
           "kpk",
           "haripur",
           "military"
          ],
          [
           "kpk",
           "tank",
           "military"
          ],
          [
           "kpk",
           "bannu",
           "police"
          ],
          [
           "kpk",
           "swat",
           "military"
          ],
          [
           "kpk",
           "peshawar",
           "government official"
          ],
          [
           "kpk",
           "peshawar",
           "military"
          ],
          [
           "kpk",
           "swat",
           "police"
          ],
          [
           "kpk",
           "nowshehra",
           "military"
          ],
          [
           "kpk",
           "kohat",
           "military"
          ],
          [
           "kpk",
           "charsadda",
           "civilian"
          ],
          [
           "kpk",
           "swat",
           "military"
          ],
          [
           "kpk",
           "swat",
           "military"
          ],
          [
           "kpk",
           "peshawar",
           "religious"
          ],
          [
           "kpk",
           "charsadda",
           "government official"
          ],
          [
           "kpk",
           "swat",
           "military"
          ],
          [
           "kpk",
           "swat",
           "police"
          ],
          [
           "kpk",
           "dara adam khel",
           "anti-militants"
          ],
          [
           "kpk",
           "swat",
           "police"
          ],
          [
           "kpk",
           "bannu",
           "police"
          ],
          [
           "kpk",
           "swat",
           "police"
          ],
          [
           "kpk",
           "mardan",
           "military"
          ],
          [
           "kpk",
           "d.i khan",
           "religious"
          ],
          [
           "kpk",
           "d.i khan",
           "civilian"
          ],
          [
           "kpk",
           "swat",
           "police"
          ],
          [
           "kpk",
           "kohat",
           "military"
          ],
          [
           "kpk",
           "peshawar",
           "police"
          ],
          [
           "kpk",
           "swat",
           "police"
          ],
          [
           "kpk",
           "north waziristan",
           "military"
          ],
          [
           "kpk",
           "swat",
           "military"
          ],
          [
           "kpk",
           "peshawar",
           "government official"
          ],
          [
           "kpk",
           "swat",
           "police"
          ],
          [
           "kpk",
           "bannu",
           "military"
          ],
          [
           "kpk",
           "mardan",
           "police"
          ],
          [
           "kpk",
           "hangu",
           "police"
          ],
          [
           "kpk",
           "swat",
           "police"
          ],
          [
           "kpk",
           "peshawar",
           "government official"
          ],
          [
           "kpk",
           "charsadda",
           "military"
          ],
          [
           "kpk",
           "swat",
           "military"
          ],
          [
           "kpk",
           "buner",
           "police"
          ],
          [
           "kpk",
           "swat",
           "military"
          ],
          [
           "kpk",
           "charsadda",
           "military"
          ],
          [
           "kpk",
           "orakzai agency",
           "civilian"
          ],
          [
           "kpk",
           "buner",
           "government official"
          ],
          [
           "kpk",
           "buner",
           "government official"
          ],
          [
           "kpk",
           "d.i khan",
           "police"
          ],
          [
           "kpk",
           "bannu",
           "police"
          ],
          [
           "kpk",
           "swat",
           "military"
          ],
          [
           "kpk",
           "swat",
           "police"
          ],
          [
           "kpk",
           "bannu",
           "police"
          ],
          [
           "kpk",
           "d.i khan",
           "civilian"
          ],
          [
           "kpk",
           "bannu",
           "police"
          ],
          [
           "kpk",
           "bannu",
           "police"
          ],
          [
           "kpk",
           "peshawar",
           "government official"
          ],
          [
           "kpk",
           "tank",
           "anti-militants"
          ],
          [
           "kpk",
           "charsadda",
           "police"
          ],
          [
           "kpk",
           "hangu",
           "police"
          ],
          [
           "kpk",
           "peshawar",
           "military"
          ],
          [
           "kpk",
           "dara adam khel",
           "police"
          ],
          [
           "kpk",
           "tank",
           "military"
          ],
          [
           "kpk",
           "peshawar",
           "police"
          ],
          [
           "kpk",
           "d.i khan",
           "police"
          ],
          [
           "kpk",
           "peshawar",
           "foreigner"
          ],
          [
           "kpk",
           "peshawar",
           "police"
          ],
          [
           "kpk",
           "nowshehra",
           "religious"
          ],
          [
           "kpk",
           "swat",
           "police"
          ],
          [
           "kpk",
           "peshawar",
           "unknown"
          ],
          [
           "kpk",
           "peshawar",
           "police"
          ],
          [
           "kpk",
           "north waziristan",
           "police"
          ],
          [
           "kpk",
           "swat",
           "police"
          ],
          [
           "kpk",
           "swat",
           "police"
          ],
          [
           "kpk",
           "north waziristan",
           "military"
          ],
          [
           "kpk",
           "kohat",
           "civilian"
          ],
          [
           "kpk",
           "swat",
           "police"
          ],
          [
           "kpk",
           "peshawar",
           "anti-militants"
          ],
          [
           "kpk",
           "swat",
           "police"
          ],
          [
           "kpk",
           "hangu",
           "police"
          ],
          [
           "kpk",
           "malakand",
           "military"
          ],
          [
           "kpk",
           "kohat",
           "civilian"
          ],
          [
           "kpk",
           "dara adam khel",
           "police"
          ],
          [
           "kpk",
           "totalai",
           "government official"
          ],
          [
           "kpk",
           "bannu",
           "police"
          ],
          [
           "kpk",
           "peshawar",
           "civilian"
          ],
          [
           "kpk",
           "bannu",
           "anti-militants"
          ],
          [
           "kpk",
           "peshawar",
           "civilian"
          ],
          [
           "kpk",
           "shangla",
           "military"
          ],
          [
           "kpk",
           "kohat",
           "police"
          ],
          [
           "kpk",
           "peshawar",
           "military"
          ],
          [
           "kpk",
           "peshawar",
           "government official"
          ],
          [
           "kpk",
           "peshawar",
           "police"
          ],
          [
           "kpk",
           "charsadda",
           "civilian"
          ],
          [
           "kpk",
           "peshawar",
           "military"
          ],
          [
           "kpk",
           "bannu",
           "police"
          ],
          [
           "kpk",
           "peshawar",
           "police"
          ],
          [
           "kpk",
           "peshawar",
           "police"
          ],
          [
           "kpk",
           "peshawar",
           "government official"
          ],
          [
           "kpk",
           "swat",
           "government official"
          ],
          [
           "kpk",
           "peshawar",
           "government official"
          ],
          [
           "kpk",
           "d.g khan",
           "government official"
          ],
          [
           "kpk",
           "bannu",
           "government official"
          ],
          [
           "kpk",
           "lower dir",
           "police"
          ],
          [
           "kpk",
           "peshawar",
           "media"
          ],
          [
           "kpk",
           "peshawar",
           "government official"
          ],
          [
           "kpk",
           "lakki marwat",
           "civilian"
          ],
          [
           "kpk",
           "khyber agency",
           "religious"
          ],
          [
           "kpk",
           "peshawar",
           "police"
          ],
          [
           "kpk",
           "tank",
           "police"
          ],
          [
           "kpk",
           "khyber agency",
           "military"
          ],
          [
           "kpk",
           "bannu",
           "police"
          ],
          [
           "kpk",
           "khyber agency",
           "anti-militants"
          ],
          [
           "kpk",
           "mansehra",
           "police"
          ],
          [
           "kpk",
           "swat",
           "military"
          ],
          [
           "kpk",
           "karak",
           "police"
          ],
          [
           "kpk",
           "hangu",
           "civilian"
          ],
          [
           "kpk",
           "swat",
           "police"
          ],
          [
           "kpk",
           "tank",
           "anti-militants"
          ],
          [
           "kpk",
           "peshawar",
           "foreigner"
          ],
          [
           "kpk",
           "lower dir",
           "government official"
          ],
          [
           "kpk",
           "kohat",
           "civilian"
          ],
          [
           "kpk",
           "kohat",
           "police"
          ],
          [
           "kpk",
           "peshawar",
           "anti-militants"
          ],
          [
           "kpk",
           "peshawar",
           "police"
          ],
          [
           "kpk",
           "swat",
           "civilian"
          ],
          [
           "kpk",
           "kohat",
           "government official"
          ],
          [
           "kpk",
           "nowshehra",
           "government official"
          ],
          [
           "kpk",
           "peshawar",
           "military"
          ],
          [
           "kpk",
           "mardan",
           "religious"
          ],
          [
           "kpk",
           "lakki marwat",
           "police"
          ],
          [
           "kpk",
           "lakki marwat",
           "civilian"
          ],
          [
           "kpk",
           "swabi",
           "police"
          ],
          [
           "kpk",
           "dara adam khel",
           "religious"
          ],
          [
           "kpk",
           "bannu",
           "police"
          ],
          [
           "kpk",
           "kohat",
           "civilian"
          ],
          [
           "kpk",
           "hangu",
           "civilian"
          ],
          [
           "kpk",
           "peshawar",
           "civilian"
          ],
          [
           "kpk",
           "bannu",
           "civilian"
          ],
          [
           "kpk",
           "peshawar",
           "police"
          ],
          [
           "kpk",
           "mardan",
           "military"
          ],
          [
           "kpk",
           "malakand",
           "military"
          ],
          [
           "kpk",
           "bannu",
           "police"
          ],
          [
           "kpk",
           "hangu",
           "police"
          ],
          [
           "kpk",
           "peshawar",
           "anti-militants"
          ],
          [
           "kpk",
           "hangu",
           "police"
          ],
          [
           "kpk",
           "swabi",
           "government official"
          ],
          [
           "kpk",
           "charsadda",
           "government official"
          ],
          [
           "kpk",
           "dara adam khel",
           "anti-militants"
          ],
          [
           "kpk",
           "d.g khan",
           "religious"
          ],
          [
           "kpk",
           "lower dir",
           "anti-militants"
          ],
          [
           "kpk",
           "charsadda",
           "military"
          ],
          [
           "kpk",
           "d.g khan",
           "civilian"
          ],
          [
           "kpk",
           "peshawar",
           "police"
          ],
          [
           "kpk",
           "hangu",
           "police"
          ],
          [
           "kpk",
           "nowshehra",
           "military"
          ],
          [
           "kpk",
           "peshawar",
           "civilian"
          ],
          [
           "kpk",
           "d.i khan",
           "police"
          ],
          [
           "kpk",
           "peshawar",
           "government official"
          ],
          [
           "kpk",
           "peshawar",
           "police"
          ],
          [
           "kpk",
           "khyber agency",
           "civilian"
          ],
          [
           "kpk",
           "lakki marwat",
           "police"
          ],
          [
           "kpk",
           "lower dir",
           "civilian"
          ],
          [
           "kpk",
           "nowshehra",
           "police"
          ],
          [
           "kpk",
           "swabi",
           "government official"
          ],
          [
           "kpk",
           "bannu",
           "military"
          ],
          [
           "kpk",
           "peshawar",
           "civilian"
          ],
          [
           "kpk",
           "d.i khan",
           "police"
          ],
          [
           "kpk",
           "peshawar",
           "anti-militants"
          ],
          [
           "kpk",
           "peshawar",
           "police"
          ],
          [
           "kpk",
           "peshawar",
           "government official"
          ],
          [
           "kpk",
           "d.i khan",
           "police"
          ],
          [
           "kpk",
           "peshawar",
           "government official"
          ],
          [
           "kpk",
           "peshawar",
           "police"
          ],
          [
           "kpk",
           "khyber agency",
           "anti-militants"
          ],
          [
           "kpk",
           "peshawar",
           "anti-militants"
          ],
          [
           "kpk",
           "bannu",
           "police"
          ],
          [
           "kpk",
           "peshawar",
           "foreigner"
          ],
          [
           "kpk",
           "dara adam khel",
           "anti-militants"
          ],
          [
           "kpk",
           "buner",
           "anti-militants"
          ],
          [
           "kpk",
           "peshawar",
           "police"
          ],
          [
           "kpk",
           "d.i khan",
           "religious"
          ],
          [
           "kpk",
           "peshawar",
           "police"
          ],
          [
           "kpk",
           "peshawar",
           "government official"
          ],
          [
           "kpk",
           "hangu",
           "civilian"
          ],
          [
           "kpk",
           "hangu",
           "military"
          ],
          [
           "kpk",
           "bannu",
           "police"
          ],
          [
           "kpk",
           "peshawar",
           "government official"
          ],
          [
           "kpk",
           "peshawar",
           "government official"
          ],
          [
           "kpk",
           "peshawar",
           "military"
          ],
          [
           "kpk",
           "peshawar",
           "civilian"
          ],
          [
           "kpk",
           "peshawar",
           "civilian"
          ],
          [
           "kpk",
           "hangu",
           "civilian"
          ],
          [
           "kpk",
           "bannu",
           "police"
          ],
          [
           "kpk",
           "peshawar",
           "religious"
          ],
          [
           "kpk",
           "mardan",
           "civilian"
          ],
          [
           "kpk",
           "peshawar",
           "civilian"
          ],
          [
           "kpk",
           "hangu",
           "civilian"
          ],
          [
           "kpk",
           "kuram agency",
           "civilian"
          ],
          [
           "kpk",
           "peshawar",
           "civilian"
          ],
          [
           "kpk",
           "hangu",
           "anti-militants"
          ],
          [
           "kpk",
           "d.i khan",
           "civilian"
          ],
          [
           "kpk",
           "bannu",
           "military"
          ],
          [
           "kpk",
           "khyber agency",
           "government official"
          ],
          [
           "kpk",
           "hangu",
           "civilian"
          ],
          [
           "kpk",
           "peshawar",
           null
          ],
          [
           "kpk",
           "peshawar",
           "civilian"
          ],
          [
           "kpk",
           "peshawar",
           "civilian"
          ],
          [
           "kpk",
           "peshawar",
           "military"
          ],
          [
           "kpk",
           "peshawar",
           "police"
          ],
          [
           "kpk",
           "peshawar",
           "civilian"
          ],
          [
           "kpk",
           "peshawar",
           "civilian"
          ],
          [
           "kpk",
           "peshawar",
           "military"
          ],
          [
           "kpk",
           "peshawar",
           null
          ],
          [
           "kpk",
           "peshawar",
           null
          ],
          [
           "kpk",
           "peshawar",
           null
          ],
          [
           "kpk",
           "khyber agency",
           null
          ],
          [
           "kpk",
           "mardan",
           "civilian"
          ],
          [
           "kpk",
           "peshawar",
           null
          ],
          [
           "kpk",
           "shabqadar-charsadda",
           null
          ],
          [
           "kpk",
           "mardan",
           "government official"
          ],
          [
           "kpk",
           "mardan",
           "police"
          ],
          [
           "kpk",
           "mardan",
           "civilian"
          ],
          [
           "kpk",
           "bannu",
           "police"
          ],
          [
           "kpk",
           "hayatabad",
           "civilian judges"
          ],
          [
           "kpk",
           "tangi, charsadda district",
           "judges & lawyers"
          ],
          [
           "kpk",
           "kohat",
           "police"
          ],
          [
           "kpk",
           "peshawar",
           "military"
          ],
          [
           "kpk",
           "peshawar",
           "military"
          ],
          [
           "kpk",
           "peshawar",
           "police"
          ]
         ],
         "hovertemplate": "Province=%{customdata[0]}<br>Year=%{x}<br>Number of Deaths=%{y}<br>City=%{customdata[1]}<br>Target Type=%{customdata[2]}<extra></extra>",
         "legendgroup": "kpk",
         "marker": {
          "color": "#19d3f3",
          "pattern": {
           "shape": ""
          }
         },
         "name": "kpk",
         "offsetgroup": "kpk",
         "orientation": "v",
         "showlegend": true,
         "textposition": "auto",
         "type": "bar",
         "x": [
          2004,
          2005,
          2006,
          2006,
          2006,
          2006,
          2006,
          2007,
          2007,
          2007,
          2007,
          2007,
          2007,
          2007,
          2007,
          2007,
          2007,
          2007,
          2007,
          2007,
          2007,
          2007,
          2007,
          2007,
          2007,
          2007,
          2007,
          2007,
          2007,
          2007,
          2007,
          2007,
          2007,
          2007,
          2007,
          2007,
          2008,
          2008,
          2008,
          2008,
          2008,
          2008,
          2008,
          2008,
          2008,
          2008,
          2008,
          2008,
          2008,
          2008,
          2008,
          2008,
          2008,
          2008,
          2008,
          2008,
          2008,
          2008,
          2008,
          2008,
          2008,
          2008,
          2008,
          2008,
          2008,
          2008,
          2008,
          2008,
          2008,
          2009,
          2009,
          2009,
          2009,
          2009,
          2009,
          2009,
          2009,
          2009,
          2009,
          2009,
          2009,
          2009,
          2009,
          2009,
          2009,
          2009,
          2009,
          2009,
          2009,
          2009,
          2009,
          2009,
          2009,
          2009,
          2009,
          2009,
          2009,
          2009,
          2009,
          2009,
          2009,
          2009,
          2009,
          2009,
          2009,
          2009,
          2009,
          2009,
          2009,
          2009,
          2009,
          2009,
          2009,
          2009,
          2009,
          2009,
          2009,
          2009,
          2009,
          2009,
          2009,
          2009,
          2009,
          2009,
          2009,
          2009,
          2009,
          2010,
          2010,
          2010,
          2010,
          2010,
          2010,
          2010,
          2010,
          2010,
          2010,
          2010,
          2010,
          2010,
          2010,
          2010,
          2010,
          2010,
          2010,
          2010,
          2010,
          2010,
          2010,
          2010,
          2010,
          2010,
          2010,
          2010,
          2010,
          2010,
          2010,
          2010,
          2010,
          2011,
          2011,
          2011,
          2011,
          2011,
          2011,
          2011,
          2011,
          2011,
          2011,
          2011,
          2011,
          2011,
          2011,
          2011,
          2011,
          2011,
          2011,
          2011,
          2011,
          2011,
          2011,
          2011,
          2011,
          2011,
          2011,
          2011,
          2011,
          2012,
          2012,
          2012,
          2012,
          2012,
          2012,
          2012,
          2012,
          2012,
          2012,
          2012,
          2012,
          2012,
          2012,
          2012,
          2012,
          2012,
          2012,
          2013,
          2013,
          2013,
          2013,
          2013,
          2013,
          2013,
          2013,
          2013,
          2013,
          2013,
          2013,
          2013,
          2013,
          2013,
          2013,
          2013,
          2013,
          2013,
          2013,
          2014,
          2014,
          2014,
          2014,
          2014,
          2014,
          2014,
          2014,
          2014,
          2014,
          2015,
          2015,
          null,
          null,
          null,
          null,
          null,
          2016,
          null,
          null,
          null,
          null,
          null,
          null,
          null,
          null
         ],
         "xaxis": "x",
         "y": [
          3,
          2,
          40,
          7,
          42,
          1,
          1,
          15,
          3,
          1,
          2,
          35,
          26,
          3,
          7,
          30,
          20,
          8,
          20,
          2,
          null,
          1,
          7,
          4,
          19,
          20,
          5,
          16,
          38,
          4,
          1,
          13,
          6,
          12,
          60,
          14,
          null,
          12,
          27,
          3,
          45,
          43,
          3,
          7,
          1,
          13,
          1,
          32,
          15,
          5,
          35,
          10,
          17,
          13,
          5,
          4,
          null,
          10,
          7,
          2,
          4,
          7,
          10,
          9,
          10,
          6,
          10,
          1,
          37,
          10,
          1,
          2,
          12,
          5,
          36,
          2,
          1,
          5,
          15,
          18,
          27,
          11,
          11,
          9,
          5,
          5,
          15,
          2,
          7,
          2,
          1,
          1,
          2,
          5,
          1,
          7,
          0,
          3,
          3,
          18,
          null,
          1,
          37,
          2,
          0,
          10,
          14,
          5,
          50,
          41,
          12,
          15,
          19,
          3,
          34,
          13,
          8,
          12,
          3,
          22,
          2,
          11,
          33,
          0,
          12,
          3,
          5,
          100,
          8,
          0,
          5,
          22,
          15,
          31,
          1,
          13,
          4,
          14,
          17,
          2,
          8,
          56,
          44,
          7,
          24,
          5,
          7,
          0,
          8,
          4,
          1,
          19,
          null,
          5,
          76,
          6,
          20,
          17,
          4,
          20,
          7,
          36,
          3,
          null,
          9,
          43,
          8,
          13,
          12,
          1,
          50,
          9,
          95,
          3,
          11,
          32,
          19,
          35,
          10,
          7,
          2,
          60,
          2,
          34,
          2,
          3,
          6,
          2,
          8,
          4,
          4,
          1,
          0,
          15,
          1,
          13,
          3,
          7,
          2,
          20,
          6,
          8,
          6,
          null,
          9,
          27,
          null,
          0,
          null,
          4,
          12,
          18,
          10,
          12,
          3,
          3,
          34,
          15,
          8,
          50,
          81,
          17,
          9,
          0,
          0,
          2,
          6,
          9,
          4,
          3,
          11,
          5,
          2,
          5,
          148,
          21,
          2,
          6,
          26,
          12,
          20,
          1,
          1,
          14,
          0,
          1,
          7,
          4,
          2,
          1,
          3
         ],
         "yaxis": "y"
        },
        {
         "alignmentgroup": "True",
         "customdata": [
          [
           "ajk",
           "muzaffarabad",
           "military"
          ],
          [
           "ajk",
           "muzaffarabad",
           "religious"
          ],
          [
           "ajk",
           "sudhanoti",
           "military"
          ],
          [
           "ajk",
           "poonch",
           "police"
          ],
          [
           "ajk",
           "poonch",
           "military"
          ],
          [
           "ajk",
           "muzaffarabad",
           "religious"
          ]
         ],
         "hovertemplate": "Province=%{customdata[0]}<br>Year=%{x}<br>Number of Deaths=%{y}<br>City=%{customdata[1]}<br>Target Type=%{customdata[2]}<extra></extra>",
         "legendgroup": "ajk",
         "marker": {
          "color": "#FF6692",
          "pattern": {
           "shape": ""
          }
         },
         "name": "ajk",
         "offsetgroup": "ajk",
         "orientation": "v",
         "showlegend": true,
         "textposition": "auto",
         "type": "bar",
         "x": [
          2009,
          2009,
          2010,
          2010,
          2010,
          2010
         ],
         "xaxis": "x",
         "y": [
          2,
          15,
          4,
          1,
          0,
          7
         ],
         "yaxis": "y"
        }
       ],
       "layout": {
        "barmode": "relative",
        "legend": {
         "title": {
          "text": "Province"
         },
         "tracegroupgap": 0
        },
        "template": {
         "data": {
          "bar": [
           {
            "error_x": {
             "color": "#2a3f5f"
            },
            "error_y": {
             "color": "#2a3f5f"
            },
            "marker": {
             "line": {
              "color": "#E5ECF6",
              "width": 0.5
             },
             "pattern": {
              "fillmode": "overlay",
              "size": 10,
              "solidity": 0.2
             }
            },
            "type": "bar"
           }
          ],
          "barpolar": [
           {
            "marker": {
             "line": {
              "color": "#E5ECF6",
              "width": 0.5
             },
             "pattern": {
              "fillmode": "overlay",
              "size": 10,
              "solidity": 0.2
             }
            },
            "type": "barpolar"
           }
          ],
          "carpet": [
           {
            "aaxis": {
             "endlinecolor": "#2a3f5f",
             "gridcolor": "white",
             "linecolor": "white",
             "minorgridcolor": "white",
             "startlinecolor": "#2a3f5f"
            },
            "baxis": {
             "endlinecolor": "#2a3f5f",
             "gridcolor": "white",
             "linecolor": "white",
             "minorgridcolor": "white",
             "startlinecolor": "#2a3f5f"
            },
            "type": "carpet"
           }
          ],
          "choropleth": [
           {
            "colorbar": {
             "outlinewidth": 0,
             "ticks": ""
            },
            "type": "choropleth"
           }
          ],
          "contour": [
           {
            "colorbar": {
             "outlinewidth": 0,
             "ticks": ""
            },
            "colorscale": [
             [
              0,
              "#0d0887"
             ],
             [
              0.1111111111111111,
              "#46039f"
             ],
             [
              0.2222222222222222,
              "#7201a8"
             ],
             [
              0.3333333333333333,
              "#9c179e"
             ],
             [
              0.4444444444444444,
              "#bd3786"
             ],
             [
              0.5555555555555556,
              "#d8576b"
             ],
             [
              0.6666666666666666,
              "#ed7953"
             ],
             [
              0.7777777777777778,
              "#fb9f3a"
             ],
             [
              0.8888888888888888,
              "#fdca26"
             ],
             [
              1,
              "#f0f921"
             ]
            ],
            "type": "contour"
           }
          ],
          "contourcarpet": [
           {
            "colorbar": {
             "outlinewidth": 0,
             "ticks": ""
            },
            "type": "contourcarpet"
           }
          ],
          "heatmap": [
           {
            "colorbar": {
             "outlinewidth": 0,
             "ticks": ""
            },
            "colorscale": [
             [
              0,
              "#0d0887"
             ],
             [
              0.1111111111111111,
              "#46039f"
             ],
             [
              0.2222222222222222,
              "#7201a8"
             ],
             [
              0.3333333333333333,
              "#9c179e"
             ],
             [
              0.4444444444444444,
              "#bd3786"
             ],
             [
              0.5555555555555556,
              "#d8576b"
             ],
             [
              0.6666666666666666,
              "#ed7953"
             ],
             [
              0.7777777777777778,
              "#fb9f3a"
             ],
             [
              0.8888888888888888,
              "#fdca26"
             ],
             [
              1,
              "#f0f921"
             ]
            ],
            "type": "heatmap"
           }
          ],
          "heatmapgl": [
           {
            "colorbar": {
             "outlinewidth": 0,
             "ticks": ""
            },
            "colorscale": [
             [
              0,
              "#0d0887"
             ],
             [
              0.1111111111111111,
              "#46039f"
             ],
             [
              0.2222222222222222,
              "#7201a8"
             ],
             [
              0.3333333333333333,
              "#9c179e"
             ],
             [
              0.4444444444444444,
              "#bd3786"
             ],
             [
              0.5555555555555556,
              "#d8576b"
             ],
             [
              0.6666666666666666,
              "#ed7953"
             ],
             [
              0.7777777777777778,
              "#fb9f3a"
             ],
             [
              0.8888888888888888,
              "#fdca26"
             ],
             [
              1,
              "#f0f921"
             ]
            ],
            "type": "heatmapgl"
           }
          ],
          "histogram": [
           {
            "marker": {
             "pattern": {
              "fillmode": "overlay",
              "size": 10,
              "solidity": 0.2
             }
            },
            "type": "histogram"
           }
          ],
          "histogram2d": [
           {
            "colorbar": {
             "outlinewidth": 0,
             "ticks": ""
            },
            "colorscale": [
             [
              0,
              "#0d0887"
             ],
             [
              0.1111111111111111,
              "#46039f"
             ],
             [
              0.2222222222222222,
              "#7201a8"
             ],
             [
              0.3333333333333333,
              "#9c179e"
             ],
             [
              0.4444444444444444,
              "#bd3786"
             ],
             [
              0.5555555555555556,
              "#d8576b"
             ],
             [
              0.6666666666666666,
              "#ed7953"
             ],
             [
              0.7777777777777778,
              "#fb9f3a"
             ],
             [
              0.8888888888888888,
              "#fdca26"
             ],
             [
              1,
              "#f0f921"
             ]
            ],
            "type": "histogram2d"
           }
          ],
          "histogram2dcontour": [
           {
            "colorbar": {
             "outlinewidth": 0,
             "ticks": ""
            },
            "colorscale": [
             [
              0,
              "#0d0887"
             ],
             [
              0.1111111111111111,
              "#46039f"
             ],
             [
              0.2222222222222222,
              "#7201a8"
             ],
             [
              0.3333333333333333,
              "#9c179e"
             ],
             [
              0.4444444444444444,
              "#bd3786"
             ],
             [
              0.5555555555555556,
              "#d8576b"
             ],
             [
              0.6666666666666666,
              "#ed7953"
             ],
             [
              0.7777777777777778,
              "#fb9f3a"
             ],
             [
              0.8888888888888888,
              "#fdca26"
             ],
             [
              1,
              "#f0f921"
             ]
            ],
            "type": "histogram2dcontour"
           }
          ],
          "mesh3d": [
           {
            "colorbar": {
             "outlinewidth": 0,
             "ticks": ""
            },
            "type": "mesh3d"
           }
          ],
          "parcoords": [
           {
            "line": {
             "colorbar": {
              "outlinewidth": 0,
              "ticks": ""
             }
            },
            "type": "parcoords"
           }
          ],
          "pie": [
           {
            "automargin": true,
            "type": "pie"
           }
          ],
          "scatter": [
           {
            "fillpattern": {
             "fillmode": "overlay",
             "size": 10,
             "solidity": 0.2
            },
            "type": "scatter"
           }
          ],
          "scatter3d": [
           {
            "line": {
             "colorbar": {
              "outlinewidth": 0,
              "ticks": ""
             }
            },
            "marker": {
             "colorbar": {
              "outlinewidth": 0,
              "ticks": ""
             }
            },
            "type": "scatter3d"
           }
          ],
          "scattercarpet": [
           {
            "marker": {
             "colorbar": {
              "outlinewidth": 0,
              "ticks": ""
             }
            },
            "type": "scattercarpet"
           }
          ],
          "scattergeo": [
           {
            "marker": {
             "colorbar": {
              "outlinewidth": 0,
              "ticks": ""
             }
            },
            "type": "scattergeo"
           }
          ],
          "scattergl": [
           {
            "marker": {
             "colorbar": {
              "outlinewidth": 0,
              "ticks": ""
             }
            },
            "type": "scattergl"
           }
          ],
          "scattermapbox": [
           {
            "marker": {
             "colorbar": {
              "outlinewidth": 0,
              "ticks": ""
             }
            },
            "type": "scattermapbox"
           }
          ],
          "scatterpolar": [
           {
            "marker": {
             "colorbar": {
              "outlinewidth": 0,
              "ticks": ""
             }
            },
            "type": "scatterpolar"
           }
          ],
          "scatterpolargl": [
           {
            "marker": {
             "colorbar": {
              "outlinewidth": 0,
              "ticks": ""
             }
            },
            "type": "scatterpolargl"
           }
          ],
          "scatterternary": [
           {
            "marker": {
             "colorbar": {
              "outlinewidth": 0,
              "ticks": ""
             }
            },
            "type": "scatterternary"
           }
          ],
          "surface": [
           {
            "colorbar": {
             "outlinewidth": 0,
             "ticks": ""
            },
            "colorscale": [
             [
              0,
              "#0d0887"
             ],
             [
              0.1111111111111111,
              "#46039f"
             ],
             [
              0.2222222222222222,
              "#7201a8"
             ],
             [
              0.3333333333333333,
              "#9c179e"
             ],
             [
              0.4444444444444444,
              "#bd3786"
             ],
             [
              0.5555555555555556,
              "#d8576b"
             ],
             [
              0.6666666666666666,
              "#ed7953"
             ],
             [
              0.7777777777777778,
              "#fb9f3a"
             ],
             [
              0.8888888888888888,
              "#fdca26"
             ],
             [
              1,
              "#f0f921"
             ]
            ],
            "type": "surface"
           }
          ],
          "table": [
           {
            "cells": {
             "fill": {
              "color": "#EBF0F8"
             },
             "line": {
              "color": "white"
             }
            },
            "header": {
             "fill": {
              "color": "#C8D4E3"
             },
             "line": {
              "color": "white"
             }
            },
            "type": "table"
           }
          ]
         },
         "layout": {
          "annotationdefaults": {
           "arrowcolor": "#2a3f5f",
           "arrowhead": 0,
           "arrowwidth": 1
          },
          "autotypenumbers": "strict",
          "coloraxis": {
           "colorbar": {
            "outlinewidth": 0,
            "ticks": ""
           }
          },
          "colorscale": {
           "diverging": [
            [
             0,
             "#8e0152"
            ],
            [
             0.1,
             "#c51b7d"
            ],
            [
             0.2,
             "#de77ae"
            ],
            [
             0.3,
             "#f1b6da"
            ],
            [
             0.4,
             "#fde0ef"
            ],
            [
             0.5,
             "#f7f7f7"
            ],
            [
             0.6,
             "#e6f5d0"
            ],
            [
             0.7,
             "#b8e186"
            ],
            [
             0.8,
             "#7fbc41"
            ],
            [
             0.9,
             "#4d9221"
            ],
            [
             1,
             "#276419"
            ]
           ],
           "sequential": [
            [
             0,
             "#0d0887"
            ],
            [
             0.1111111111111111,
             "#46039f"
            ],
            [
             0.2222222222222222,
             "#7201a8"
            ],
            [
             0.3333333333333333,
             "#9c179e"
            ],
            [
             0.4444444444444444,
             "#bd3786"
            ],
            [
             0.5555555555555556,
             "#d8576b"
            ],
            [
             0.6666666666666666,
             "#ed7953"
            ],
            [
             0.7777777777777778,
             "#fb9f3a"
            ],
            [
             0.8888888888888888,
             "#fdca26"
            ],
            [
             1,
             "#f0f921"
            ]
           ],
           "sequentialminus": [
            [
             0,
             "#0d0887"
            ],
            [
             0.1111111111111111,
             "#46039f"
            ],
            [
             0.2222222222222222,
             "#7201a8"
            ],
            [
             0.3333333333333333,
             "#9c179e"
            ],
            [
             0.4444444444444444,
             "#bd3786"
            ],
            [
             0.5555555555555556,
             "#d8576b"
            ],
            [
             0.6666666666666666,
             "#ed7953"
            ],
            [
             0.7777777777777778,
             "#fb9f3a"
            ],
            [
             0.8888888888888888,
             "#fdca26"
            ],
            [
             1,
             "#f0f921"
            ]
           ]
          },
          "colorway": [
           "#636efa",
           "#EF553B",
           "#00cc96",
           "#ab63fa",
           "#FFA15A",
           "#19d3f3",
           "#FF6692",
           "#B6E880",
           "#FF97FF",
           "#FECB52"
          ],
          "font": {
           "color": "#2a3f5f"
          },
          "geo": {
           "bgcolor": "white",
           "lakecolor": "white",
           "landcolor": "#E5ECF6",
           "showlakes": true,
           "showland": true,
           "subunitcolor": "white"
          },
          "hoverlabel": {
           "align": "left"
          },
          "hovermode": "closest",
          "mapbox": {
           "style": "light"
          },
          "paper_bgcolor": "white",
          "plot_bgcolor": "#E5ECF6",
          "polar": {
           "angularaxis": {
            "gridcolor": "white",
            "linecolor": "white",
            "ticks": ""
           },
           "bgcolor": "#E5ECF6",
           "radialaxis": {
            "gridcolor": "white",
            "linecolor": "white",
            "ticks": ""
           }
          },
          "scene": {
           "xaxis": {
            "backgroundcolor": "#E5ECF6",
            "gridcolor": "white",
            "gridwidth": 2,
            "linecolor": "white",
            "showbackground": true,
            "ticks": "",
            "zerolinecolor": "white"
           },
           "yaxis": {
            "backgroundcolor": "#E5ECF6",
            "gridcolor": "white",
            "gridwidth": 2,
            "linecolor": "white",
            "showbackground": true,
            "ticks": "",
            "zerolinecolor": "white"
           },
           "zaxis": {
            "backgroundcolor": "#E5ECF6",
            "gridcolor": "white",
            "gridwidth": 2,
            "linecolor": "white",
            "showbackground": true,
            "ticks": "",
            "zerolinecolor": "white"
           }
          },
          "shapedefaults": {
           "line": {
            "color": "#2a3f5f"
           }
          },
          "ternary": {
           "aaxis": {
            "gridcolor": "white",
            "linecolor": "white",
            "ticks": ""
           },
           "baxis": {
            "gridcolor": "white",
            "linecolor": "white",
            "ticks": ""
           },
           "bgcolor": "#E5ECF6",
           "caxis": {
            "gridcolor": "white",
            "linecolor": "white",
            "ticks": ""
           }
          },
          "title": {
           "x": 0.05
          },
          "xaxis": {
           "automargin": true,
           "gridcolor": "white",
           "linecolor": "white",
           "ticks": "",
           "title": {
            "standoff": 15
           },
           "zerolinecolor": "white",
           "zerolinewidth": 2
          },
          "yaxis": {
           "automargin": true,
           "gridcolor": "white",
           "linecolor": "white",
           "ticks": "",
           "title": {
            "standoff": 15
           },
           "zerolinecolor": "white",
           "zerolinewidth": 2
          }
         }
        },
        "title": {
         "font": {
          "size": 20
         },
         "text": "People Killed In Each Year Via Bomb Blasts In Pak",
         "x": 0.5
        },
        "xaxis": {
         "anchor": "y",
         "domain": [
          0,
          1
         ],
         "tickangle": -45,
         "title": {
          "text": "Year"
         }
        },
        "yaxis": {
         "anchor": "x",
         "domain": [
          0,
          1
         ],
         "title": {
          "text": "Number of Deaths"
         }
        }
       }
      }
     },
     "metadata": {},
     "output_type": "display_data"
    }
   ],
   "source": [
    "#make barplot using plotly\n",
    "fig = px.bar(df, x='Year', y='Killed Max', title='People Killed In Each Year Via Bomb Blasts In Pak',\n",
    "            labels={'Killed Max': 'Number of Deaths', 'Year': 'Year', 'Location': 'Location'}, \n",
    "            color='Province',\n",
    "            hover_data=['Province', 'City', 'Target Type'],\n",
    "            color_continuous_scale=px.colors.sequential.Jet)\n",
    "# Update layout for better visuals\n",
    "fig.update_layout(\n",
    "    xaxis_title='Year',\n",
    "    yaxis_title='Number of Deaths',\n",
    "    legend_title='Province',\n",
    "    title_font_size=20,\n",
    "    title_x=0.5,\n",
    "    xaxis_tickangle=-45\n",
    ")\n",
    "\n",
    "fig.show()"
   ]
  },
  {
   "cell_type": "code",
   "execution_count": null,
   "metadata": {},
   "outputs": [],
   "source": [
    "import os\n",
    "if not os.path.exists(\"images\"):\n",
    "    os.makedirs(\"images\")\n",
    "fig.write_image(\"images/killed_per_year_province.png\")"
   ]
  },
  {
   "cell_type": "markdown",
   "metadata": {},
   "source": [
    "- It shows that mostly people were killed in 2007, 2008, 2009, 2010 Suicide Blasts and mostly Blasts occured in KPK. "
   ]
  },
  {
   "cell_type": "code",
   "execution_count": 22,
   "metadata": {},
   "outputs": [
    {
     "data": {
      "application/vnd.plotly.v1+json": {
       "config": {
        "plotlyServerURL": "https://plot.ly"
       },
       "data": [
        {
         "alignmentgroup": "True",
         "customdata": [
          [
           "capital",
           "islamabad",
           "foreigner"
          ],
          [
           "capital",
           "islamabad",
           "civilian"
          ],
          [
           "capital",
           "islamabad",
           "foreigner"
          ],
          [
           "capital",
           "islamabad",
           "civilian"
          ],
          [
           "capital",
           "islamabad",
           "government official"
          ],
          [
           "capital",
           "islamabad",
           "police"
          ],
          [
           "capital",
           "islamabad",
           "foreigner"
          ],
          [
           "capital",
           "islamabad",
           "police"
          ],
          [
           "capital",
           "islamabad",
           "foreigner"
          ],
          [
           "capital",
           "islamabad",
           "police"
          ],
          [
           "capital",
           "islamabad",
           "police"
          ],
          [
           "capital",
           "islamabad",
           "military"
          ],
          [
           "capital",
           "islamabad",
           "police"
          ],
          [
           "capital",
           "islamabad",
           "foreigner"
          ],
          [
           "capital",
           "islamabad",
           "civilian"
          ],
          [
           "capital",
           "islamabad",
           "military"
          ],
          [
           "capital",
           "islamabad",
           "religious"
          ],
          [
           "capital",
           "islamabad",
           "religious"
          ],
          [
           "capital",
           "islamabad",
           "civilian"
          ],
          [
           "capital",
           "islamabad",
           "government official"
          ]
         ],
         "hovertemplate": "Province=%{customdata[0]}<br>Year=%{x}<br>Number of Injuries=%{y}<br>City=%{customdata[1]}<br>Target Type=%{customdata[2]}<extra></extra>",
         "legendgroup": "capital",
         "marker": {
          "color": "#636efa",
          "pattern": {
           "shape": ""
          }
         },
         "name": "capital",
         "offsetgroup": "capital",
         "orientation": "v",
         "showlegend": true,
         "textposition": "auto",
         "type": "bar",
         "x": [
          1995,
          2005,
          2007,
          2007,
          2007,
          2007,
          2008,
          2008,
          2008,
          2008,
          2009,
          2009,
          2009,
          2009,
          2009,
          2009,
          2009,
          2010,
          2011,
          2014
         ],
         "xaxis": "x",
         "y": [
          60,
          100,
          7,
          10,
          70,
          70,
          30,
          47,
          300,
          12,
          8,
          7,
          5,
          8,
          40,
          18,
          4,
          2,
          6,
          29
         ],
         "yaxis": "y"
        },
        {
         "alignmentgroup": "True",
         "customdata": [
          [
           "sindh",
           "karachi",
           "media"
          ],
          [
           "sindh",
           "karachi",
           "foreigner"
          ],
          [
           "sindh",
           "karachi",
           "foreigner"
          ],
          [
           "sindh",
           "karachi",
           "religious"
          ],
          [
           "sindh",
           "karachi",
           "religious"
          ],
          [
           "sindh",
           "karachi",
           "religious"
          ],
          [
           "sindh",
           "karachi",
           "foreigner"
          ],
          [
           "sindh",
           "karachi",
           "religious"
          ],
          [
           "sindh",
           "karachi",
           "government official"
          ],
          [
           "sindh",
           "karachi",
           "religious"
          ],
          [
           "sindh",
           "karachi",
           "military"
          ],
          [
           "sindh",
           "karachi",
           "civilian"
          ],
          [
           "sindh",
           "karachi",
           "police"
          ],
          [
           "sindh",
           "karachi",
           "police"
          ],
          [
           "sindh",
           "karachi",
           "military"
          ],
          [
           "sindh",
           "karachi",
           "police"
          ],
          [
           "sindh",
           "karachi",
           "military"
          ],
          [
           "sindh",
           "karachi",
           "religious"
          ],
          [
           "sindh",
           "shikarpur",
           "civilian"
          ],
          [
           "sindh",
           "karachi",
           "military"
          ],
          [
           "sindh",
           "sukkur",
           "military"
          ],
          [
           "sindh",
           "karachi",
           "police"
          ],
          [
           "sindh",
           "karachi",
           "police"
          ],
          [
           "sindh",
           "karachi",
           "military"
          ],
          [
           "sindh",
           "karachi",
           "police"
          ],
          [
           "sindh",
           "karachi",
           "police"
          ],
          [
           "sindh",
           "karachi",
           null
          ],
          [
           "sindh",
           "shikarpur",
           null
          ],
          [
           "sindh",
           "karachi",
           null
          ],
          [
           "sindh",
           "karachi",
           "rangers"
          ],
          [
           "sindh",
           "karachi",
           null
          ],
          [
           "sindh",
           "karachi",
           "police & rangers"
          ],
          [
           "sindh",
           "jacobabad",
           "religious"
          ],
          [
           "sindh",
           "shikarpur",
           "religious"
          ],
          [
           "sindh",
           "sehwan town",
           "shia sect"
          ]
         ],
         "hovertemplate": "Province=%{customdata[0]}<br>Year=%{x}<br>Number of Injuries=%{y}<br>City=%{customdata[1]}<br>Target Type=%{customdata[2]}<extra></extra>",
         "legendgroup": "sindh",
         "marker": {
          "color": "#EF553B",
          "pattern": {
           "shape": ""
          }
         },
         "name": "sindh",
         "offsetgroup": "sindh",
         "orientation": "v",
         "showlegend": true,
         "textposition": "auto",
         "type": "bar",
         "x": [
          2000,
          2002,
          2002,
          2004,
          2004,
          2005,
          2006,
          2006,
          2007,
          2010,
          2010,
          2011,
          2011,
          2011,
          2011,
          2012,
          2012,
          2012,
          2013,
          2013,
          2013,
          2013,
          2014,
          2014,
          2014,
          2014,
          2014,
          2015,
          2015,
          2015,
          2015,
          null,
          null,
          null,
          null
         ],
         "xaxis": "x",
         "y": [
          3,
          40,
          51,
          200,
          35,
          30,
          54,
          100,
          550,
          77,
          140,
          0,
          7,
          1,
          0,
          14,
          23,
          7,
          2,
          5,
          30,
          21,
          11,
          1,
          47,
          15,
          24,
          39,
          0,
          0,
          0,
          0,
          40,
          13,
          200
         ],
         "yaxis": "y"
        },
        {
         "alignmentgroup": "True",
         "customdata": [
          [
           "balochistan",
           "quetta",
           "religious"
          ],
          [
           "balochistan",
           "quetta",
           "religious"
          ],
          [
           "balochistan",
           "lasbela",
           "civilian"
          ],
          [
           "balochistan",
           "quetta",
           "civilian"
          ],
          [
           "balochistan",
           "lasbela",
           "foreigner"
          ],
          [
           "balochistan",
           "quetta",
           "military"
          ],
          [
           "balochistan",
           "quetta",
           "civilian"
          ],
          [
           "balochistan",
           "quetta",
           "military"
          ],
          [
           "balochistan",
           "pishin",
           "government official"
          ],
          [
           "balochistan",
           "quetta",
           "government official"
          ],
          [
           "balochistan",
           "quetta",
           "civilian"
          ],
          [
           "balochistan",
           "quetta",
           "government official"
          ],
          [
           "balochistan",
           "quetta",
           "government official"
          ],
          [
           "balochistan",
           "quetta",
           "police"
          ],
          [
           "balochistan",
           "quetta",
           "religious"
          ],
          [
           "balochistan",
           "quetta",
           "military"
          ],
          [
           "balochistan",
           "quetta",
           "religious"
          ],
          [
           "balochistan",
           "quetta",
           "civilian"
          ],
          [
           "balochistan",
           "quetta",
           "civilian"
          ],
          [
           "balochistan",
           "quetta",
           "civilian"
          ],
          [
           "balochistan",
           "quetta",
           "police"
          ],
          [
           "balochistan",
           "quetta",
           "civilian"
          ],
          [
           "balochistan",
           "quetta",
           "police"
          ],
          [
           "balochistan",
           "quetta",
           "civilian"
          ],
          [
           "balochistan",
           "quetta",
           "police"
          ],
          [
           "balochistan",
           "chaman",
           "government official"
          ],
          [
           "balochistan",
           "quetta",
           "civilian"
          ],
          [
           "balochistan",
           "taftan",
           "civilian"
          ],
          [
           "balochistan",
           "quetta",
           "civilian"
          ],
          [
           "balochistan",
           "quetta",
           "civilian"
          ],
          [
           "balochistan",
           "zhob",
           null
          ],
          [
           "balochistan",
           "quetta",
           null
          ],
          [
           "balochistan",
           "quetta",
           "religious"
          ],
          [
           "balochistan",
           "quetta",
           "civilian & police"
          ],
          [
           "balochistan",
           "zhob",
           "army"
          ],
          [
           "balochistan",
           "quetta",
           "frontier corps"
          ],
          [
           "balochistan",
           "quetta",
           "advocates (lawyers)"
          ],
          [
           "balochistan",
           "quetta",
           "police"
          ],
          [
           "balochistan",
           "khuzdar",
           "civilian"
          ],
          [
           "balochistan",
           "quetta",
           "government official"
          ],
          [
           "balochistan",
           "quetta",
           "shia sect"
          ],
          [
           "balochistan",
           "chaman",
           "police"
          ],
          [
           "balochistan",
           "quetta",
           "military"
          ],
          [
           "balochistan",
           "quetta",
           "civilian"
          ],
          [
           "balochistan",
           "quetta",
           "police"
          ],
          [
           "balochistan",
           "quetta",
           "police"
          ],
          [
           "balochistan",
           "quetta",
           "military"
          ]
         ],
         "hovertemplate": "Province=%{customdata[0]}<br>Year=%{x}<br>Number of Injuries=%{y}<br>City=%{customdata[1]}<br>Target Type=%{customdata[2]}<extra></extra>",
         "legendgroup": "balochistan",
         "marker": {
          "color": "#00cc96",
          "pattern": {
           "shape": ""
          }
         },
         "name": "balochistan",
         "offsetgroup": "balochistan",
         "orientation": "v",
         "showlegend": true,
         "textposition": "auto",
         "type": "bar",
         "x": [
          2003,
          2005,
          2006,
          2007,
          2007,
          2007,
          2008,
          2008,
          2009,
          2010,
          2010,
          2010,
          2010,
          2011,
          2011,
          2011,
          2012,
          2013,
          2013,
          2013,
          2013,
          2013,
          2013,
          2013,
          2013,
          2013,
          2014,
          2014,
          2014,
          2014,
          2014,
          2015,
          null,
          null,
          null,
          null,
          null,
          null,
          null,
          null,
          null,
          null,
          null,
          null,
          null,
          null,
          null
         ],
         "xaxis": "x",
         "y": [
          65,
          100,
          0,
          35,
          50,
          23,
          1,
          25,
          12,
          40,
          200,
          6,
          12,
          19,
          25,
          82,
          30,
          121,
          200,
          40,
          68,
          19,
          0,
          70,
          60,
          16,
          31,
          16,
          12,
          20,
          0,
          0,
          15,
          36,
          6,
          35,
          120,
          165,
          100,
          37,
          100,
          11,
          40,
          0,
          22,
          8,
          22
         ],
         "yaxis": "y"
        },
        {
         "alignmentgroup": "True",
         "customdata": [
          [
           "punjab",
           "rawalpindi",
           "military"
          ],
          [
           "punjab",
           "rawalpindi",
           "religious"
          ],
          [
           "punjab",
           "attock",
           "government official"
          ],
          [
           "punjab",
           "sialkot",
           "religious"
          ],
          [
           "punjab",
           "lahore",
           "religious"
          ],
          [
           "punjab",
           "gujrat",
           "military"
          ],
          [
           "punjab",
           "rawalpindi",
           "military"
          ],
          [
           "punjab",
           "rawalpindi",
           "military"
          ],
          [
           "punjab",
           "rawalpindi",
           "military"
          ],
          [
           "punjab",
           "sargodha",
           "military"
          ],
          [
           "punjab",
           "rawalpindi",
           "military"
          ],
          [
           "punjab",
           "rawalpindi",
           "military"
          ],
          [
           "punjab",
           "attock",
           "children/women"
          ],
          [
           "punjab",
           "rawalpindi",
           "government official"
          ],
          [
           "punjab",
           "lahore",
           "police"
          ],
          [
           "punjab",
           "rawalpindi",
           "military"
          ],
          [
           "punjab",
           "rawalpindi",
           "military"
          ],
          [
           "punjab",
           "lahore",
           "military"
          ],
          [
           "punjab",
           "lahore",
           "government official"
          ],
          [
           "punjab",
           "lahore",
           "civilian"
          ],
          [
           "punjab",
           "lahore",
           "police"
          ],
          [
           "punjab",
           "rawalpindi",
           "government official"
          ],
          [
           "punjab",
           "bhakkar",
           "government official"
          ],
          [
           "punjab",
           "d.g khan",
           "religious"
          ],
          [
           "punjab",
           "rawalpindi",
           "civilian"
          ],
          [
           "punjab",
           "chakwal",
           "religious"
          ],
          [
           "punjab",
           "lahore",
           "police"
          ],
          [
           "punjab",
           "lahore",
           "religious"
          ],
          [
           "punjab",
           "rawalpindi",
           "government official"
          ],
          [
           "punjab",
           "lahore",
           "police"
          ],
          [
           "punjab",
           "attock",
           "military"
          ],
          [
           "punjab",
           "chakwal",
           "police"
          ],
          [
           "punjab",
           "rawalpindi",
           "civilian"
          ],
          [
           "punjab",
           "lahore",
           "police"
          ],
          [
           "punjab",
           "rawalpindi",
           "military"
          ],
          [
           "punjab",
           "lahore",
           "civilian"
          ],
          [
           "punjab",
           "multan",
           "military"
          ],
          [
           "punjab",
           "lahore",
           "military"
          ],
          [
           "punjab",
           "lahore",
           "military"
          ],
          [
           "punjab",
           "lahore",
           "civilian"
          ],
          [
           "punjab",
           "lahore",
           "civilian"
          ],
          [
           "punjab",
           "sargodha",
           "religious"
          ],
          [
           "punjab",
           "lahore",
           "religious"
          ],
          [
           "punjab",
           "lahore",
           "religious"
          ],
          [
           "punjab",
           "gujrat",
           "civilian"
          ],
          [
           "punjab",
           "rawalpindi",
           "religious"
          ],
          [
           "punjab",
           "rawalpindi",
           "civilian"
          ],
          [
           "punjab",
           "rawalpindi",
           "military"
          ],
          [
           "punjab",
           "khanewal",
           "police"
          ],
          [
           "punjab",
           "fateh jang",
           "military"
          ],
          [
           "punjab",
           "wagah",
           "civilian"
          ],
          [
           "punjab",
           "lahore",
           null
          ],
          [
           "punjab",
           "rawalpindi",
           null
          ],
          [
           "punjab",
           "lahore",
           null
          ],
          [
           "punjab",
           "lahore",
           null
          ],
          [
           "punjab",
           "sargodha",
           null
          ],
          [
           "punjab",
           "lahore",
           null
          ],
          [
           "punjab",
           "attock",
           null
          ],
          [
           "punjab",
           "multan",
           null
          ],
          [
           "punjab",
           "taunsa",
           null
          ],
          [
           "punjab",
           "lahore",
           null
          ],
          [
           "punjab",
           "lahore",
           "civilian"
          ],
          [
           "punjab",
           "lahore",
           "military"
          ],
          [
           "punjab",
           "lahore",
           "police"
          ]
         ],
         "hovertemplate": "Province=%{customdata[0]}<br>Year=%{x}<br>Number of Injuries=%{y}<br>City=%{customdata[1]}<br>Target Type=%{customdata[2]}<extra></extra>",
         "legendgroup": "punjab",
         "marker": {
          "color": "#ab63fa",
          "pattern": {
           "shape": ""
          }
         },
         "name": "punjab",
         "offsetgroup": "punjab",
         "orientation": "v",
         "showlegend": true,
         "textposition": "auto",
         "type": "bar",
         "x": [
          2003,
          2004,
          2004,
          2004,
          2004,
          2007,
          2007,
          2007,
          2007,
          2007,
          2007,
          2007,
          2007,
          2007,
          2008,
          2008,
          2008,
          2008,
          2008,
          2008,
          2008,
          2008,
          2008,
          2009,
          2009,
          2009,
          2009,
          2009,
          2009,
          2009,
          2009,
          2009,
          2009,
          2009,
          2009,
          2009,
          2009,
          2010,
          2010,
          2010,
          2010,
          2010,
          2010,
          2011,
          2012,
          2012,
          2013,
          2014,
          2014,
          2014,
          2014,
          2015,
          2015,
          2015,
          2015,
          2015,
          2015,
          null,
          null,
          null,
          null,
          null,
          null,
          null
         ],
         "xaxis": "x",
         "y": [
          50,
          4,
          70,
          75,
          10,
          8,
          0,
          0,
          31,
          40,
          35,
          5,
          22,
          70,
          80,
          47,
          30,
          24,
          200,
          12,
          35,
          200,
          100,
          55,
          18,
          60,
          370,
          12,
          40,
          50,
          17,
          0,
          65,
          25,
          83,
          135,
          61,
          100,
          100,
          200,
          175,
          26,
          243,
          80,
          0,
          40,
          0,
          15,
          5,
          5,
          120,
          0,
          6,
          72,
          6,
          6,
          0,
          25,
          2,
          20,
          300,
          90,
          22,
          56
         ],
         "yaxis": "y"
        },
        {
         "alignmentgroup": "True",
         "customdata": [
          [
           "fata",
           "north waziristan",
           "military"
          ],
          [
           "fata",
           "north waziristan",
           "military"
          ],
          [
           "fata",
           "north waziristan",
           "military"
          ],
          [
           "fata",
           "north waziristan",
           "military"
          ],
          [
           "fata",
           "north waziristan",
           "government official"
          ],
          [
           "fata",
           "north waziristan",
           "military"
          ],
          [
           "fata",
           "north waziristan",
           "military"
          ],
          [
           "fata",
           "north waziristan",
           "military"
          ],
          [
           "fata",
           "kuram agency",
           "civilian"
          ],
          [
           "fata",
           "north waziristan",
           "military"
          ],
          [
           "fata",
           "north waziristan",
           "military"
          ],
          [
           "fata",
           "bajaur agency",
           "military"
          ],
          [
           "fata",
           "south waziristan",
           "military"
          ],
          [
           "fata",
           "mohmand agency",
           "military"
          ],
          [
           "fata",
           "north waziristan",
           "police"
          ],
          [
           "fata",
           "north waziristan",
           "government official"
          ],
          [
           "fata",
           "kuram agency",
           "government official"
          ],
          [
           "fata",
           "bajaur agency",
           "military"
          ],
          [
           "fata",
           "south waziristan",
           "military"
          ],
          [
           "fata",
           "khyber agency",
           "religious"
          ],
          [
           "fata",
           "khyber agency",
           "foreigner"
          ],
          [
           "fata",
           "orakzai agency",
           "anti-militants"
          ],
          [
           "fata",
           "mohmand agency",
           "military"
          ],
          [
           "fata",
           "south waziristan",
           "military"
          ],
          [
           "fata",
           "bajaur agency",
           "anti-militants"
          ],
          [
           "fata",
           "bajaur agency",
           "religious"
          ],
          [
           "fata",
           "khyber agency",
           "foreigner"
          ],
          [
           "fata",
           "khyber agency",
           "religious"
          ],
          [
           "fata",
           "north waziristan",
           "military"
          ],
          [
           "fata",
           "north waziristan",
           "military"
          ],
          [
           "fata",
           "upper dir",
           "religious"
          ],
          [
           "fata",
           "khyber agency",
           "foreigner"
          ],
          [
           "fata",
           "south waziristan",
           "anti-militants"
          ],
          [
           "fata",
           "khyber agency",
           "military"
          ],
          [
           "fata",
           "bajaur agency",
           "military"
          ],
          [
           "fata",
           "bajaur agency",
           "anti-militants"
          ],
          [
           "fata",
           "bajaur agency",
           "military"
          ],
          [
           "fata",
           "mohmand agency",
           "government official"
          ],
          [
           "fata",
           "south waziristan",
           "anti-militants"
          ],
          [
           "fata",
           "south waziristan",
           "anti-militants"
          ],
          [
           "fata",
           "mohmand agency",
           "government official"
          ],
          [
           "fata",
           "bajaur agency",
           "police"
          ],
          [
           "fata",
           "bajaur agency",
           "military"
          ],
          [
           "fata",
           "mohmand agency",
           "police"
          ],
          [
           "fata",
           "bajaur agency",
           "anti-militants"
          ],
          [
           "fata",
           "bajaur agency",
           "anti-militants"
          ],
          [
           "fata",
           "south waziristan",
           "foreigner"
          ],
          [
           "fata",
           "south waziristan",
           "military"
          ],
          [
           "fata",
           "mohmand agency",
           "military"
          ],
          [
           "fata",
           "khyber agency",
           "civilian"
          ],
          [
           "fata",
           "kuram agency",
           "civilian"
          ],
          [
           "fata",
           "upper dir",
           "civilian"
          ],
          [
           "fata",
           "bajaur agency",
           "police"
          ],
          [
           "fata",
           "kuram agency",
           "civilian"
          ],
          [
           "fata",
           "mohmand agency",
           "government official"
          ],
          [
           "fata",
           "south waziristan",
           "anti-militants"
          ],
          [
           "fata",
           "south waziristan",
           "military"
          ],
          [
           "fata",
           "north waziristan",
           "military"
          ],
          [
           "fata",
           "north waziristan",
           "military"
          ],
          [
           "fata",
           "bajaur agency",
           "civilian"
          ],
          [
           "fata",
           "north waziristan",
           "military"
          ],
          [
           "fata",
           "south waziristan",
           "military"
          ],
          [
           "fata",
           "north waziristan",
           "anti-militants"
          ],
          [
           "fata",
           "north waziristan",
           "military"
          ],
          [
           "fata",
           "north waziristan",
           "military"
          ],
          [
           "fata",
           "tirah valley",
           null
          ],
          [
           "fata",
           "kurram agency",
           null
          ],
          [
           "fata",
           "north waziristan",
           null
          ],
          [
           "fata",
           "khyber agency",
           "civilian"
          ],
          [
           "fata",
           "mohmand agency",
           "religious"
          ],
          [
           "fata",
           "mohmand agency",
           "military"
          ],
          [
           "fata",
           "ghallanai, mohmand agency",
           "army"
          ],
          [
           "fata",
           "mosal kor, mohmand agency",
           "government official"
          ]
         ],
         "hovertemplate": "Province=%{customdata[0]}<br>Year=%{x}<br>Number of Injuries=%{y}<br>City=%{customdata[1]}<br>Target Type=%{customdata[2]}<extra></extra>",
         "legendgroup": "fata",
         "marker": {
          "color": "#FFA15A",
          "pattern": {
           "shape": ""
          }
         },
         "name": "fata",
         "offsetgroup": "fata",
         "orientation": "v",
         "showlegend": true,
         "textposition": "auto",
         "type": "bar",
         "x": [
          2004,
          2006,
          2007,
          2007,
          2007,
          2007,
          2007,
          2007,
          2007,
          2007,
          2007,
          2007,
          2007,
          2008,
          2008,
          2008,
          2008,
          2008,
          2008,
          2008,
          2008,
          2008,
          2008,
          2008,
          2008,
          2008,
          2009,
          2009,
          2009,
          2009,
          2009,
          2009,
          2009,
          2009,
          2010,
          2010,
          2010,
          2010,
          2010,
          2010,
          2010,
          2010,
          2011,
          2011,
          2011,
          2011,
          2011,
          2011,
          2011,
          2012,
          2012,
          2012,
          2012,
          2012,
          2012,
          2012,
          2012,
          2013,
          2013,
          2013,
          2013,
          2013,
          2013,
          2013,
          2014,
          2014,
          2015,
          2015,
          null,
          null,
          null,
          null,
          null
         ],
         "xaxis": "x",
         "y": [
          2,
          26,
          25,
          12,
          3,
          29,
          3,
          6,
          43,
          2,
          37,
          9,
          0,
          0,
          15,
          13,
          110,
          23,
          11,
          30,
          0,
          200,
          5,
          8,
          45,
          0,
          7,
          175,
          9,
          39,
          70,
          11,
          0,
          27,
          47,
          8,
          0,
          110,
          40,
          8,
          100,
          105,
          0,
          3,
          8,
          11,
          2,
          7,
          0,
          9,
          36,
          3,
          75,
          80,
          4,
          18,
          25,
          35,
          18,
          4,
          2,
          2,
          1,
          34,
          1,
          5,
          3,
          0,
          0,
          0,
          14,
          3,
          0
         ],
         "yaxis": "y"
        },
        {
         "alignmentgroup": "True",
         "customdata": [
          [
           "kpk",
           "kohat",
           "military"
          ],
          [
           "kpk",
           "swat",
           "civilian"
          ],
          [
           "kpk",
           "hangu",
           "religious"
          ],
          [
           "kpk",
           "bannu",
           "military"
          ],
          [
           "kpk",
           "malakand",
           "military"
          ],
          [
           "kpk",
           "peshawar",
           "police"
          ],
          [
           "kpk",
           "bannu",
           "police"
          ],
          [
           "kpk",
           "peshawar",
           "civilian"
          ],
          [
           "kpk",
           "d.i khan",
           "civilian"
          ],
          [
           "kpk",
           "lakki marwat",
           "civilian"
          ],
          [
           "kpk",
           "tank",
           "military"
          ],
          [
           "kpk",
           "charsadda",
           "government official"
          ],
          [
           "kpk",
           "peshawar",
           "foreigner"
          ],
          [
           "kpk",
           "tank",
           "military"
          ],
          [
           "kpk",
           "swat",
           "military"
          ],
          [
           "kpk",
           "d.i khan",
           "police"
          ],
          [
           "kpk",
           "swat",
           "police"
          ],
          [
           "kpk",
           "hangu",
           "police"
          ],
          [
           "kpk",
           "kohat",
           "religious"
          ],
          [
           "kpk",
           "swat",
           "civilian"
          ],
          [
           "kpk",
           "tank",
           "military"
          ],
          [
           "kpk",
           "bannu",
           "police"
          ],
          [
           "kpk",
           "hangu",
           "military"
          ],
          [
           "kpk",
           "shangla",
           "police"
          ],
          [
           "kpk",
           "d.i khan",
           "civilian"
          ],
          [
           "kpk",
           "haripur",
           "military"
          ],
          [
           "kpk",
           "tank",
           "military"
          ],
          [
           "kpk",
           "bannu",
           "police"
          ],
          [
           "kpk",
           "swat",
           "military"
          ],
          [
           "kpk",
           "peshawar",
           "government official"
          ],
          [
           "kpk",
           "peshawar",
           "military"
          ],
          [
           "kpk",
           "swat",
           "police"
          ],
          [
           "kpk",
           "nowshehra",
           "military"
          ],
          [
           "kpk",
           "kohat",
           "military"
          ],
          [
           "kpk",
           "charsadda",
           "civilian"
          ],
          [
           "kpk",
           "swat",
           "military"
          ],
          [
           "kpk",
           "swat",
           "military"
          ],
          [
           "kpk",
           "peshawar",
           "religious"
          ],
          [
           "kpk",
           "charsadda",
           "government official"
          ],
          [
           "kpk",
           "swat",
           "military"
          ],
          [
           "kpk",
           "swat",
           "police"
          ],
          [
           "kpk",
           "dara adam khel",
           "anti-militants"
          ],
          [
           "kpk",
           "swat",
           "police"
          ],
          [
           "kpk",
           "bannu",
           "police"
          ],
          [
           "kpk",
           "swat",
           "police"
          ],
          [
           "kpk",
           "mardan",
           "military"
          ],
          [
           "kpk",
           "d.i khan",
           "religious"
          ],
          [
           "kpk",
           "d.i khan",
           "civilian"
          ],
          [
           "kpk",
           "swat",
           "police"
          ],
          [
           "kpk",
           "kohat",
           "military"
          ],
          [
           "kpk",
           "peshawar",
           "police"
          ],
          [
           "kpk",
           "swat",
           "police"
          ],
          [
           "kpk",
           "north waziristan",
           "military"
          ],
          [
           "kpk",
           "swat",
           "military"
          ],
          [
           "kpk",
           "peshawar",
           "government official"
          ],
          [
           "kpk",
           "swat",
           "police"
          ],
          [
           "kpk",
           "bannu",
           "military"
          ],
          [
           "kpk",
           "mardan",
           "police"
          ],
          [
           "kpk",
           "hangu",
           "police"
          ],
          [
           "kpk",
           "swat",
           "police"
          ],
          [
           "kpk",
           "peshawar",
           "government official"
          ],
          [
           "kpk",
           "charsadda",
           "military"
          ],
          [
           "kpk",
           "swat",
           "military"
          ],
          [
           "kpk",
           "buner",
           "police"
          ],
          [
           "kpk",
           "swat",
           "military"
          ],
          [
           "kpk",
           "charsadda",
           "military"
          ],
          [
           "kpk",
           "orakzai agency",
           "civilian"
          ],
          [
           "kpk",
           "buner",
           "government official"
          ],
          [
           "kpk",
           "buner",
           "government official"
          ],
          [
           "kpk",
           "d.i khan",
           "police"
          ],
          [
           "kpk",
           "bannu",
           "police"
          ],
          [
           "kpk",
           "swat",
           "military"
          ],
          [
           "kpk",
           "swat",
           "police"
          ],
          [
           "kpk",
           "bannu",
           "police"
          ],
          [
           "kpk",
           "d.i khan",
           "civilian"
          ],
          [
           "kpk",
           "bannu",
           "police"
          ],
          [
           "kpk",
           "bannu",
           "police"
          ],
          [
           "kpk",
           "peshawar",
           "government official"
          ],
          [
           "kpk",
           "tank",
           "anti-militants"
          ],
          [
           "kpk",
           "charsadda",
           "police"
          ],
          [
           "kpk",
           "hangu",
           "police"
          ],
          [
           "kpk",
           "peshawar",
           "military"
          ],
          [
           "kpk",
           "dara adam khel",
           "police"
          ],
          [
           "kpk",
           "tank",
           "military"
          ],
          [
           "kpk",
           "peshawar",
           "police"
          ],
          [
           "kpk",
           "d.i khan",
           "police"
          ],
          [
           "kpk",
           "peshawar",
           "foreigner"
          ],
          [
           "kpk",
           "peshawar",
           "police"
          ],
          [
           "kpk",
           "nowshehra",
           "religious"
          ],
          [
           "kpk",
           "swat",
           "police"
          ],
          [
           "kpk",
           "peshawar",
           "unknown"
          ],
          [
           "kpk",
           "peshawar",
           "police"
          ],
          [
           "kpk",
           "north waziristan",
           "police"
          ],
          [
           "kpk",
           "swat",
           "police"
          ],
          [
           "kpk",
           "swat",
           "police"
          ],
          [
           "kpk",
           "north waziristan",
           "military"
          ],
          [
           "kpk",
           "kohat",
           "civilian"
          ],
          [
           "kpk",
           "swat",
           "police"
          ],
          [
           "kpk",
           "peshawar",
           "anti-militants"
          ],
          [
           "kpk",
           "swat",
           "police"
          ],
          [
           "kpk",
           "hangu",
           "police"
          ],
          [
           "kpk",
           "malakand",
           "military"
          ],
          [
           "kpk",
           "kohat",
           "civilian"
          ],
          [
           "kpk",
           "dara adam khel",
           "police"
          ],
          [
           "kpk",
           "totalai",
           "government official"
          ],
          [
           "kpk",
           "bannu",
           "police"
          ],
          [
           "kpk",
           "peshawar",
           "civilian"
          ],
          [
           "kpk",
           "bannu",
           "anti-militants"
          ],
          [
           "kpk",
           "peshawar",
           "civilian"
          ],
          [
           "kpk",
           "shangla",
           "military"
          ],
          [
           "kpk",
           "kohat",
           "police"
          ],
          [
           "kpk",
           "peshawar",
           "military"
          ],
          [
           "kpk",
           "peshawar",
           "government official"
          ],
          [
           "kpk",
           "peshawar",
           "police"
          ],
          [
           "kpk",
           "charsadda",
           "civilian"
          ],
          [
           "kpk",
           "peshawar",
           "military"
          ],
          [
           "kpk",
           "bannu",
           "police"
          ],
          [
           "kpk",
           "peshawar",
           "police"
          ],
          [
           "kpk",
           "peshawar",
           "police"
          ],
          [
           "kpk",
           "peshawar",
           "government official"
          ],
          [
           "kpk",
           "swat",
           "government official"
          ],
          [
           "kpk",
           "peshawar",
           "government official"
          ],
          [
           "kpk",
           "d.g khan",
           "government official"
          ],
          [
           "kpk",
           "bannu",
           "government official"
          ],
          [
           "kpk",
           "lower dir",
           "police"
          ],
          [
           "kpk",
           "peshawar",
           "media"
          ],
          [
           "kpk",
           "peshawar",
           "government official"
          ],
          [
           "kpk",
           "lakki marwat",
           "civilian"
          ],
          [
           "kpk",
           "khyber agency",
           "religious"
          ],
          [
           "kpk",
           "peshawar",
           "police"
          ],
          [
           "kpk",
           "tank",
           "police"
          ],
          [
           "kpk",
           "khyber agency",
           "military"
          ],
          [
           "kpk",
           "bannu",
           "police"
          ],
          [
           "kpk",
           "khyber agency",
           "anti-militants"
          ],
          [
           "kpk",
           "mansehra",
           "police"
          ],
          [
           "kpk",
           "swat",
           "military"
          ],
          [
           "kpk",
           "karak",
           "police"
          ],
          [
           "kpk",
           "hangu",
           "civilian"
          ],
          [
           "kpk",
           "swat",
           "police"
          ],
          [
           "kpk",
           "tank",
           "anti-militants"
          ],
          [
           "kpk",
           "peshawar",
           "foreigner"
          ],
          [
           "kpk",
           "lower dir",
           "government official"
          ],
          [
           "kpk",
           "kohat",
           "civilian"
          ],
          [
           "kpk",
           "kohat",
           "police"
          ],
          [
           "kpk",
           "peshawar",
           "anti-militants"
          ],
          [
           "kpk",
           "peshawar",
           "police"
          ],
          [
           "kpk",
           "swat",
           "civilian"
          ],
          [
           "kpk",
           "kohat",
           "government official"
          ],
          [
           "kpk",
           "nowshehra",
           "government official"
          ],
          [
           "kpk",
           "peshawar",
           "military"
          ],
          [
           "kpk",
           "mardan",
           "religious"
          ],
          [
           "kpk",
           "lakki marwat",
           "police"
          ],
          [
           "kpk",
           "lakki marwat",
           "civilian"
          ],
          [
           "kpk",
           "swabi",
           "police"
          ],
          [
           "kpk",
           "dara adam khel",
           "religious"
          ],
          [
           "kpk",
           "bannu",
           "police"
          ],
          [
           "kpk",
           "kohat",
           "civilian"
          ],
          [
           "kpk",
           "hangu",
           "civilian"
          ],
          [
           "kpk",
           "peshawar",
           "civilian"
          ],
          [
           "kpk",
           "bannu",
           "civilian"
          ],
          [
           "kpk",
           "peshawar",
           "police"
          ],
          [
           "kpk",
           "mardan",
           "military"
          ],
          [
           "kpk",
           "malakand",
           "military"
          ],
          [
           "kpk",
           "bannu",
           "police"
          ],
          [
           "kpk",
           "hangu",
           "police"
          ],
          [
           "kpk",
           "peshawar",
           "anti-militants"
          ],
          [
           "kpk",
           "hangu",
           "police"
          ],
          [
           "kpk",
           "swabi",
           "government official"
          ],
          [
           "kpk",
           "charsadda",
           "government official"
          ],
          [
           "kpk",
           "dara adam khel",
           "anti-militants"
          ],
          [
           "kpk",
           "d.g khan",
           "religious"
          ],
          [
           "kpk",
           "lower dir",
           "anti-militants"
          ],
          [
           "kpk",
           "charsadda",
           "military"
          ],
          [
           "kpk",
           "d.g khan",
           "civilian"
          ],
          [
           "kpk",
           "peshawar",
           "police"
          ],
          [
           "kpk",
           "hangu",
           "police"
          ],
          [
           "kpk",
           "nowshehra",
           "military"
          ],
          [
           "kpk",
           "peshawar",
           "civilian"
          ],
          [
           "kpk",
           "d.i khan",
           "police"
          ],
          [
           "kpk",
           "peshawar",
           "government official"
          ],
          [
           "kpk",
           "peshawar",
           "police"
          ],
          [
           "kpk",
           "khyber agency",
           "civilian"
          ],
          [
           "kpk",
           "lakki marwat",
           "police"
          ],
          [
           "kpk",
           "lower dir",
           "civilian"
          ],
          [
           "kpk",
           "nowshehra",
           "police"
          ],
          [
           "kpk",
           "swabi",
           "government official"
          ],
          [
           "kpk",
           "bannu",
           "military"
          ],
          [
           "kpk",
           "peshawar",
           "civilian"
          ],
          [
           "kpk",
           "d.i khan",
           "police"
          ],
          [
           "kpk",
           "peshawar",
           "anti-militants"
          ],
          [
           "kpk",
           "peshawar",
           "police"
          ],
          [
           "kpk",
           "peshawar",
           "government official"
          ],
          [
           "kpk",
           "d.i khan",
           "police"
          ],
          [
           "kpk",
           "peshawar",
           "government official"
          ],
          [
           "kpk",
           "peshawar",
           "police"
          ],
          [
           "kpk",
           "khyber agency",
           "anti-militants"
          ],
          [
           "kpk",
           "peshawar",
           "anti-militants"
          ],
          [
           "kpk",
           "bannu",
           "police"
          ],
          [
           "kpk",
           "peshawar",
           "foreigner"
          ],
          [
           "kpk",
           "dara adam khel",
           "anti-militants"
          ],
          [
           "kpk",
           "buner",
           "anti-militants"
          ],
          [
           "kpk",
           "peshawar",
           "police"
          ],
          [
           "kpk",
           "d.i khan",
           "religious"
          ],
          [
           "kpk",
           "peshawar",
           "police"
          ],
          [
           "kpk",
           "peshawar",
           "government official"
          ],
          [
           "kpk",
           "hangu",
           "civilian"
          ],
          [
           "kpk",
           "hangu",
           "military"
          ],
          [
           "kpk",
           "bannu",
           "police"
          ],
          [
           "kpk",
           "peshawar",
           "government official"
          ],
          [
           "kpk",
           "peshawar",
           "government official"
          ],
          [
           "kpk",
           "peshawar",
           "military"
          ],
          [
           "kpk",
           "peshawar",
           "civilian"
          ],
          [
           "kpk",
           "peshawar",
           "civilian"
          ],
          [
           "kpk",
           "hangu",
           "civilian"
          ],
          [
           "kpk",
           "bannu",
           "police"
          ],
          [
           "kpk",
           "peshawar",
           "religious"
          ],
          [
           "kpk",
           "mardan",
           "civilian"
          ],
          [
           "kpk",
           "peshawar",
           "civilian"
          ],
          [
           "kpk",
           "hangu",
           "civilian"
          ],
          [
           "kpk",
           "kuram agency",
           "civilian"
          ],
          [
           "kpk",
           "peshawar",
           "civilian"
          ],
          [
           "kpk",
           "hangu",
           "anti-militants"
          ],
          [
           "kpk",
           "d.i khan",
           "civilian"
          ],
          [
           "kpk",
           "bannu",
           "military"
          ],
          [
           "kpk",
           "khyber agency",
           "government official"
          ],
          [
           "kpk",
           "hangu",
           "civilian"
          ],
          [
           "kpk",
           "peshawar",
           null
          ],
          [
           "kpk",
           "peshawar",
           "civilian"
          ],
          [
           "kpk",
           "peshawar",
           "civilian"
          ],
          [
           "kpk",
           "peshawar",
           "military"
          ],
          [
           "kpk",
           "peshawar",
           "police"
          ],
          [
           "kpk",
           "peshawar",
           "civilian"
          ],
          [
           "kpk",
           "peshawar",
           "civilian"
          ],
          [
           "kpk",
           "peshawar",
           "military"
          ],
          [
           "kpk",
           "peshawar",
           null
          ],
          [
           "kpk",
           "peshawar",
           null
          ],
          [
           "kpk",
           "peshawar",
           null
          ],
          [
           "kpk",
           "khyber agency",
           null
          ],
          [
           "kpk",
           "mardan",
           "civilian"
          ],
          [
           "kpk",
           "peshawar",
           null
          ],
          [
           "kpk",
           "shabqadar-charsadda",
           null
          ],
          [
           "kpk",
           "mardan",
           "government official"
          ],
          [
           "kpk",
           "mardan",
           "police"
          ],
          [
           "kpk",
           "mardan",
           "civilian"
          ],
          [
           "kpk",
           "bannu",
           "police"
          ],
          [
           "kpk",
           "hayatabad",
           "civilian judges"
          ],
          [
           "kpk",
           "tangi, charsadda district",
           "judges & lawyers"
          ],
          [
           "kpk",
           "kohat",
           "police"
          ],
          [
           "kpk",
           "peshawar",
           "military"
          ],
          [
           "kpk",
           "peshawar",
           "military"
          ],
          [
           "kpk",
           "peshawar",
           "police"
          ]
         ],
         "hovertemplate": "Province=%{customdata[0]}<br>Year=%{x}<br>Number of Injuries=%{y}<br>City=%{customdata[1]}<br>Target Type=%{customdata[2]}<extra></extra>",
         "legendgroup": "kpk",
         "marker": {
          "color": "#19d3f3",
          "pattern": {
           "shape": ""
          }
         },
         "name": "kpk",
         "offsetgroup": "kpk",
         "orientation": "v",
         "showlegend": true,
         "textposition": "auto",
         "type": "bar",
         "x": [
          2004,
          2005,
          2006,
          2006,
          2006,
          2006,
          2006,
          2007,
          2007,
          2007,
          2007,
          2007,
          2007,
          2007,
          2007,
          2007,
          2007,
          2007,
          2007,
          2007,
          2007,
          2007,
          2007,
          2007,
          2007,
          2007,
          2007,
          2007,
          2007,
          2007,
          2007,
          2007,
          2007,
          2007,
          2007,
          2007,
          2008,
          2008,
          2008,
          2008,
          2008,
          2008,
          2008,
          2008,
          2008,
          2008,
          2008,
          2008,
          2008,
          2008,
          2008,
          2008,
          2008,
          2008,
          2008,
          2008,
          2008,
          2008,
          2008,
          2008,
          2008,
          2008,
          2008,
          2008,
          2008,
          2008,
          2008,
          2008,
          2008,
          2009,
          2009,
          2009,
          2009,
          2009,
          2009,
          2009,
          2009,
          2009,
          2009,
          2009,
          2009,
          2009,
          2009,
          2009,
          2009,
          2009,
          2009,
          2009,
          2009,
          2009,
          2009,
          2009,
          2009,
          2009,
          2009,
          2009,
          2009,
          2009,
          2009,
          2009,
          2009,
          2009,
          2009,
          2009,
          2009,
          2009,
          2009,
          2009,
          2009,
          2009,
          2009,
          2009,
          2009,
          2009,
          2009,
          2009,
          2009,
          2009,
          2009,
          2009,
          2009,
          2009,
          2009,
          2009,
          2009,
          2009,
          2009,
          2010,
          2010,
          2010,
          2010,
          2010,
          2010,
          2010,
          2010,
          2010,
          2010,
          2010,
          2010,
          2010,
          2010,
          2010,
          2010,
          2010,
          2010,
          2010,
          2010,
          2010,
          2010,
          2010,
          2010,
          2010,
          2010,
          2010,
          2010,
          2010,
          2010,
          2010,
          2010,
          2011,
          2011,
          2011,
          2011,
          2011,
          2011,
          2011,
          2011,
          2011,
          2011,
          2011,
          2011,
          2011,
          2011,
          2011,
          2011,
          2011,
          2011,
          2011,
          2011,
          2011,
          2011,
          2011,
          2011,
          2011,
          2011,
          2011,
          2011,
          2012,
          2012,
          2012,
          2012,
          2012,
          2012,
          2012,
          2012,
          2012,
          2012,
          2012,
          2012,
          2012,
          2012,
          2012,
          2012,
          2012,
          2012,
          2013,
          2013,
          2013,
          2013,
          2013,
          2013,
          2013,
          2013,
          2013,
          2013,
          2013,
          2013,
          2013,
          2013,
          2013,
          2013,
          2013,
          2013,
          2013,
          2013,
          2014,
          2014,
          2014,
          2014,
          2014,
          2014,
          2014,
          2014,
          2014,
          2014,
          2015,
          2015,
          null,
          null,
          null,
          null,
          null,
          2016,
          null,
          null,
          null,
          null,
          null,
          null,
          null,
          null
         ],
         "xaxis": "x",
         "y": [
          3,
          0,
          0,
          8,
          39,
          2,
          1,
          60,
          7,
          0,
          8,
          60,
          35,
          2,
          8,
          61,
          47,
          35,
          58,
          6,
          5,
          4,
          18,
          2,
          19,
          46,
          10,
          32,
          35,
          5,
          0,
          2,
          20,
          5,
          200,
          23,
          13,
          25,
          51,
          18,
          100,
          60,
          7,
          15,
          4,
          25,
          4,
          55,
          20,
          39,
          90,
          25,
          20,
          3,
          18,
          27,
          14,
          25,
          4,
          10,
          20,
          12,
          8,
          16,
          50,
          10,
          15,
          4,
          16,
          25,
          2,
          25,
          0,
          18,
          200,
          0,
          2,
          6,
          25,
          10,
          65,
          48,
          27,
          36,
          9,
          12,
          80,
          15,
          105,
          7,
          0,
          5,
          5,
          4,
          3,
          3,
          0,
          8,
          15,
          14,
          4,
          5,
          60,
          1,
          0,
          65,
          120,
          0,
          187,
          50,
          24,
          24,
          45,
          7,
          100,
          70,
          29,
          35,
          43,
          50,
          30,
          50,
          70,
          0,
          35,
          24,
          25,
          100,
          11,
          6,
          11,
          11,
          30,
          110,
          10,
          41,
          24,
          35,
          60,
          2,
          0,
          120,
          70,
          32,
          49,
          14,
          16,
          0,
          25,
          14,
          4,
          57,
          14,
          13,
          132,
          22,
          32,
          30,
          24,
          20,
          16,
          50,
          0,
          4,
          36,
          52,
          30,
          23,
          42,
          8,
          114,
          30,
          140,
          9,
          48,
          60,
          45,
          107,
          5,
          26,
          12,
          130,
          25,
          75,
          0,
          9,
          19,
          28,
          10,
          8,
          6,
          6,
          3,
          33,
          5,
          10,
          5,
          8,
          21,
          41,
          10,
          37,
          80,
          10,
          20,
          50,
          23,
          0,
          0,
          47,
          35,
          60,
          45,
          40,
          27,
          2,
          60,
          30,
          10,
          200,
          145,
          22,
          30,
          7,
          26,
          2,
          8,
          50,
          3,
          10,
          45,
          11,
          5,
          29,
          132,
          60,
          7,
          56,
          56,
          25,
          31,
          18,
          15,
          60,
          2,
          18,
          20,
          0,
          7,
          1,
          8
         ],
         "yaxis": "y"
        },
        {
         "alignmentgroup": "True",
         "customdata": [
          [
           "ajk",
           "muzaffarabad",
           "military"
          ],
          [
           "ajk",
           "muzaffarabad",
           "religious"
          ],
          [
           "ajk",
           "sudhanoti",
           "military"
          ],
          [
           "ajk",
           "poonch",
           "police"
          ],
          [
           "ajk",
           "poonch",
           "military"
          ],
          [
           "ajk",
           "muzaffarabad",
           "religious"
          ]
         ],
         "hovertemplate": "Province=%{customdata[0]}<br>Year=%{x}<br>Number of Injuries=%{y}<br>City=%{customdata[1]}<br>Target Type=%{customdata[2]}<extra></extra>",
         "legendgroup": "ajk",
         "marker": {
          "color": "#FF6692",
          "pattern": {
           "shape": ""
          }
         },
         "name": "ajk",
         "offsetgroup": "ajk",
         "orientation": "v",
         "showlegend": true,
         "textposition": "auto",
         "type": "bar",
         "x": [
          2009,
          2009,
          2010,
          2010,
          2010,
          2010
         ],
         "xaxis": "x",
         "y": [
          4,
          100,
          12,
          2,
          2,
          65
         ],
         "yaxis": "y"
        }
       ],
       "layout": {
        "barmode": "relative",
        "legend": {
         "title": {
          "text": "Province"
         },
         "tracegroupgap": 0
        },
        "template": {
         "data": {
          "bar": [
           {
            "error_x": {
             "color": "#f2f5fa"
            },
            "error_y": {
             "color": "#f2f5fa"
            },
            "marker": {
             "line": {
              "color": "rgb(17,17,17)",
              "width": 0.5
             },
             "pattern": {
              "fillmode": "overlay",
              "size": 10,
              "solidity": 0.2
             }
            },
            "type": "bar"
           }
          ],
          "barpolar": [
           {
            "marker": {
             "line": {
              "color": "rgb(17,17,17)",
              "width": 0.5
             },
             "pattern": {
              "fillmode": "overlay",
              "size": 10,
              "solidity": 0.2
             }
            },
            "type": "barpolar"
           }
          ],
          "carpet": [
           {
            "aaxis": {
             "endlinecolor": "#A2B1C6",
             "gridcolor": "#506784",
             "linecolor": "#506784",
             "minorgridcolor": "#506784",
             "startlinecolor": "#A2B1C6"
            },
            "baxis": {
             "endlinecolor": "#A2B1C6",
             "gridcolor": "#506784",
             "linecolor": "#506784",
             "minorgridcolor": "#506784",
             "startlinecolor": "#A2B1C6"
            },
            "type": "carpet"
           }
          ],
          "choropleth": [
           {
            "colorbar": {
             "outlinewidth": 0,
             "ticks": ""
            },
            "type": "choropleth"
           }
          ],
          "contour": [
           {
            "colorbar": {
             "outlinewidth": 0,
             "ticks": ""
            },
            "colorscale": [
             [
              0,
              "#0d0887"
             ],
             [
              0.1111111111111111,
              "#46039f"
             ],
             [
              0.2222222222222222,
              "#7201a8"
             ],
             [
              0.3333333333333333,
              "#9c179e"
             ],
             [
              0.4444444444444444,
              "#bd3786"
             ],
             [
              0.5555555555555556,
              "#d8576b"
             ],
             [
              0.6666666666666666,
              "#ed7953"
             ],
             [
              0.7777777777777778,
              "#fb9f3a"
             ],
             [
              0.8888888888888888,
              "#fdca26"
             ],
             [
              1,
              "#f0f921"
             ]
            ],
            "type": "contour"
           }
          ],
          "contourcarpet": [
           {
            "colorbar": {
             "outlinewidth": 0,
             "ticks": ""
            },
            "type": "contourcarpet"
           }
          ],
          "heatmap": [
           {
            "colorbar": {
             "outlinewidth": 0,
             "ticks": ""
            },
            "colorscale": [
             [
              0,
              "#0d0887"
             ],
             [
              0.1111111111111111,
              "#46039f"
             ],
             [
              0.2222222222222222,
              "#7201a8"
             ],
             [
              0.3333333333333333,
              "#9c179e"
             ],
             [
              0.4444444444444444,
              "#bd3786"
             ],
             [
              0.5555555555555556,
              "#d8576b"
             ],
             [
              0.6666666666666666,
              "#ed7953"
             ],
             [
              0.7777777777777778,
              "#fb9f3a"
             ],
             [
              0.8888888888888888,
              "#fdca26"
             ],
             [
              1,
              "#f0f921"
             ]
            ],
            "type": "heatmap"
           }
          ],
          "heatmapgl": [
           {
            "colorbar": {
             "outlinewidth": 0,
             "ticks": ""
            },
            "colorscale": [
             [
              0,
              "#0d0887"
             ],
             [
              0.1111111111111111,
              "#46039f"
             ],
             [
              0.2222222222222222,
              "#7201a8"
             ],
             [
              0.3333333333333333,
              "#9c179e"
             ],
             [
              0.4444444444444444,
              "#bd3786"
             ],
             [
              0.5555555555555556,
              "#d8576b"
             ],
             [
              0.6666666666666666,
              "#ed7953"
             ],
             [
              0.7777777777777778,
              "#fb9f3a"
             ],
             [
              0.8888888888888888,
              "#fdca26"
             ],
             [
              1,
              "#f0f921"
             ]
            ],
            "type": "heatmapgl"
           }
          ],
          "histogram": [
           {
            "marker": {
             "pattern": {
              "fillmode": "overlay",
              "size": 10,
              "solidity": 0.2
             }
            },
            "type": "histogram"
           }
          ],
          "histogram2d": [
           {
            "colorbar": {
             "outlinewidth": 0,
             "ticks": ""
            },
            "colorscale": [
             [
              0,
              "#0d0887"
             ],
             [
              0.1111111111111111,
              "#46039f"
             ],
             [
              0.2222222222222222,
              "#7201a8"
             ],
             [
              0.3333333333333333,
              "#9c179e"
             ],
             [
              0.4444444444444444,
              "#bd3786"
             ],
             [
              0.5555555555555556,
              "#d8576b"
             ],
             [
              0.6666666666666666,
              "#ed7953"
             ],
             [
              0.7777777777777778,
              "#fb9f3a"
             ],
             [
              0.8888888888888888,
              "#fdca26"
             ],
             [
              1,
              "#f0f921"
             ]
            ],
            "type": "histogram2d"
           }
          ],
          "histogram2dcontour": [
           {
            "colorbar": {
             "outlinewidth": 0,
             "ticks": ""
            },
            "colorscale": [
             [
              0,
              "#0d0887"
             ],
             [
              0.1111111111111111,
              "#46039f"
             ],
             [
              0.2222222222222222,
              "#7201a8"
             ],
             [
              0.3333333333333333,
              "#9c179e"
             ],
             [
              0.4444444444444444,
              "#bd3786"
             ],
             [
              0.5555555555555556,
              "#d8576b"
             ],
             [
              0.6666666666666666,
              "#ed7953"
             ],
             [
              0.7777777777777778,
              "#fb9f3a"
             ],
             [
              0.8888888888888888,
              "#fdca26"
             ],
             [
              1,
              "#f0f921"
             ]
            ],
            "type": "histogram2dcontour"
           }
          ],
          "mesh3d": [
           {
            "colorbar": {
             "outlinewidth": 0,
             "ticks": ""
            },
            "type": "mesh3d"
           }
          ],
          "parcoords": [
           {
            "line": {
             "colorbar": {
              "outlinewidth": 0,
              "ticks": ""
             }
            },
            "type": "parcoords"
           }
          ],
          "pie": [
           {
            "automargin": true,
            "type": "pie"
           }
          ],
          "scatter": [
           {
            "marker": {
             "line": {
              "color": "#283442"
             }
            },
            "type": "scatter"
           }
          ],
          "scatter3d": [
           {
            "line": {
             "colorbar": {
              "outlinewidth": 0,
              "ticks": ""
             }
            },
            "marker": {
             "colorbar": {
              "outlinewidth": 0,
              "ticks": ""
             }
            },
            "type": "scatter3d"
           }
          ],
          "scattercarpet": [
           {
            "marker": {
             "colorbar": {
              "outlinewidth": 0,
              "ticks": ""
             }
            },
            "type": "scattercarpet"
           }
          ],
          "scattergeo": [
           {
            "marker": {
             "colorbar": {
              "outlinewidth": 0,
              "ticks": ""
             }
            },
            "type": "scattergeo"
           }
          ],
          "scattergl": [
           {
            "marker": {
             "line": {
              "color": "#283442"
             }
            },
            "type": "scattergl"
           }
          ],
          "scattermapbox": [
           {
            "marker": {
             "colorbar": {
              "outlinewidth": 0,
              "ticks": ""
             }
            },
            "type": "scattermapbox"
           }
          ],
          "scatterpolar": [
           {
            "marker": {
             "colorbar": {
              "outlinewidth": 0,
              "ticks": ""
             }
            },
            "type": "scatterpolar"
           }
          ],
          "scatterpolargl": [
           {
            "marker": {
             "colorbar": {
              "outlinewidth": 0,
              "ticks": ""
             }
            },
            "type": "scatterpolargl"
           }
          ],
          "scatterternary": [
           {
            "marker": {
             "colorbar": {
              "outlinewidth": 0,
              "ticks": ""
             }
            },
            "type": "scatterternary"
           }
          ],
          "surface": [
           {
            "colorbar": {
             "outlinewidth": 0,
             "ticks": ""
            },
            "colorscale": [
             [
              0,
              "#0d0887"
             ],
             [
              0.1111111111111111,
              "#46039f"
             ],
             [
              0.2222222222222222,
              "#7201a8"
             ],
             [
              0.3333333333333333,
              "#9c179e"
             ],
             [
              0.4444444444444444,
              "#bd3786"
             ],
             [
              0.5555555555555556,
              "#d8576b"
             ],
             [
              0.6666666666666666,
              "#ed7953"
             ],
             [
              0.7777777777777778,
              "#fb9f3a"
             ],
             [
              0.8888888888888888,
              "#fdca26"
             ],
             [
              1,
              "#f0f921"
             ]
            ],
            "type": "surface"
           }
          ],
          "table": [
           {
            "cells": {
             "fill": {
              "color": "#506784"
             },
             "line": {
              "color": "rgb(17,17,17)"
             }
            },
            "header": {
             "fill": {
              "color": "#2a3f5f"
             },
             "line": {
              "color": "rgb(17,17,17)"
             }
            },
            "type": "table"
           }
          ]
         },
         "layout": {
          "annotationdefaults": {
           "arrowcolor": "#f2f5fa",
           "arrowhead": 0,
           "arrowwidth": 1
          },
          "autotypenumbers": "strict",
          "coloraxis": {
           "colorbar": {
            "outlinewidth": 0,
            "ticks": ""
           }
          },
          "colorscale": {
           "diverging": [
            [
             0,
             "#8e0152"
            ],
            [
             0.1,
             "#c51b7d"
            ],
            [
             0.2,
             "#de77ae"
            ],
            [
             0.3,
             "#f1b6da"
            ],
            [
             0.4,
             "#fde0ef"
            ],
            [
             0.5,
             "#f7f7f7"
            ],
            [
             0.6,
             "#e6f5d0"
            ],
            [
             0.7,
             "#b8e186"
            ],
            [
             0.8,
             "#7fbc41"
            ],
            [
             0.9,
             "#4d9221"
            ],
            [
             1,
             "#276419"
            ]
           ],
           "sequential": [
            [
             0,
             "#0d0887"
            ],
            [
             0.1111111111111111,
             "#46039f"
            ],
            [
             0.2222222222222222,
             "#7201a8"
            ],
            [
             0.3333333333333333,
             "#9c179e"
            ],
            [
             0.4444444444444444,
             "#bd3786"
            ],
            [
             0.5555555555555556,
             "#d8576b"
            ],
            [
             0.6666666666666666,
             "#ed7953"
            ],
            [
             0.7777777777777778,
             "#fb9f3a"
            ],
            [
             0.8888888888888888,
             "#fdca26"
            ],
            [
             1,
             "#f0f921"
            ]
           ],
           "sequentialminus": [
            [
             0,
             "#0d0887"
            ],
            [
             0.1111111111111111,
             "#46039f"
            ],
            [
             0.2222222222222222,
             "#7201a8"
            ],
            [
             0.3333333333333333,
             "#9c179e"
            ],
            [
             0.4444444444444444,
             "#bd3786"
            ],
            [
             0.5555555555555556,
             "#d8576b"
            ],
            [
             0.6666666666666666,
             "#ed7953"
            ],
            [
             0.7777777777777778,
             "#fb9f3a"
            ],
            [
             0.8888888888888888,
             "#fdca26"
            ],
            [
             1,
             "#f0f921"
            ]
           ]
          },
          "colorway": [
           "#636efa",
           "#EF553B",
           "#00cc96",
           "#ab63fa",
           "#FFA15A",
           "#19d3f3",
           "#FF6692",
           "#B6E880",
           "#FF97FF",
           "#FECB52"
          ],
          "font": {
           "color": "#f2f5fa"
          },
          "geo": {
           "bgcolor": "rgb(17,17,17)",
           "lakecolor": "rgb(17,17,17)",
           "landcolor": "rgb(17,17,17)",
           "showlakes": true,
           "showland": true,
           "subunitcolor": "#506784"
          },
          "hoverlabel": {
           "align": "left"
          },
          "hovermode": "closest",
          "mapbox": {
           "style": "dark"
          },
          "paper_bgcolor": "rgb(17,17,17)",
          "plot_bgcolor": "rgb(17,17,17)",
          "polar": {
           "angularaxis": {
            "gridcolor": "#506784",
            "linecolor": "#506784",
            "ticks": ""
           },
           "bgcolor": "rgb(17,17,17)",
           "radialaxis": {
            "gridcolor": "#506784",
            "linecolor": "#506784",
            "ticks": ""
           }
          },
          "scene": {
           "xaxis": {
            "backgroundcolor": "rgb(17,17,17)",
            "gridcolor": "#506784",
            "gridwidth": 2,
            "linecolor": "#506784",
            "showbackground": true,
            "ticks": "",
            "zerolinecolor": "#C8D4E3"
           },
           "yaxis": {
            "backgroundcolor": "rgb(17,17,17)",
            "gridcolor": "#506784",
            "gridwidth": 2,
            "linecolor": "#506784",
            "showbackground": true,
            "ticks": "",
            "zerolinecolor": "#C8D4E3"
           },
           "zaxis": {
            "backgroundcolor": "rgb(17,17,17)",
            "gridcolor": "#506784",
            "gridwidth": 2,
            "linecolor": "#506784",
            "showbackground": true,
            "ticks": "",
            "zerolinecolor": "#C8D4E3"
           }
          },
          "shapedefaults": {
           "line": {
            "color": "#f2f5fa"
           }
          },
          "sliderdefaults": {
           "bgcolor": "#C8D4E3",
           "bordercolor": "rgb(17,17,17)",
           "borderwidth": 1,
           "tickwidth": 0
          },
          "ternary": {
           "aaxis": {
            "gridcolor": "#506784",
            "linecolor": "#506784",
            "ticks": ""
           },
           "baxis": {
            "gridcolor": "#506784",
            "linecolor": "#506784",
            "ticks": ""
           },
           "bgcolor": "rgb(17,17,17)",
           "caxis": {
            "gridcolor": "#506784",
            "linecolor": "#506784",
            "ticks": ""
           }
          },
          "title": {
           "x": 0.05
          },
          "updatemenudefaults": {
           "bgcolor": "#506784",
           "borderwidth": 0
          },
          "xaxis": {
           "automargin": true,
           "gridcolor": "#283442",
           "linecolor": "#506784",
           "ticks": "",
           "title": {
            "standoff": 15
           },
           "zerolinecolor": "#283442",
           "zerolinewidth": 2
          },
          "yaxis": {
           "automargin": true,
           "gridcolor": "#283442",
           "linecolor": "#506784",
           "ticks": "",
           "title": {
            "standoff": 15
           },
           "zerolinecolor": "#283442",
           "zerolinewidth": 2
          }
         }
        },
        "title": {
         "font": {
          "size": 20
         },
         "text": "People Injured In Each Year Via Bomb Blasts In Pak",
         "x": 0.5
        },
        "xaxis": {
         "anchor": "y",
         "domain": [
          0,
          1
         ],
         "tickangle": -45,
         "title": {
          "text": "Year"
         }
        },
        "yaxis": {
         "anchor": "x",
         "domain": [
          0,
          1
         ],
         "title": {
          "text": "Number of Injuries"
         }
        }
       }
      }
     },
     "metadata": {},
     "output_type": "display_data"
    }
   ],
   "source": [
    "# Create a bar chart with enhanced visuals\n",
    "fig2 = px.bar(\n",
    "    df, \n",
    "    x='Year', \n",
    "    y='Injured Max', \n",
    "    color='Province', \n",
    "    title='People Injured In Each Year Via Bomb Blasts In Pak',\n",
    "    labels={'Injured Max': 'Number of Injuries', 'Year': 'Year', 'Location': 'Location'},\n",
    "    hover_data=['Province', 'City', 'Target Type'],\n",
    "    color_continuous_scale=px.colors.sequential.Viridis\n",
    ")\n",
    "\n",
    "# Update layout for better visuals\n",
    "fig2.update_layout(\n",
    "    xaxis_title='Year',\n",
    "    yaxis_title='Number of Injuries',\n",
    "    legend_title='Province',\n",
    "    template='plotly_dark',\n",
    "    title_font_size=20,\n",
    "    title_x=0.5,\n",
    "    xaxis_tickangle=-45\n",
    ")\n",
    "\n",
    "# Show the figure\n",
    "fig2.show()"
   ]
  },
  {
   "cell_type": "code",
   "execution_count": null,
   "metadata": {},
   "outputs": [],
   "source": [
    "import os\n",
    "if not os.path.exists(\"images\"):\n",
    "    os.makedirs(\"images\")\n",
    "fig2.write_image(\"images/injured_per_year_province.png\")"
   ]
  },
  {
   "cell_type": "markdown",
   "metadata": {},
   "source": [
    "- It shows that the mostly people were injured in 2007, 2008, 2009, and 2010 attacks and most injuries are from KPK."
   ]
  },
  {
   "cell_type": "markdown",
   "metadata": {},
   "source": [
    "## Find out any correlation with suicide bombing attacks with influencing events given in the dataset"
   ]
  },
  {
   "cell_type": "code",
   "execution_count": 45,
   "metadata": {},
   "outputs": [
    {
     "data": {
      "text/plain": [
       "Influencing Event/Event\n",
       "                                                                                                                                                                        1.0\n",
       " Attack on vehicle of Frontier Corps                                                                                                                                    1.0\n",
       " Punjab home minister Colonel (retd) Shuja Khanzada was killed in a suicide attack on his political office in Shadi Khan village Attock Sunday along with 16 others.    0.0\n",
       " a suicide attacker has detonated his explosive vest at the entrance of a Shiite neighborhood in southwestern Pakistan killing one security guard.                      0.0\n",
       " military convoy                                                                                                                                                        1.0\n",
       "                                                                                                                                                                       ... \n",
       "the attacker had been carrying 25kg of “incendiary explosives” on a motorcycle that he had rammed into the military truck                                               1.0\n",
       "the target of the bombing appeared to be Brigadier Khalid Javed-the second most senior officer in the Frontier Corps force                                              0.0\n",
       "transport for a colonel in Pakistan's armed forces, was parked near a bus terminal                                                                                      1.0\n",
       "tribes were discussing formation of lashkar                                                                                                                             1.0\n",
       "truck carrying security personnel                                                                                                                                       1.0\n",
       "Name: No. of Suicide Blasts, Length: 173, dtype: float64"
      ]
     },
     "execution_count": 45,
     "metadata": {},
     "output_type": "execute_result"
    }
   ],
   "source": [
    "df.groupby('Influencing Event/Event')['No. of Suicide Blasts'].sum()"
   ]
  },
  {
   "cell_type": "code",
   "execution_count": 50,
   "metadata": {},
   "outputs": [
    {
     "name": "stdout",
     "output_type": "stream",
     "text": [
      "Correlation between the number of suicide blasts and influencing events: 0.5823099783124746\n"
     ]
    }
   ],
   "source": [
    "# Aggregate the data by year to get the number of suicide blasts and the occurrence of influencing events\n",
    "yearly_data = df.groupby('Year').agg({\n",
    "    'No. of Suicide Blasts': 'sum',\n",
    "    'Influencing Event/Event': 'count'  # Replace with the appropriate aggregation method for your data\n",
    "}).reset_index()\n",
    "\n",
    "# Calculate the correlation between the number of suicide blasts and the influencing events\n",
    "correlation = yearly_data['No. of Suicide Blasts'].corr(yearly_data['Influencing Event/Event'])\n",
    "\n",
    "print(f\"Correlation between the number of suicide blasts and influencing events: {correlation}\")"
   ]
  },
  {
   "cell_type": "code",
   "execution_count": 56,
   "metadata": {},
   "outputs": [],
   "source": [
    "from sklearn.preprocessing import LabelEncoder\n",
    "\n",
    "#encode the 'Influencing Event/Event' column using label encoder\n",
    "le = LabelEncoder()\n",
    "df['influ_encoded'] = le.fit_transform(df['Influencing Event/Event'])"
   ]
  },
  {
   "cell_type": "code",
   "execution_count": 57,
   "metadata": {},
   "outputs": [
    {
     "name": "stdout",
     "output_type": "stream",
     "text": [
      "Correlation between the number of suicide blasts and influencing events: 0.07537689245748558\n"
     ]
    }
   ],
   "source": [
    "# Calculate the correlation between the number of suicide blasts and the influencing events\n",
    "correlation = df['No. of Suicide Blasts'].corr(df['influ_encoded'])\n",
    "\n",
    "print(f\"Correlation between the number of suicide blasts and influencing events: {correlation}\")"
   ]
  },
  {
   "cell_type": "markdown",
   "metadata": {},
   "source": [
    "## Find the names of hospitals sorted by number of victims"
   ]
  },
  {
   "cell_type": "code",
   "execution_count": 91,
   "metadata": {},
   "outputs": [
    {
     "name": "stdout",
     "output_type": "stream",
     "text": [
      "                                                    Killed Max  Injured Max\n",
      "Hospital Names                                                             \n",
      "Lady Reading Hospital                                    299.0          665\n",
      "Lady Reading Hospital \\nPeshawar                         179.0          594\n",
      "1.Jinnah Hospital \\n2.Liaquat hospital                   145.0          550\n",
      "pof hospital                                             100.0          200\n",
      "LRH                                                      100.0          198\n",
      "Near local hospital                                      100.0          100\n",
      "Civil Hospital and the Combined Military Hospit...        93.0          121\n",
      "Lady Reading Hospital Peshwar                             88.0          135\n",
      "1.Kohat Dvisional Headquarters Hospital  2.Gahl...        85.0          200\n",
      "Civil Hospital and the Combined Military Hospital         84.0          200\n"
     ]
    }
   ],
   "source": [
    "# Group by 'Hospital Names' and sum the 'Killed Max' and 'Injured Max' columns\n",
    "hospital_stats = df.groupby('Hospital Names')[['Killed Max', 'Injured Max']].sum()\n",
    "\n",
    "# Sort the results by 'Killed Max' and then by 'Injured Max' in ascending order\n",
    "hospital_stats_sorted = hospital_stats.sort_values(by=['Killed Max', 'Injured Max'], ascending=False).head(10)\n",
    "\n",
    "# Display the sorted DataFrame\n",
    "print(hospital_stats_sorted)"
   ]
  },
  {
   "cell_type": "code",
   "execution_count": 103,
   "metadata": {},
   "outputs": [
    {
     "data": {
      "image/png": "[encoded data removed]",
      "text/plain": [
       "<Figure size 640x480 with 1 Axes>"
      ]
     },
     "metadata": {},
     "output_type": "display_data"
    }
   ],
   "source": [
    "# Strip spaces from column names\n",
    "hospital_stats_sorted.columns = hospital_stats_sorted.columns.str.strip()\n",
    "\n",
    "# Plot the barplot\n",
    "sns.set_palette('Dark2')\n",
    "sns.barplot(data=hospital_stats_sorted, x='Hospital Names', y='Killed Max')\n",
    "plt.title('Killed Max by Hospital')\n",
    "\n",
    "plt.xticks(rotation=90)\n",
    "import os\n",
    "if not os.path.exists(\"images\"):\n",
    "    os.makedirs(\"images\")\n",
    "plt.savefig(\"images/killed_max_by_hospital.png\", bbox_inches='tight')\n",
    "plt.show()\n"
   ]
  },
  {
   "cell_type": "code",
   "execution_count": 115,
   "metadata": {},
   "outputs": [
    {
     "data": {
      "application/vnd.plotly.v1+json": {
       "config": {
        "plotlyServerURL": "https://plot.ly"
       },
       "data": [
        {
         "alignmentgroup": "True",
         "hovertemplate": "Hospital Names=%{x}<br>Number of Injureds=%{y}<br>Number of People Killed=%{marker.color}<extra></extra>",
         "legendgroup": "",
         "marker": {
          "color": [
           299,
           179,
           145,
           100,
           100,
           100,
           93,
           88,
           85,
           84
          ],
          "coloraxis": "coloraxis",
          "pattern": {
           "shape": ""
          }
         },
         "name": "",
         "offsetgroup": "",
         "orientation": "v",
         "showlegend": false,
         "textposition": "auto",
         "type": "bar",
         "x": [
          "Lady Reading Hospital",
          "Lady Reading Hospital \nPeshawar ",
          "1.Jinnah Hospital \n2.Liaquat hospital ",
          "pof hospital",
          "LRH ",
          "Near local hospital ",
          "Civil Hospital and the Combined Military Hospital-Quetta",
          "Lady Reading Hospital Peshwar",
          "1.Kohat Dvisional Headquarters Hospital  2.Gahluj hospital 3.Hospitals in Hangu and Kohat ",
          "Civil Hospital and the Combined Military Hospital"
         ],
         "xaxis": "x",
         "y": [
          665,
          594,
          550,
          200,
          198,
          100,
          121,
          135,
          200,
          200
         ],
         "yaxis": "y"
        }
       ],
       "layout": {
        "barmode": "relative",
        "coloraxis": {
         "colorbar": {
          "title": {
           "text": "Number of People Killed"
          }
         },
         "colorscale": [
          [
           0,
           "#440154"
          ],
          [
           0.1111111111111111,
           "#482878"
          ],
          [
           0.2222222222222222,
           "#3e4989"
          ],
          [
           0.3333333333333333,
           "#31688e"
          ],
          [
           0.4444444444444444,
           "#26828e"
          ],
          [
           0.5555555555555556,
           "#1f9e89"
          ],
          [
           0.6666666666666666,
           "#35b779"
          ],
          [
           0.7777777777777778,
           "#6ece58"
          ],
          [
           0.8888888888888888,
           "#b5de2b"
          ],
          [
           1,
           "#fde725"
          ]
         ]
        },
        "legend": {
         "tracegroupgap": 0
        },
        "template": {
         "data": {
          "bar": [
           {
            "error_x": {
             "color": "#2a3f5f"
            },
            "error_y": {
             "color": "#2a3f5f"
            },
            "marker": {
             "line": {
              "color": "#E5ECF6",
              "width": 0.5
             },
             "pattern": {
              "fillmode": "overlay",
              "size": 10,
              "solidity": 0.2
             }
            },
            "type": "bar"
           }
          ],
          "barpolar": [
           {
            "marker": {
             "line": {
              "color": "#E5ECF6",
              "width": 0.5
             },
             "pattern": {
              "fillmode": "overlay",
              "size": 10,
              "solidity": 0.2
             }
            },
            "type": "barpolar"
           }
          ],
          "carpet": [
           {
            "aaxis": {
             "endlinecolor": "#2a3f5f",
             "gridcolor": "white",
             "linecolor": "white",
             "minorgridcolor": "white",
             "startlinecolor": "#2a3f5f"
            },
            "baxis": {
             "endlinecolor": "#2a3f5f",
             "gridcolor": "white",
             "linecolor": "white",
             "minorgridcolor": "white",
             "startlinecolor": "#2a3f5f"
            },
            "type": "carpet"
           }
          ],
          "choropleth": [
           {
            "colorbar": {
             "outlinewidth": 0,
             "ticks": ""
            },
            "type": "choropleth"
           }
          ],
          "contour": [
           {
            "colorbar": {
             "outlinewidth": 0,
             "ticks": ""
            },
            "colorscale": [
             [
              0,
              "#0d0887"
             ],
             [
              0.1111111111111111,
              "#46039f"
             ],
             [
              0.2222222222222222,
              "#7201a8"
             ],
             [
              0.3333333333333333,
              "#9c179e"
             ],
             [
              0.4444444444444444,
              "#bd3786"
             ],
             [
              0.5555555555555556,
              "#d8576b"
             ],
             [
              0.6666666666666666,
              "#ed7953"
             ],
             [
              0.7777777777777778,
              "#fb9f3a"
             ],
             [
              0.8888888888888888,
              "#fdca26"
             ],
             [
              1,
              "#f0f921"
             ]
            ],
            "type": "contour"
           }
          ],
          "contourcarpet": [
           {
            "colorbar": {
             "outlinewidth": 0,
             "ticks": ""
            },
            "type": "contourcarpet"
           }
          ],
          "heatmap": [
           {
            "colorbar": {
             "outlinewidth": 0,
             "ticks": ""
            },
            "colorscale": [
             [
              0,
              "#0d0887"
             ],
             [
              0.1111111111111111,
              "#46039f"
             ],
             [
              0.2222222222222222,
              "#7201a8"
             ],
             [
              0.3333333333333333,
              "#9c179e"
             ],
             [
              0.4444444444444444,
              "#bd3786"
             ],
             [
              0.5555555555555556,
              "#d8576b"
             ],
             [
              0.6666666666666666,
              "#ed7953"
             ],
             [
              0.7777777777777778,
              "#fb9f3a"
             ],
             [
              0.8888888888888888,
              "#fdca26"
             ],
             [
              1,
              "#f0f921"
             ]
            ],
            "type": "heatmap"
           }
          ],
          "heatmapgl": [
           {
            "colorbar": {
             "outlinewidth": 0,
             "ticks": ""
            },
            "colorscale": [
             [
              0,
              "#0d0887"
             ],
             [
              0.1111111111111111,
              "#46039f"
             ],
             [
              0.2222222222222222,
              "#7201a8"
             ],
             [
              0.3333333333333333,
              "#9c179e"
             ],
             [
              0.4444444444444444,
              "#bd3786"
             ],
             [
              0.5555555555555556,
              "#d8576b"
             ],
             [
              0.6666666666666666,
              "#ed7953"
             ],
             [
              0.7777777777777778,
              "#fb9f3a"
             ],
             [
              0.8888888888888888,
              "#fdca26"
             ],
             [
              1,
              "#f0f921"
             ]
            ],
            "type": "heatmapgl"
           }
          ],
          "histogram": [
           {
            "marker": {
             "pattern": {
              "fillmode": "overlay",
              "size": 10,
              "solidity": 0.2
             }
            },
            "type": "histogram"
           }
          ],
          "histogram2d": [
           {
            "colorbar": {
             "outlinewidth": 0,
             "ticks": ""
            },
            "colorscale": [
             [
              0,
              "#0d0887"
             ],
             [
              0.1111111111111111,
              "#46039f"
             ],
             [
              0.2222222222222222,
              "#7201a8"
             ],
             [
              0.3333333333333333,
              "#9c179e"
             ],
             [
              0.4444444444444444,
              "#bd3786"
             ],
             [
              0.5555555555555556,
              "#d8576b"
             ],
             [
              0.6666666666666666,
              "#ed7953"
             ],
             [
              0.7777777777777778,
              "#fb9f3a"
             ],
             [
              0.8888888888888888,
              "#fdca26"
             ],
             [
              1,
              "#f0f921"
             ]
            ],
            "type": "histogram2d"
           }
          ],
          "histogram2dcontour": [
           {
            "colorbar": {
             "outlinewidth": 0,
             "ticks": ""
            },
            "colorscale": [
             [
              0,
              "#0d0887"
             ],
             [
              0.1111111111111111,
              "#46039f"
             ],
             [
              0.2222222222222222,
              "#7201a8"
             ],
             [
              0.3333333333333333,
              "#9c179e"
             ],
             [
              0.4444444444444444,
              "#bd3786"
             ],
             [
              0.5555555555555556,
              "#d8576b"
             ],
             [
              0.6666666666666666,
              "#ed7953"
             ],
             [
              0.7777777777777778,
              "#fb9f3a"
             ],
             [
              0.8888888888888888,
              "#fdca26"
             ],
             [
              1,
              "#f0f921"
             ]
            ],
            "type": "histogram2dcontour"
           }
          ],
          "mesh3d": [
           {
            "colorbar": {
             "outlinewidth": 0,
             "ticks": ""
            },
            "type": "mesh3d"
           }
          ],
          "parcoords": [
           {
            "line": {
             "colorbar": {
              "outlinewidth": 0,
              "ticks": ""
             }
            },
            "type": "parcoords"
           }
          ],
          "pie": [
           {
            "automargin": true,
            "type": "pie"
           }
          ],
          "scatter": [
           {
            "fillpattern": {
             "fillmode": "overlay",
             "size": 10,
             "solidity": 0.2
            },
            "type": "scatter"
           }
          ],
          "scatter3d": [
           {
            "line": {
             "colorbar": {
              "outlinewidth": 0,
              "ticks": ""
             }
            },
            "marker": {
             "colorbar": {
              "outlinewidth": 0,
              "ticks": ""
             }
            },
            "type": "scatter3d"
           }
          ],
          "scattercarpet": [
           {
            "marker": {
             "colorbar": {
              "outlinewidth": 0,
              "ticks": ""
             }
            },
            "type": "scattercarpet"
           }
          ],
          "scattergeo": [
           {
            "marker": {
             "colorbar": {
              "outlinewidth": 0,
              "ticks": ""
             }
            },
            "type": "scattergeo"
           }
          ],
          "scattergl": [
           {
            "marker": {
             "colorbar": {
              "outlinewidth": 0,
              "ticks": ""
             }
            },
            "type": "scattergl"
           }
          ],
          "scattermapbox": [
           {
            "marker": {
             "colorbar": {
              "outlinewidth": 0,
              "ticks": ""
             }
            },
            "type": "scattermapbox"
           }
          ],
          "scatterpolar": [
           {
            "marker": {
             "colorbar": {
              "outlinewidth": 0,
              "ticks": ""
             }
            },
            "type": "scatterpolar"
           }
          ],
          "scatterpolargl": [
           {
            "marker": {
             "colorbar": {
              "outlinewidth": 0,
              "ticks": ""
             }
            },
            "type": "scatterpolargl"
           }
          ],
          "scatterternary": [
           {
            "marker": {
             "colorbar": {
              "outlinewidth": 0,
              "ticks": ""
             }
            },
            "type": "scatterternary"
           }
          ],
          "surface": [
           {
            "colorbar": {
             "outlinewidth": 0,
             "ticks": ""
            },
            "colorscale": [
             [
              0,
              "#0d0887"
             ],
             [
              0.1111111111111111,
              "#46039f"
             ],
             [
              0.2222222222222222,
              "#7201a8"
             ],
             [
              0.3333333333333333,
              "#9c179e"
             ],
             [
              0.4444444444444444,
              "#bd3786"
             ],
             [
              0.5555555555555556,
              "#d8576b"
             ],
             [
              0.6666666666666666,
              "#ed7953"
             ],
             [
              0.7777777777777778,
              "#fb9f3a"
             ],
             [
              0.8888888888888888,
              "#fdca26"
             ],
             [
              1,
              "#f0f921"
             ]
            ],
            "type": "surface"
           }
          ],
          "table": [
           {
            "cells": {
             "fill": {
              "color": "#EBF0F8"
             },
             "line": {
              "color": "white"
             }
            },
            "header": {
             "fill": {
              "color": "#C8D4E3"
             },
             "line": {
              "color": "white"
             }
            },
            "type": "table"
           }
          ]
         },
         "layout": {
          "annotationdefaults": {
           "arrowcolor": "#2a3f5f",
           "arrowhead": 0,
           "arrowwidth": 1
          },
          "autotypenumbers": "strict",
          "coloraxis": {
           "colorbar": {
            "outlinewidth": 0,
            "ticks": ""
           }
          },
          "colorscale": {
           "diverging": [
            [
             0,
             "#8e0152"
            ],
            [
             0.1,
             "#c51b7d"
            ],
            [
             0.2,
             "#de77ae"
            ],
            [
             0.3,
             "#f1b6da"
            ],
            [
             0.4,
             "#fde0ef"
            ],
            [
             0.5,
             "#f7f7f7"
            ],
            [
             0.6,
             "#e6f5d0"
            ],
            [
             0.7,
             "#b8e186"
            ],
            [
             0.8,
             "#7fbc41"
            ],
            [
             0.9,
             "#4d9221"
            ],
            [
             1,
             "#276419"
            ]
           ],
           "sequential": [
            [
             0,
             "#0d0887"
            ],
            [
             0.1111111111111111,
             "#46039f"
            ],
            [
             0.2222222222222222,
             "#7201a8"
            ],
            [
             0.3333333333333333,
             "#9c179e"
            ],
            [
             0.4444444444444444,
             "#bd3786"
            ],
            [
             0.5555555555555556,
             "#d8576b"
            ],
            [
             0.6666666666666666,
             "#ed7953"
            ],
            [
             0.7777777777777778,
             "#fb9f3a"
            ],
            [
             0.8888888888888888,
             "#fdca26"
            ],
            [
             1,
             "#f0f921"
            ]
           ],
           "sequentialminus": [
            [
             0,
             "#0d0887"
            ],
            [
             0.1111111111111111,
             "#46039f"
            ],
            [
             0.2222222222222222,
             "#7201a8"
            ],
            [
             0.3333333333333333,
             "#9c179e"
            ],
            [
             0.4444444444444444,
             "#bd3786"
            ],
            [
             0.5555555555555556,
             "#d8576b"
            ],
            [
             0.6666666666666666,
             "#ed7953"
            ],
            [
             0.7777777777777778,
             "#fb9f3a"
            ],
            [
             0.8888888888888888,
             "#fdca26"
            ],
            [
             1,
             "#f0f921"
            ]
           ]
          },
          "colorway": [
           "#636efa",
           "#EF553B",
           "#00cc96",
           "#ab63fa",
           "#FFA15A",
           "#19d3f3",
           "#FF6692",
           "#B6E880",
           "#FF97FF",
           "#FECB52"
          ],
          "font": {
           "color": "#2a3f5f"
          },
          "geo": {
           "bgcolor": "white",
           "lakecolor": "white",
           "landcolor": "#E5ECF6",
           "showlakes": true,
           "showland": true,
           "subunitcolor": "white"
          },
          "hoverlabel": {
           "align": "left"
          },
          "hovermode": "closest",
          "mapbox": {
           "style": "light"
          },
          "paper_bgcolor": "white",
          "plot_bgcolor": "#E5ECF6",
          "polar": {
           "angularaxis": {
            "gridcolor": "white",
            "linecolor": "white",
            "ticks": ""
           },
           "bgcolor": "#E5ECF6",
           "radialaxis": {
            "gridcolor": "white",
            "linecolor": "white",
            "ticks": ""
           }
          },
          "scene": {
           "xaxis": {
            "backgroundcolor": "#E5ECF6",
            "gridcolor": "white",
            "gridwidth": 2,
            "linecolor": "white",
            "showbackground": true,
            "ticks": "",
            "zerolinecolor": "white"
           },
           "yaxis": {
            "backgroundcolor": "#E5ECF6",
            "gridcolor": "white",
            "gridwidth": 2,
            "linecolor": "white",
            "showbackground": true,
            "ticks": "",
            "zerolinecolor": "white"
           },
           "zaxis": {
            "backgroundcolor": "#E5ECF6",
            "gridcolor": "white",
            "gridwidth": 2,
            "linecolor": "white",
            "showbackground": true,
            "ticks": "",
            "zerolinecolor": "white"
           }
          },
          "shapedefaults": {
           "line": {
            "color": "#2a3f5f"
           }
          },
          "ternary": {
           "aaxis": {
            "gridcolor": "white",
            "linecolor": "white",
            "ticks": ""
           },
           "baxis": {
            "gridcolor": "white",
            "linecolor": "white",
            "ticks": ""
           },
           "bgcolor": "#E5ECF6",
           "caxis": {
            "gridcolor": "white",
            "linecolor": "white",
            "ticks": ""
           }
          },
          "title": {
           "x": 0.05
          },
          "xaxis": {
           "automargin": true,
           "gridcolor": "white",
           "linecolor": "white",
           "ticks": "",
           "title": {
            "standoff": 15
           },
           "zerolinecolor": "white",
           "zerolinewidth": 2
          },
          "yaxis": {
           "automargin": true,
           "gridcolor": "white",
           "linecolor": "white",
           "ticks": "",
           "title": {
            "standoff": 15
           },
           "zerolinecolor": "white",
           "zerolinewidth": 2
          }
         }
        },
        "title": {
         "font": {
          "size": 20
         },
         "text": "Number of People Killed by Hospital",
         "x": 0.5
        },
        "xaxis": {
         "anchor": "y",
         "domain": [
          0,
          1
         ],
         "tickangle": 90,
         "title": {
          "text": "Hospital Names"
         }
        },
        "yaxis": {
         "anchor": "x",
         "domain": [
          0,
          1
         ],
         "title": {
          "text": "Number of People Killed"
         }
        }
       }
      }
     },
     "metadata": {},
     "output_type": "display_data"
    }
   ],
   "source": [
    "# Reset the index to make 'Hospital Names' a column\n",
    "hospital_stats_sorted \n",
    "\n",
    "# Create the bar plot using Plotly\n",
    "fig4 = px.bar(\n",
    "    hospital_stats_sorted, \n",
    "    x='Hospital Names', \n",
    "    y='Injured Max', \n",
    "    title='Number of People Killed by Hospital',\n",
    "    labels={'Killed Max': 'Number of People Killed', 'Hospital Names': 'Hospital Names',\n",
    "            'Injured Max': 'Number of Injureds'},\n",
    "    color='Killed Max',  # Color bars by the number of people killed\n",
    "    color_continuous_scale='Viridis'  # Use the Viridis color scale\n",
    ")\n",
    "\n",
    "# Update layout for better visuals\n",
    "fig4.update_layout(\n",
    "    xaxis_title='Hospital Names',\n",
    "    yaxis_title='Number of People Killed',\n",
    "    title_font_size=20,\n",
    "    title_x=0.5,\n",
    "    xaxis_tickangle=90  # Rotate x-axis labels for better readability\n",
    ")\n",
    "\n",
    "# Show the figure\n",
    "fig4.show()"
   ]
  },
  {
   "cell_type": "code",
   "execution_count": null,
   "metadata": {},
   "outputs": [],
   "source": [
    "import os\n",
    "if not os.path.exists(\"images\"):\n",
    "    os.makedirs(\"images\")\n",
    "fig4.write_image(\"images/injured_killed_by_hospital.png\")"
   ]
  },
  {
   "cell_type": "markdown",
   "metadata": {},
   "source": [
    "## Find the Top 10 locations of blasts"
   ]
  },
  {
   "cell_type": "code",
   "execution_count": 82,
   "metadata": {},
   "outputs": [
    {
     "data": {
      "text/html": [
       "<div>\n",
       "<style scoped>\n",
       "    .dataframe tbody tr th:only-of-type {\n",
       "        vertical-align: middle;\n",
       "    }\n",
       "\n",
       "    .dataframe tbody tr th {\n",
       "        vertical-align: top;\n",
       "    }\n",
       "\n",
       "    .dataframe thead th {\n",
       "        text-align: right;\n",
       "    }\n",
       "</style>\n",
       "<table border=\"1\" class=\"dataframe\">\n",
       "  <thead>\n",
       "    <tr style=\"text-align: right;\">\n",
       "      <th></th>\n",
       "      <th>Date</th>\n",
       "      <th>Islamic Date</th>\n",
       "      <th>Blast Day Type</th>\n",
       "      <th>Holiday Type</th>\n",
       "      <th>Time</th>\n",
       "      <th>City</th>\n",
       "      <th>Latitude</th>\n",
       "      <th>Longitude</th>\n",
       "      <th>Province</th>\n",
       "      <th>Location</th>\n",
       "      <th>Location Category</th>\n",
       "      <th>Location Sensitivity</th>\n",
       "      <th>Open/Closed Space</th>\n",
       "      <th>Influencing Event/Event</th>\n",
       "      <th>Target Type</th>\n",
       "      <th>Targeted Sect if any</th>\n",
       "      <th>Killed Min</th>\n",
       "      <th>Killed Max</th>\n",
       "      <th>Injured Min</th>\n",
       "      <th>Injured Max</th>\n",
       "      <th>No. of Suicide Blasts</th>\n",
       "      <th>Explosive Weight (max)</th>\n",
       "      <th>Hospital Names</th>\n",
       "      <th>Temperature(C)</th>\n",
       "      <th>Temperature(F)</th>\n",
       "      <th>Date/Time</th>\n",
       "      <th>Year</th>\n",
       "      <th>influ_encoded</th>\n",
       "    </tr>\n",
       "  </thead>\n",
       "  <tbody>\n",
       "    <tr>\n",
       "      <th>0</th>\n",
       "      <td>Sunday-November 19-1995</td>\n",
       "      <td>25 Jumaada al-THaany 1416 A.H</td>\n",
       "      <td>Holiday</td>\n",
       "      <td>Weekend</td>\n",
       "      <td>NaN</td>\n",
       "      <td>islamabad</td>\n",
       "      <td>33.7180</td>\n",
       "      <td>73.0718</td>\n",
       "      <td>capital</td>\n",
       "      <td>Egyptian Embassy</td>\n",
       "      <td>foreign</td>\n",
       "      <td>High</td>\n",
       "      <td>closed</td>\n",
       "      <td>NaN</td>\n",
       "      <td>foreigner</td>\n",
       "      <td>NaN</td>\n",
       "      <td>14.0</td>\n",
       "      <td>15.0</td>\n",
       "      <td>NaN</td>\n",
       "      <td>60</td>\n",
       "      <td>2.0</td>\n",
       "      <td>NaN</td>\n",
       "      <td>NaN</td>\n",
       "      <td>15.835</td>\n",
       "      <td>60.503</td>\n",
       "      <td>1995-11-19</td>\n",
       "      <td>1995</td>\n",
       "      <td>173</td>\n",
       "    </tr>\n",
       "    <tr>\n",
       "      <th>1</th>\n",
       "      <td>Monday-November 6-2000</td>\n",
       "      <td>10 SHa`baan 1421 A.H</td>\n",
       "      <td>Working Day</td>\n",
       "      <td>NaN</td>\n",
       "      <td>NaN</td>\n",
       "      <td>karachi</td>\n",
       "      <td>24.9918</td>\n",
       "      <td>66.9911</td>\n",
       "      <td>sindh</td>\n",
       "      <td>office of Nawa-e-Waqt</td>\n",
       "      <td>office building</td>\n",
       "      <td>Low</td>\n",
       "      <td>closed</td>\n",
       "      <td>NaN</td>\n",
       "      <td>media</td>\n",
       "      <td>NaN</td>\n",
       "      <td>NaN</td>\n",
       "      <td>3.0</td>\n",
       "      <td>NaN</td>\n",
       "      <td>3</td>\n",
       "      <td>1.0</td>\n",
       "      <td>NaN</td>\n",
       "      <td>NaN</td>\n",
       "      <td>23.770</td>\n",
       "      <td>74.786</td>\n",
       "      <td>2000-11-06</td>\n",
       "      <td>2000</td>\n",
       "      <td>173</td>\n",
       "    </tr>\n",
       "    <tr>\n",
       "      <th>2</th>\n",
       "      <td>Wednesday-May 8-2002</td>\n",
       "      <td>25 safar 1423 A.H</td>\n",
       "      <td>Working Day</td>\n",
       "      <td>NaN</td>\n",
       "      <td>7:45 AM</td>\n",
       "      <td>karachi</td>\n",
       "      <td>24.9918</td>\n",
       "      <td>66.9911</td>\n",
       "      <td>sindh</td>\n",
       "      <td>Pakistan Navy bus Parked outside Five Star She...</td>\n",
       "      <td>hotel</td>\n",
       "      <td>Medium</td>\n",
       "      <td>closed</td>\n",
       "      <td>NaN</td>\n",
       "      <td>foreigner</td>\n",
       "      <td>christian</td>\n",
       "      <td>13.0</td>\n",
       "      <td>15.0</td>\n",
       "      <td>20.0</td>\n",
       "      <td>40</td>\n",
       "      <td>1.0</td>\n",
       "      <td>2.5 Kg</td>\n",
       "      <td>1.Jinnah Postgraduate Medical Center 2. Civil ...</td>\n",
       "      <td>31.460</td>\n",
       "      <td>88.628</td>\n",
       "      <td>2002-05-08</td>\n",
       "      <td>2002</td>\n",
       "      <td>173</td>\n",
       "    </tr>\n",
       "    <tr>\n",
       "      <th>3</th>\n",
       "      <td>Friday-June 14-2002</td>\n",
       "      <td>3 Raby` al-THaany 1423 A.H</td>\n",
       "      <td>Working Day</td>\n",
       "      <td>NaN</td>\n",
       "      <td>11:10:00 AM</td>\n",
       "      <td>karachi</td>\n",
       "      <td>24.9918</td>\n",
       "      <td>66.9911</td>\n",
       "      <td>sindh</td>\n",
       "      <td>US Consulate Civil Lines Area</td>\n",
       "      <td>foreign</td>\n",
       "      <td>High</td>\n",
       "      <td>closed</td>\n",
       "      <td>NaN</td>\n",
       "      <td>foreigner</td>\n",
       "      <td>christian</td>\n",
       "      <td>NaN</td>\n",
       "      <td>12.0</td>\n",
       "      <td>NaN</td>\n",
       "      <td>51</td>\n",
       "      <td>1.0</td>\n",
       "      <td>NaN</td>\n",
       "      <td>NaN</td>\n",
       "      <td>31.430</td>\n",
       "      <td>88.574</td>\n",
       "      <td>2002-06-14</td>\n",
       "      <td>2002</td>\n",
       "      <td>173</td>\n",
       "    </tr>\n",
       "    <tr>\n",
       "      <th>4</th>\n",
       "      <td>Friday-July 4-2003</td>\n",
       "      <td>4 Jumaada al-awal 1424 A.H</td>\n",
       "      <td>Working Day</td>\n",
       "      <td>NaN</td>\n",
       "      <td>NaN</td>\n",
       "      <td>quetta</td>\n",
       "      <td>30.2095</td>\n",
       "      <td>67.0182</td>\n",
       "      <td>balochistan</td>\n",
       "      <td>Imambargah MeCongy Road Quetta</td>\n",
       "      <td>religious</td>\n",
       "      <td>Medium</td>\n",
       "      <td>closed</td>\n",
       "      <td>during Friday prayer</td>\n",
       "      <td>religious</td>\n",
       "      <td>shiite</td>\n",
       "      <td>44.0</td>\n",
       "      <td>47.0</td>\n",
       "      <td>NaN</td>\n",
       "      <td>65</td>\n",
       "      <td>1.0</td>\n",
       "      <td>NaN</td>\n",
       "      <td>1.CMH Quetta \\n2.Civil Hospital 3. Boland Medi...</td>\n",
       "      <td>33.120</td>\n",
       "      <td>91.616</td>\n",
       "      <td>2003-07-04</td>\n",
       "      <td>2003</td>\n",
       "      <td>137</td>\n",
       "    </tr>\n",
       "  </tbody>\n",
       "</table>\n",
       "</div>"
      ],
      "text/plain": [
       "                      Date                   Islamic Date Blast Day Type  \\\n",
       "0  Sunday-November 19-1995  25 Jumaada al-THaany 1416 A.H        Holiday   \n",
       "1   Monday-November 6-2000           10 SHa`baan 1421 A.H    Working Day   \n",
       "2     Wednesday-May 8-2002              25 safar 1423 A.H    Working Day   \n",
       "3      Friday-June 14-2002     3 Raby` al-THaany 1423 A.H    Working Day   \n",
       "4       Friday-July 4-2003     4 Jumaada al-awal 1424 A.H    Working Day   \n",
       "\n",
       "  Holiday Type         Time       City  Latitude Longitude     Province  \\\n",
       "0      Weekend          NaN  islamabad   33.7180   73.0718      capital   \n",
       "1          NaN          NaN    karachi   24.9918   66.9911        sindh   \n",
       "2          NaN      7:45 AM    karachi   24.9918   66.9911        sindh   \n",
       "3          NaN  11:10:00 AM    karachi   24.9918   66.9911        sindh   \n",
       "4          NaN          NaN     quetta   30.2095   67.0182  balochistan   \n",
       "\n",
       "                                            Location Location Category  \\\n",
       "0                                   Egyptian Embassy           foreign   \n",
       "1                              office of Nawa-e-Waqt   office building   \n",
       "2  Pakistan Navy bus Parked outside Five Star She...             hotel   \n",
       "3                     US Consulate Civil Lines Area            foreign   \n",
       "4                     Imambargah MeCongy Road Quetta         religious   \n",
       "\n",
       "  Location Sensitivity Open/Closed Space Influencing Event/Event Target Type  \\\n",
       "0                 High            closed                     NaN   foreigner   \n",
       "1                  Low            closed                     NaN       media   \n",
       "2               Medium            closed                     NaN   foreigner   \n",
       "3                 High            closed                     NaN   foreigner   \n",
       "4               Medium            closed    during Friday prayer   religious   \n",
       "\n",
       "  Targeted Sect if any  Killed Min  Killed Max  Injured Min  Injured Max  \\\n",
       "0                  NaN        14.0        15.0          NaN           60   \n",
       "1                  NaN         NaN         3.0          NaN            3   \n",
       "2            christian        13.0        15.0         20.0           40   \n",
       "3            christian         NaN        12.0          NaN           51   \n",
       "4               shiite        44.0        47.0          NaN           65   \n",
       "\n",
       "   No. of Suicide Blasts Explosive Weight (max)  \\\n",
       "0                    2.0                    NaN   \n",
       "1                    1.0                    NaN   \n",
       "2                    1.0                 2.5 Kg   \n",
       "3                    1.0                    NaN   \n",
       "4                    1.0                    NaN   \n",
       "\n",
       "                                      Hospital Names  Temperature(C)  \\\n",
       "0                                                NaN          15.835   \n",
       "1                                                NaN          23.770   \n",
       "2  1.Jinnah Postgraduate Medical Center 2. Civil ...          31.460   \n",
       "3                                                NaN          31.430   \n",
       "4  1.CMH Quetta \\n2.Civil Hospital 3. Boland Medi...          33.120   \n",
       "\n",
       "   Temperature(F)  Date/Time  Year  influ_encoded  \n",
       "0          60.503 1995-11-19  1995            173  \n",
       "1          74.786 2000-11-06  2000            173  \n",
       "2          88.628 2002-05-08  2002            173  \n",
       "3          88.574 2002-06-14  2002            173  \n",
       "4          91.616 2003-07-04  2003            137  "
      ]
     },
     "execution_count": 82,
     "metadata": {},
     "output_type": "execute_result"
    }
   ],
   "source": [
    "df.head()"
   ]
  },
  {
   "cell_type": "code",
   "execution_count": 84,
   "metadata": {},
   "outputs": [
    {
     "data": {
      "text/plain": [
       "487"
      ]
     },
     "execution_count": 84,
     "metadata": {},
     "output_type": "execute_result"
    }
   ],
   "source": [
    "df['Location'].nunique()"
   ]
  },
  {
   "cell_type": "code",
   "execution_count": 116,
   "metadata": {},
   "outputs": [
    {
     "data": {
      "text/html": [
       "<div>\n",
       "<style scoped>\n",
       "    .dataframe tbody tr th:only-of-type {\n",
       "        vertical-align: middle;\n",
       "    }\n",
       "\n",
       "    .dataframe tbody tr th {\n",
       "        vertical-align: top;\n",
       "    }\n",
       "\n",
       "    .dataframe thead th {\n",
       "        text-align: right;\n",
       "    }\n",
       "</style>\n",
       "<table border=\"1\" class=\"dataframe\">\n",
       "  <thead>\n",
       "    <tr style=\"text-align: right;\">\n",
       "      <th></th>\n",
       "      <th>Location</th>\n",
       "      <th>No. of Suicide Blasts</th>\n",
       "    </tr>\n",
       "  </thead>\n",
       "  <tbody>\n",
       "    <tr>\n",
       "      <th>0</th>\n",
       "      <td>FC Check Post</td>\n",
       "      <td>4.0</td>\n",
       "    </tr>\n",
       "    <tr>\n",
       "      <th>1</th>\n",
       "      <td>Maryan police station in Frontier Region Bannu</td>\n",
       "      <td>4.0</td>\n",
       "    </tr>\n",
       "    <tr>\n",
       "      <th>2</th>\n",
       "      <td>1)First blast lower mal gate 2)Ghaznavi street...</td>\n",
       "      <td>3.0</td>\n",
       "    </tr>\n",
       "    <tr>\n",
       "      <th>3</th>\n",
       "      <td>District police officer's office</td>\n",
       "      <td>3.0</td>\n",
       "    </tr>\n",
       "    <tr>\n",
       "      <th>4</th>\n",
       "      <td>C-Division Police Station (Kotwali police Stat...</td>\n",
       "      <td>3.0</td>\n",
       "    </tr>\n",
       "    <tr>\n",
       "      <th>5</th>\n",
       "      <td>Parachinar town in the restive tribal bel</td>\n",
       "      <td>3.0</td>\n",
       "    </tr>\n",
       "    <tr>\n",
       "      <th>6</th>\n",
       "      <td>ANP rally in Timergara</td>\n",
       "      <td>3.0</td>\n",
       "    </tr>\n",
       "    <tr>\n",
       "      <th>7</th>\n",
       "      <td>FC headquarters in Shabqadar-30km from peshawar</td>\n",
       "      <td>2.0</td>\n",
       "    </tr>\n",
       "    <tr>\n",
       "      <th>8</th>\n",
       "      <td>Wah Cant Pakistn Ordinance Factories</td>\n",
       "      <td>2.0</td>\n",
       "    </tr>\n",
       "    <tr>\n",
       "      <th>9</th>\n",
       "      <td>FC DIG's residence at Anscumb road</td>\n",
       "      <td>2.0</td>\n",
       "    </tr>\n",
       "  </tbody>\n",
       "</table>\n",
       "</div>"
      ],
      "text/plain": [
       "                                            Location  No. of Suicide Blasts\n",
       "0                                      FC Check Post                    4.0\n",
       "1     Maryan police station in Frontier Region Bannu                    4.0\n",
       "2  1)First blast lower mal gate 2)Ghaznavi street...                    3.0\n",
       "3                   District police officer's office                    3.0\n",
       "4  C-Division Police Station (Kotwali police Stat...                    3.0\n",
       "5          Parachinar town in the restive tribal bel                    3.0\n",
       "6                            ANP rally in Timergara                     3.0\n",
       "7    FC headquarters in Shabqadar-30km from peshawar                    2.0\n",
       "8              Wah Cant Pakistn Ordinance Factories                     2.0\n",
       "9                FC DIG's residence at Anscumb road                     2.0"
      ]
     },
     "execution_count": 116,
     "metadata": {},
     "output_type": "execute_result"
    }
   ],
   "source": [
    "top10_suicide = df.groupby('Location')['No. of Suicide Blasts'].sum().sort_values(ascending=False).reset_index().head(10)\n",
    "top10_suicide"
   ]
  },
  {
   "cell_type": "code",
   "execution_count": 122,
   "metadata": {},
   "outputs": [
    {
     "data": {
      "image/png": "[encoded data removed]",
      "text/plain": [
       "<Figure size 640x480 with 1 Axes>"
      ]
     },
     "metadata": {},
     "output_type": "display_data"
    }
   ],
   "source": [
    "sns.color_palette('Set2')\n",
    "sns.barplot(top10_suicide, x='Location', y='No. of Suicide Blasts')\n",
    "plt.xlabel('Hospital')\n",
    "plt.ylabel('No. of Suicide Blasts')\n",
    "plt.xticks(rotation=90)\n",
    "import os\n",
    "if not os.path.exists(\"images\"):\n",
    "    os.makedirs(\"images\")\n",
    "plt.savefig(\"images/blasts_by_location.png\", bbox_inches='tight')\n",
    "plt.show()"
   ]
  }
 ],
 "metadata": {
  "kernelspec": {
   "display_name": "ML3",
   "language": "python",
   "name": "python3"
  },
  "language_info": {
   "codemirror_mode": {
    "name": "ipython",
    "version": 3
   },
   "file_extension": ".py",
   "mimetype": "text/x-python",
   "name": "python",
   "nbconvert_exporter": "python",
   "pygments_lexer": "ipython3",
   "version": "3.10.15"
  }
 },
 "nbformat": 4,
 "nbformat_minor": 2
}
